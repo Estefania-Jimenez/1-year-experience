{
  "cells": [
    {
      "cell_type": "markdown",
      "metadata": {
        "id": "cTqN5p2jKYbU"
      },
      "source": [
        "## **README**\n",
        "\n",
        "**ANÁLISIS DE UN DATASET (ORIENTACIÓN DATA SCIENTIST)**\n",
        "\n",
        "Este análisis forma parte de un proceso de evaluación del Máster Big Data & Data Science de la Universidad Complutense de Madrid y año académico 2023/2024.\n",
        "\n",
        "**Propuesta de proyecto**:\n",
        "\n",
        "Desarrollo de un sistema de recomendación que sugiera películas a los usuarios en función de su historial de visualización y preferencias.\n",
        "\n",
        "**Recopilación y preprocesamiento de datos**\n",
        "\n",
        "**Fuente de datos:** conjunto de datos de clasificaciones de usuarios y metadatos de películas. The Movies Dataset **(Kaggle)**\n",
        "\n",
        "URL: https://www.kaggle.com/datasets/rounakbanik/the-movies-dataset\n",
        "\n",
        "**Descripción del conjunto de datos:**\n",
        "\n",
        "Este conjunto de datos en Kaggle contiene metadatos de más de 45.000 películas, 26 millones de valoraciones de más de 270.000 usuarios. Incluye clasificaciones, resúmenes, géneros y créditos.\n",
        "\n",
        "## **Licencia de los datos:**\n",
        "\n",
        "El conjunto de datos utilizado en este proyecto está **licenciado bajo CC0: Dominio público.**\n",
        "\n",
        "\n",
        "## **Agradecimientos:**\n",
        "\n",
        "**Este proyecto utiliza datos recopilados de TMDB y GroupLens.**\n",
        "\n",
        "### **Datos de TMDB:**\n",
        "\n",
        "Los detalles de la película, los créditos y las palabras clave se han recopilado de la API abierta de TMDB. **Este producto utiliza la API de TMDb pero no está respaldado ni certificado por TMDb. Su API también brinda acceso a datos sobre muchas películas, actores y actrices, miembros del equipo y programas de televisión adicionales.**\n",
        "\n",
        "### **Datos de GroupLens:**\n",
        "\n",
        "Los conjuntos de datos de MovieLens se obtuvieron del sitio web oficial de GroupLens. Estos conjuntos de datos incluyen calificaciones y metadatos de películas recopilados de usuarios.\n",
        "\n",
        "### **Citación para GroupLens:**\n",
        "\n",
        "Para reconocer el uso del conjunto de datos en publicaciones, citar el siguiente artículo:\n",
        "\n",
        "**F. Maxwell Harper y Joseph A. Konstan. 2015. Los conjuntos de datos de MovieLens: historia y contexto. Transacciones ACM sobre sistemas inteligentes interactivos (TiiS) 5, 4: 19:1–19:19. https://doi.org/10.1145/2827872.**\n",
        "\n",
        "### **Datos de IMDb:**\n",
        "\n",
        "Para trabajos académicos y no comerciales, IMDb ofrece una subsección de datos de IMDb para descargar únicamente para uso no comercial y no profesional. Para obtener más detalles, consultar:\n",
        "\n",
        "https://www.imdb.com/interfaces/\n",
        "\n",
        "Este conjunto de datos es estrictamente para uso académico y cualquier uso del contenido de IMDb en un entorno, servicio o producto comercial requiere una licencia de contenido comercial con IMDb.\n",
        "\n",
        "\n",
        "### **Citación para IMDb:**\n",
        "\n",
        "**Datos cortesía de IMDb.**"
      ]
    },
    {
      "cell_type": "markdown",
      "metadata": {
        "id": "Saal6qSqi6l8"
      },
      "source": [
        "# **Sistema de recomendación de películas**\n",
        "\n",
        "## Estructura del proyecto:\n",
        "\n",
        "1. **Propuesta de proyecto**: Descripción general del proyecto y objetivos.\n",
        "2. **Recopilación y preprocesamiento de datos**: Obtención y preparación de los datos.\n",
        "3. **Análisis exploratorio de datos (EDA)**: Exploración de los datos para comprender su estructura y distribución.\n",
        "4. **Filtrado colaborativo**: Implementación de técnicas de filtrado colaborativo.\n",
        "5. **Filtrado basado en contenido**: Utilización de características de las películas para recomendaciones.\n",
        "6. **Creación de modelo**: Desarrollo de modelos de recomendación.\n",
        "7. **Evaluación y rendimiento del modelo**: Evaluación de la efectividad del sistema de recomendación.\n",
        "8. **Sistema de recomendación híbrido**: Integración de filtrado colaborativo y basado en contenido.\n"
      ]
    },
    {
      "cell_type": "markdown",
      "metadata": {
        "id": "LM0bI97Lq6n5"
      },
      "source": [
        "# **1. Propuesta de proyecto:** Descripción general del proyecto y objetivos."
      ]
    },
    {
      "cell_type": "markdown",
      "metadata": {
        "id": "IrUWqXGjpZXn"
      },
      "source": [
        "\n",
        "Este proyecto tiene como objetivo desarrollar un sistema de recomendación de películas utilizando técnicas de filtrado colaborativo y basado en contenido.\n",
        "\n",
        "\n",
        "A lo largo del desarrollo del proyecto, se seguirá el esquema detallado en la propuesta, desde la recopilación y preprocesamiento de datos hasta la evaluación del modelo y la creación de un sistema de recomendación híbrido."
      ]
    },
    {
      "cell_type": "markdown",
      "metadata": {
        "id": "5LbfpwF_rFMv"
      },
      "source": [
        "# **2. Recopilación y preprocesamiento de datos**: Obtención y preparación de los datos."
      ]
    },
    {
      "cell_type": "code",
      "execution_count": null,
      "metadata": {
        "id": "4SRwBIYaW56m",
        "colab": {
          "base_uri": "https://localhost:8080/"
        },
        "outputId": "4cc61df2-f4ac-4569-c858-7cec8490a4a8"
      },
      "outputs": [
        {
          "output_type": "stream",
          "name": "stdout",
          "text": [
            "Mounted at /content/drive\n"
          ]
        },
        {
          "output_type": "stream",
          "name": "stderr",
          "text": [
            "<ipython-input-1-ca008fc9191c>:21: DtypeWarning: Columns (10) have mixed types. Specify dtype option on import or set low_memory=False.\n",
            "  movies_metadata = pd.read_csv(ruta_movies_metadata)\n"
          ]
        }
      ],
      "source": [
        "from google.colab import drive\n",
        "import pandas as pd\n",
        "\n",
        "# Montar Google Drive\n",
        "drive.mount('/content/drive')\n",
        "\n",
        "# Rutas de los archivos en Google Drive\n",
        "ruta_credits = '/content/drive/My Drive/TFM_Recomendador_de_peliculas/credits.csv'\n",
        "ruta_keywords = '/content/drive/My Drive/TFM_Recomendador_de_peliculas/keywords.csv'\n",
        "ruta_links_small = '/content/drive/My Drive/TFM_Recomendador_de_peliculas/links_small.csv'\n",
        "ruta_links = '/content/drive/My Drive/TFM_Recomendador_de_peliculas/links.csv'\n",
        "ruta_movies_metadata = '/content/drive/My Drive/TFM_Recomendador_de_peliculas/movies_metadata.csv'\n",
        "ruta_ratings_small = '/content/drive/My Drive/TFM_Recomendador_de_peliculas/ratings_small.csv'\n",
        "ruta_ratings = '/content/drive/My Drive/TFM_Recomendador_de_peliculas/ratings.csv'\n",
        "\n",
        "# Leer los archivos CSV\n",
        "credits = pd.read_csv(ruta_credits)\n",
        "keywords = pd.read_csv(ruta_keywords)\n",
        "links_small = pd.read_csv(ruta_links_small)\n",
        "links = pd.read_csv(ruta_links)\n",
        "movies_metadata = pd.read_csv(ruta_movies_metadata)\n",
        "ratings_small = pd.read_csv(ruta_ratings_small)\n",
        "ratings = pd.read_csv(ruta_ratings)\n"
      ]
    },
    {
      "cell_type": "markdown",
      "metadata": {
        "id": "0e2K74pYzcx2"
      },
      "source": [
        "# **3. Análisis exploratorio de datos (EDA):** Exploración de los datos para comprender su estructura y distribución.\n",
        "\n",
        "Dado que estamos desarrollando un sistema de recomendación de películas, vamos a centrar el análisis exploratorio de datos (EDA) en comprender mejor las características de las películas, las preferencias de los usuarios y cualquier otro aspecto relevante para el sistema de recomendación.\n",
        "\n"
      ]
    },
    {
      "cell_type": "markdown",
      "metadata": {
        "id": "Yytwm2sZ1B2L"
      },
      "source": [
        "**Entendiendo la estructura y el contenido de cada DataFrame.**"
      ]
    },
    {
      "cell_type": "code",
      "execution_count": null,
      "metadata": {
        "id": "fwJc70neyYTe",
        "colab": {
          "base_uri": "https://localhost:8080/"
        },
        "outputId": "6d0ed542-7ec7-4e25-a369-eafe70492fe3"
      },
      "outputs": [
        {
          "output_type": "stream",
          "name": "stdout",
          "text": [
            "Credits DataFrame:\n",
            "                                                cast  \\\n",
            "0  [{'cast_id': 14, 'character': 'Woody (voice)',...   \n",
            "1  [{'cast_id': 1, 'character': 'Alan Parrish', '...   \n",
            "2  [{'cast_id': 2, 'character': 'Max Goldman', 'c...   \n",
            "3  [{'cast_id': 1, 'character': \"Savannah 'Vannah...   \n",
            "4  [{'cast_id': 1, 'character': 'George Banks', '...   \n",
            "\n",
            "                                                crew     id  \n",
            "0  [{'credit_id': '52fe4284c3a36847f8024f49', 'de...    862  \n",
            "1  [{'credit_id': '52fe44bfc3a36847f80a7cd1', 'de...   8844  \n",
            "2  [{'credit_id': '52fe466a9251416c75077a89', 'de...  15602  \n",
            "3  [{'credit_id': '52fe44779251416c91011acb', 'de...  31357  \n",
            "4  [{'credit_id': '52fe44959251416c75039ed7', 'de...  11862  \n",
            "\n",
            "\n",
            "Keywords DataFrame:\n",
            "      id                                           keywords\n",
            "0    862  [{'id': 931, 'name': 'jealousy'}, {'id': 4290,...\n",
            "1   8844  [{'id': 10090, 'name': 'board game'}, {'id': 1...\n",
            "2  15602  [{'id': 1495, 'name': 'fishing'}, {'id': 12392...\n",
            "3  31357  [{'id': 818, 'name': 'based on novel'}, {'id':...\n",
            "4  11862  [{'id': 1009, 'name': 'baby'}, {'id': 1599, 'n...\n",
            "\n",
            "\n",
            "Links Small DataFrame:\n",
            "   movieId  imdbId   tmdbId\n",
            "0        1  114709    862.0\n",
            "1        2  113497   8844.0\n",
            "2        3  113228  15602.0\n",
            "3        4  114885  31357.0\n",
            "4        5  113041  11862.0\n",
            "\n",
            "\n",
            "Links DataFrame:\n",
            "   movieId  imdbId   tmdbId\n",
            "0        1  114709    862.0\n",
            "1        2  113497   8844.0\n",
            "2        3  113228  15602.0\n",
            "3        4  114885  31357.0\n",
            "4        5  113041  11862.0\n",
            "\n",
            "\n",
            "Movies Metadata DataFrame:\n",
            "   adult                              belongs_to_collection    budget  \\\n",
            "0  False  {'id': 10194, 'name': 'Toy Story Collection', ...  30000000   \n",
            "1  False                                                NaN  65000000   \n",
            "2  False  {'id': 119050, 'name': 'Grumpy Old Men Collect...         0   \n",
            "3  False                                                NaN  16000000   \n",
            "4  False  {'id': 96871, 'name': 'Father of the Bride Col...         0   \n",
            "\n",
            "                                              genres  \\\n",
            "0  [{'id': 16, 'name': 'Animation'}, {'id': 35, '...   \n",
            "1  [{'id': 12, 'name': 'Adventure'}, {'id': 14, '...   \n",
            "2  [{'id': 10749, 'name': 'Romance'}, {'id': 35, ...   \n",
            "3  [{'id': 35, 'name': 'Comedy'}, {'id': 18, 'nam...   \n",
            "4                     [{'id': 35, 'name': 'Comedy'}]   \n",
            "\n",
            "                               homepage     id    imdb_id original_language  \\\n",
            "0  http://toystory.disney.com/toy-story    862  tt0114709                en   \n",
            "1                                   NaN   8844  tt0113497                en   \n",
            "2                                   NaN  15602  tt0113228                en   \n",
            "3                                   NaN  31357  tt0114885                en   \n",
            "4                                   NaN  11862  tt0113041                en   \n",
            "\n",
            "                original_title  \\\n",
            "0                    Toy Story   \n",
            "1                      Jumanji   \n",
            "2             Grumpier Old Men   \n",
            "3            Waiting to Exhale   \n",
            "4  Father of the Bride Part II   \n",
            "\n",
            "                                            overview  ... release_date  \\\n",
            "0  Led by Woody, Andy's toys live happily in his ...  ...   1995-10-30   \n",
            "1  When siblings Judy and Peter discover an encha...  ...   1995-12-15   \n",
            "2  A family wedding reignites the ancient feud be...  ...   1995-12-22   \n",
            "3  Cheated on, mistreated and stepped on, the wom...  ...   1995-12-22   \n",
            "4  Just when George Banks has recovered from his ...  ...   1995-02-10   \n",
            "\n",
            "       revenue runtime                                   spoken_languages  \\\n",
            "0  373554033.0    81.0           [{'iso_639_1': 'en', 'name': 'English'}]   \n",
            "1  262797249.0   104.0  [{'iso_639_1': 'en', 'name': 'English'}, {'iso...   \n",
            "2          0.0   101.0           [{'iso_639_1': 'en', 'name': 'English'}]   \n",
            "3   81452156.0   127.0           [{'iso_639_1': 'en', 'name': 'English'}]   \n",
            "4   76578911.0   106.0           [{'iso_639_1': 'en', 'name': 'English'}]   \n",
            "\n",
            "     status                                            tagline  \\\n",
            "0  Released                                                NaN   \n",
            "1  Released          Roll the dice and unleash the excitement!   \n",
            "2  Released  Still Yelling. Still Fighting. Still Ready for...   \n",
            "3  Released  Friends are the people who let you be yourself...   \n",
            "4  Released  Just When His World Is Back To Normal... He's ...   \n",
            "\n",
            "                         title  video vote_average vote_count  \n",
            "0                    Toy Story  False          7.7     5415.0  \n",
            "1                      Jumanji  False          6.9     2413.0  \n",
            "2             Grumpier Old Men  False          6.5       92.0  \n",
            "3            Waiting to Exhale  False          6.1       34.0  \n",
            "4  Father of the Bride Part II  False          5.7      173.0  \n",
            "\n",
            "[5 rows x 24 columns]\n",
            "\n",
            "\n",
            "Ratings Small DataFrame:\n",
            "   userId  movieId  rating   timestamp\n",
            "0       1       31     2.5  1260759144\n",
            "1       1     1029     3.0  1260759179\n",
            "2       1     1061     3.0  1260759182\n",
            "3       1     1129     2.0  1260759185\n",
            "4       1     1172     4.0  1260759205\n",
            "\n",
            "\n",
            "Ratings DataFrame:\n",
            "   userId  movieId  rating   timestamp\n",
            "0       1      110     1.0  1425941529\n",
            "1       1      147     4.5  1425942435\n",
            "2       1      858     5.0  1425941523\n",
            "3       1     1221     5.0  1425941546\n",
            "4       1     1246     5.0  1425941556\n",
            "\n",
            "\n",
            "Credits DataFrame info:\n",
            "<class 'pandas.core.frame.DataFrame'>\n",
            "RangeIndex: 45476 entries, 0 to 45475\n",
            "Data columns (total 3 columns):\n",
            " #   Column  Non-Null Count  Dtype \n",
            "---  ------  --------------  ----- \n",
            " 0   cast    45476 non-null  object\n",
            " 1   crew    45476 non-null  object\n",
            " 2   id      45476 non-null  int64 \n",
            "dtypes: int64(1), object(2)\n",
            "memory usage: 1.0+ MB\n",
            "None\n",
            "\n",
            "\n",
            "Keywords DataFrame info:\n",
            "<class 'pandas.core.frame.DataFrame'>\n",
            "RangeIndex: 46419 entries, 0 to 46418\n",
            "Data columns (total 2 columns):\n",
            " #   Column    Non-Null Count  Dtype \n",
            "---  ------    --------------  ----- \n",
            " 0   id        46419 non-null  int64 \n",
            " 1   keywords  46419 non-null  object\n",
            "dtypes: int64(1), object(1)\n",
            "memory usage: 725.4+ KB\n",
            "None\n",
            "\n",
            "\n",
            "Links Small DataFrame info:\n",
            "<class 'pandas.core.frame.DataFrame'>\n",
            "RangeIndex: 9125 entries, 0 to 9124\n",
            "Data columns (total 3 columns):\n",
            " #   Column   Non-Null Count  Dtype  \n",
            "---  ------   --------------  -----  \n",
            " 0   movieId  9125 non-null   int64  \n",
            " 1   imdbId   9125 non-null   int64  \n",
            " 2   tmdbId   9112 non-null   float64\n",
            "dtypes: float64(1), int64(2)\n",
            "memory usage: 214.0 KB\n",
            "None\n",
            "\n",
            "\n",
            "Links DataFrame info:\n",
            "<class 'pandas.core.frame.DataFrame'>\n",
            "RangeIndex: 45843 entries, 0 to 45842\n",
            "Data columns (total 3 columns):\n",
            " #   Column   Non-Null Count  Dtype  \n",
            "---  ------   --------------  -----  \n",
            " 0   movieId  45843 non-null  int64  \n",
            " 1   imdbId   45843 non-null  int64  \n",
            " 2   tmdbId   45624 non-null  float64\n",
            "dtypes: float64(1), int64(2)\n",
            "memory usage: 1.0 MB\n",
            "None\n",
            "\n",
            "\n",
            "Movies Metadata DataFrame info:\n",
            "<class 'pandas.core.frame.DataFrame'>\n",
            "RangeIndex: 45466 entries, 0 to 45465\n",
            "Data columns (total 24 columns):\n",
            " #   Column                 Non-Null Count  Dtype  \n",
            "---  ------                 --------------  -----  \n",
            " 0   adult                  45466 non-null  object \n",
            " 1   belongs_to_collection  4494 non-null   object \n",
            " 2   budget                 45466 non-null  object \n",
            " 3   genres                 45466 non-null  object \n",
            " 4   homepage               7782 non-null   object \n",
            " 5   id                     45466 non-null  object \n",
            " 6   imdb_id                45449 non-null  object \n",
            " 7   original_language      45455 non-null  object \n",
            " 8   original_title         45466 non-null  object \n",
            " 9   overview               44512 non-null  object \n",
            " 10  popularity             45461 non-null  object \n",
            " 11  poster_path            45080 non-null  object \n",
            " 12  production_companies   45463 non-null  object \n",
            " 13  production_countries   45463 non-null  object \n",
            " 14  release_date           45379 non-null  object \n",
            " 15  revenue                45460 non-null  float64\n",
            " 16  runtime                45203 non-null  float64\n",
            " 17  spoken_languages       45460 non-null  object \n",
            " 18  status                 45379 non-null  object \n",
            " 19  tagline                20412 non-null  object \n",
            " 20  title                  45460 non-null  object \n",
            " 21  video                  45460 non-null  object \n",
            " 22  vote_average           45460 non-null  float64\n",
            " 23  vote_count             45460 non-null  float64\n",
            "dtypes: float64(4), object(20)\n",
            "memory usage: 8.3+ MB\n",
            "None\n",
            "\n",
            "\n",
            "Ratings Small DataFrame info:\n",
            "<class 'pandas.core.frame.DataFrame'>\n",
            "RangeIndex: 100004 entries, 0 to 100003\n",
            "Data columns (total 4 columns):\n",
            " #   Column     Non-Null Count   Dtype  \n",
            "---  ------     --------------   -----  \n",
            " 0   userId     100004 non-null  int64  \n",
            " 1   movieId    100004 non-null  int64  \n",
            " 2   rating     100004 non-null  float64\n",
            " 3   timestamp  100004 non-null  int64  \n",
            "dtypes: float64(1), int64(3)\n",
            "memory usage: 3.1 MB\n",
            "None\n",
            "\n",
            "\n",
            "Ratings DataFrame info:\n",
            "<class 'pandas.core.frame.DataFrame'>\n",
            "RangeIndex: 26024289 entries, 0 to 26024288\n",
            "Data columns (total 4 columns):\n",
            " #   Column     Dtype  \n",
            "---  ------     -----  \n",
            " 0   userId     int64  \n",
            " 1   movieId    int64  \n",
            " 2   rating     float64\n",
            " 3   timestamp  int64  \n",
            "dtypes: float64(1), int64(3)\n",
            "memory usage: 794.2 MB\n",
            "None\n",
            "\n",
            "\n"
          ]
        }
      ],
      "source": [
        "# Mostrar las primeras filas de cada DataFrame\n",
        "print(\"Credits DataFrame:\")\n",
        "print(credits.head())\n",
        "print(\"\\n\")\n",
        "\n",
        "print(\"Keywords DataFrame:\")\n",
        "print(keywords.head())\n",
        "print(\"\\n\")\n",
        "\n",
        "print(\"Links Small DataFrame:\")\n",
        "print(links_small.head())\n",
        "print(\"\\n\")\n",
        "\n",
        "print(\"Links DataFrame:\")\n",
        "print(links.head())\n",
        "print(\"\\n\")\n",
        "\n",
        "print(\"Movies Metadata DataFrame:\")\n",
        "print(movies_metadata.head())\n",
        "print(\"\\n\")\n",
        "\n",
        "print(\"Ratings Small DataFrame:\")\n",
        "print(ratings_small.head())\n",
        "print(\"\\n\")\n",
        "\n",
        "print(\"Ratings DataFrame:\")\n",
        "print(ratings.head())\n",
        "print(\"\\n\")\n",
        "\n",
        "# Mostrar información sobre las columnas y los tipos de datos de cada DataFrame\n",
        "print(\"Credits DataFrame info:\")\n",
        "print(credits.info())\n",
        "print(\"\\n\")\n",
        "\n",
        "print(\"Keywords DataFrame info:\")\n",
        "print(keywords.info())\n",
        "print(\"\\n\")\n",
        "\n",
        "print(\"Links Small DataFrame info:\")\n",
        "print(links_small.info())\n",
        "print(\"\\n\")\n",
        "\n",
        "print(\"Links DataFrame info:\")\n",
        "print(links.info())\n",
        "print(\"\\n\")\n",
        "\n",
        "print(\"Movies Metadata DataFrame info:\")\n",
        "print(movies_metadata.info())\n",
        "print(\"\\n\")\n",
        "\n",
        "print(\"Ratings Small DataFrame info:\")\n",
        "print(ratings_small.info())\n",
        "print(\"\\n\")\n",
        "\n",
        "print(\"Ratings DataFrame info:\")\n",
        "print(ratings.info())\n",
        "print(\"\\n\")\n"
      ]
    },
    {
      "cell_type": "markdown",
      "metadata": {
        "id": "MsKwPXCvrzZ8"
      },
      "source": [
        "# **Movies Metadata**"
      ]
    },
    {
      "cell_type": "markdown",
      "metadata": {
        "id": "K81fUQ2z3CnB"
      },
      "source": [
        "# **Exploración de la distribución de géneros de películas**\n",
        "\n",
        "Procedemos a calcular cuáles son los géneros de películas más populares para comprender mejor qué tipos de películas están presentes en nuestro conjunto de datos.\n"
      ]
    },
    {
      "cell_type": "code",
      "execution_count": null,
      "metadata": {
        "id": "drcVMHFp5wKj",
        "colab": {
          "base_uri": "https://localhost:8080/"
        },
        "outputId": "d0f50c1f-a54a-4b51-ce4d-6fea8642d860"
      },
      "outputs": [
        {
          "output_type": "stream",
          "name": "stdout",
          "text": [
            "                                    Genre  Frequency\n",
            "6                                   Drama      20265\n",
            "1                                  Comedy      13182\n",
            "9                                Thriller       7624\n",
            "5                                 Romance       6735\n",
            "7                                  Action       6596\n",
            "10                                 Horror       4673\n",
            "8                                   Crime       4307\n",
            "17                            Documentary       3932\n",
            "3                               Adventure       3496\n",
            "12                        Science Fiction       3049\n",
            "2                                  Family       2770\n",
            "13                                Mystery       2467\n",
            "4                                 Fantasy       2313\n",
            "0                               Animation       1935\n",
            "15                                Foreign       1622\n",
            "16                                  Music       1598\n",
            "11                                History       1398\n",
            "14                                    War       1323\n",
            "18                                Western       1042\n",
            "19                               TV Movie        767\n",
            "20                   Carousel Productions          1\n",
            "21              Vision View Entertainment          1\n",
            "22       Telescene Film Group Productions          1\n",
            "23                                Aniplex          1\n",
            "24                                GoHands          1\n",
            "25                              BROSTA TV          1\n",
            "26  Mardock Scramble Production Committee          1\n",
            "27                       Sentai Filmworks          1\n",
            "28                          Odyssey Media          1\n",
            "29                     Pulser Productions          1\n",
            "30                            Rogue State          1\n",
            "31                             The Cartel          1\n"
          ]
        }
      ],
      "source": [
        "import pandas as pd\n",
        "import ast\n",
        "\n",
        "# Inicializar un diccionario para contar la frecuencia de cada género\n",
        "genre_counts = {}\n",
        "\n",
        "# Iterar sobre cada fila del DataFrame para contar la frecuencia de cada género\n",
        "for genres_str in movies_metadata['genres']:\n",
        "    genres_list = ast.literal_eval(genres_str)  # Convertir la cadena a una lista de diccionarios\n",
        "    for genre in genres_list:\n",
        "        name = genre['name']\n",
        "        if name in genre_counts:\n",
        "            genre_counts[name] += 1\n",
        "        else:\n",
        "            genre_counts[name] = 1\n",
        "\n",
        "# Convertir el diccionario en un DataFrame para mejor visualización\n",
        "genre_counts_df = pd.DataFrame(list(genre_counts.items()), columns=['Genre', 'Frequency'])\n",
        "\n",
        "# Ordenar el DataFrame por frecuencia en orden descendente\n",
        "genre_counts_df = genre_counts_df.sort_values(by='Frequency', ascending=False)\n",
        "\n",
        "print(genre_counts_df)\n"
      ]
    },
    {
      "cell_type": "markdown",
      "metadata": {
        "id": "LLZ9m1ZS_7DI"
      },
      "source": [
        "Como podemos observar, los géneros más comunes son Drama, Comedia y Thriller, mientras que los menos comunes incluyen War, Western, TV Movie y varios otros géneros menos convencionales."
      ]
    },
    {
      "cell_type": "markdown",
      "metadata": {
        "id": "wChAavYpApbF"
      },
      "source": [
        "# **Estadísticas Descriptivas** (columna runtime)\n",
        "\n",
        "Primero calcularemos a partir de la columna **runtime** estadísticas descriptivas como la duración media, mínima, máxima y la desviación estándar y visualizaremos esta distribución utilizando un histograma."
      ]
    },
    {
      "cell_type": "code",
      "execution_count": null,
      "metadata": {
        "id": "ClATdKlCA6B4",
        "colab": {
          "base_uri": "https://localhost:8080/",
          "height": 744
        },
        "outputId": "2397e5f7-6536-43da-a9ac-7ea079705203"
      },
      "outputs": [
        {
          "output_type": "stream",
          "name": "stdout",
          "text": [
            "Estadísticas descriptivas de la duración de las películas:\n",
            "count    45203.000000\n",
            "mean        94.128199\n",
            "std         38.407810\n",
            "min          0.000000\n",
            "25%         85.000000\n",
            "50%         95.000000\n",
            "75%        107.000000\n",
            "max       1256.000000\n",
            "Name: runtime, dtype: float64\n"
          ]
        },
        {
          "output_type": "display_data",
          "data": {
            "text/plain": [
              "<Figure size 1000x600 with 1 Axes>"
            ],
            "image/png": "[encoded data removed]"
          },
          "metadata": {}
        }
      ],
      "source": [
        "import pandas as pd\n",
        "import matplotlib.pyplot as plt\n",
        "\n",
        "# Calcular estadísticas descriptivas de la duración de las películas\n",
        "duration_stats = movies_metadata['runtime'].describe()\n",
        "\n",
        "# Imprimir las estadísticas descriptivas\n",
        "print(\"Estadísticas descriptivas de la duración de las películas:\")\n",
        "print(duration_stats)\n",
        "\n",
        "# Crear un histograma de la duración de las películas\n",
        "plt.figure(figsize=(10, 6))\n",
        "plt.hist(movies_metadata['runtime'].dropna(), bins=30, color='skyblue', edgecolor='black')\n",
        "plt.title('Distribución de la duración de las películas')\n",
        "plt.xlabel('Duración (minutos)')\n",
        "plt.ylabel('Frecuencia')\n",
        "plt.grid(True)\n",
        "plt.show()\n"
      ]
    },
    {
      "cell_type": "markdown",
      "metadata": {
        "id": "w5yfXzuUhGlJ"
      },
      "source": [
        "**Comentario estadísticas descriptivas:**\n",
        "\n",
        "**Count (Recuento):** Hay un total de 45,203 películas con valores de duración disponibles.\n",
        "\n",
        "**Mean (Media):** La duración promedio de las películas es de aproximadamente 94 minutos.\n",
        "\n",
        "**Std (Desviación estándar):** La desviación estándar es de aproximadamente 38.41 minutos, lo que indica la dispersión de los datos alrededor de la media.\n",
        "\n",
        "**Min (Mínimo):** La duración mínima de una película es 0 minutos, lo que probablemente indique datos faltantes o películas extremadamente cortas.\n",
        "\n",
        "**25% (Percentil 25):** El 25% de las películas tienen una duración de 85 minutos o menos.\n",
        "\n",
        "**50% (Percentil 50 o Mediana):** El 50% de las películas tienen una duración de 95 minutos o menos.\n",
        "\n",
        "**75% (Percentil 75):** El 75% de las películas tienen una duración de 107 minutos o menos.\n",
        "\n",
        "**Max (Máximo):** La duración máxima de una película es de 1256 minutos.\n"
      ]
    },
    {
      "cell_type": "markdown",
      "metadata": {
        "id": "FUrSpvUKkLsJ"
      },
      "source": [
        "**Comentario Histograma**\n",
        "\n",
        "La representación gráfica proporciona una visión general de cómo se distribuyen las duraciones de las películas en el conjunto de datos.\n",
        "\n",
        "Como se puede apreciar, la mayoría de las películas tienen una duración que oscila entre aproximadamente 50 y 150 minutos, ya que la mayor densidad de barras del histograma se encuentra en esta región.\n",
        "\n",
        "Hay un pico pronunciado alrededor de la media de 94 minutos, lo que indica que muchas películas tienen una duración cercana a este valor mientras que algunas otras películas son visibles como barras más pequeñas en el extremo derecho del histograma, alrededor de los 400 minutos."
      ]
    },
    {
      "cell_type": "markdown",
      "metadata": {
        "id": "U83FMxtE2q_o"
      },
      "source": [
        "**Las 10 películas más largas**"
      ]
    },
    {
      "cell_type": "code",
      "execution_count": null,
      "metadata": {
        "id": "OpyIThXc06mA",
        "colab": {
          "base_uri": "https://localhost:8080/"
        },
        "outputId": "02ea370c-6a82-463b-ed44-f8b8d112f17c"
      },
      "outputs": [
        {
          "output_type": "stream",
          "name": "stdout",
          "text": [
            "                                     title  runtime\n",
            "24178                           Centennial   1256.0\n",
            "40938                             Baseball   1140.0\n",
            "19965                                 Jazz   1140.0\n",
            "13767                Berlin Alexanderplatz    931.0\n",
            "13953       Heimat: A Chronicle of Germany    925.0\n",
            "27855        The Story of Film: An Odyssey    900.0\n",
            "26682                                Taken    877.0\n",
            "19158                              The War    874.0\n",
            "34667  The Roosevelts: An Intimate History    840.0\n",
            "34732          Seventeen Moments in Spring    840.0\n"
          ]
        }
      ],
      "source": [
        "# Ordenar el DataFrame de películas por runtime de forma descendente\n",
        "most_runtime_movies = movies_metadata.sort_values(by='runtime', ascending=False)\n",
        "\n",
        "# Mostrar las primeras 10 entradas para identificar las películas más populares\n",
        "print(most_runtime_movies[['title', 'runtime']].head(10))\n"
      ]
    },
    {
      "cell_type": "markdown",
      "metadata": {
        "id": "VlKvcLNerL4F"
      },
      "source": [
        "# **Estadísticas Descriptivas** (columna popularity)\n",
        "Ahora revisaremos qué películas son las más populares utilizando la columna de **popularity**."
      ]
    },
    {
      "cell_type": "code",
      "execution_count": null,
      "metadata": {
        "id": "ooB4JnkQupCN",
        "colab": {
          "base_uri": "https://localhost:8080/",
          "height": 744
        },
        "outputId": "e2121545-cbe2-4a88-c6a5-0ca9a0436284"
      },
      "outputs": [
        {
          "output_type": "stream",
          "name": "stdout",
          "text": [
            "Estadísticas descriptivas de la popularidad de las películas:\n",
            "count    45460.000000\n",
            "mean         2.921478\n",
            "std          6.005414\n",
            "min          0.000000\n",
            "25%          0.385948\n",
            "50%          1.127685\n",
            "75%          3.678902\n",
            "max        547.488298\n",
            "Name: popularity, dtype: float64\n"
          ]
        },
        {
          "output_type": "display_data",
          "data": {
            "text/plain": [
              "<Figure size 1000x600 with 1 Axes>"
            ],
            "image/png": "[encoded data removed]"
          },
          "metadata": {}
        }
      ],
      "source": [
        "import pandas as pd\n",
        "import matplotlib.pyplot as plt\n",
        "\n",
        "# Convertir la columna 'popularity' a números flotantes\n",
        "movies_metadata['popularity'] = pd.to_numeric(movies_metadata['popularity'], errors='coerce')\n",
        "\n",
        "# Calcular estadísticas descriptivas de la popularidad de las películas\n",
        "popularity_stats = movies_metadata['popularity'].describe()\n",
        "\n",
        "# Imprimir las estadísticas descriptivas\n",
        "print(\"Estadísticas descriptivas de la popularidad de las películas:\")\n",
        "print(popularity_stats)\n",
        "\n",
        "# Crear un histograma de la popularidad de las películas\n",
        "plt.figure(figsize=(10, 6))\n",
        "plt.hist(movies_metadata['popularity'].dropna(), bins=30, color='lightgreen', edgecolor='black')\n",
        "plt.title('Distribución de la popularidad de las películas')\n",
        "plt.xlabel('Popularidad')\n",
        "plt.ylabel('Frecuencia')\n",
        "plt.grid(True)\n",
        "plt.show()\n"
      ]
    },
    {
      "cell_type": "markdown",
      "metadata": {
        "id": "fvg_Y9Wruz3-"
      },
      "source": [
        "**Comentario Estadísticas descriptivas** (popularidad de las películas):\n",
        "\n",
        "**Count (Recuento):** Indica que hay un total de 45,460 películas con valores de popularidad disponibles.\n",
        "\n",
        "**Mean (Media):** La popularidad promedio de las películas es aproximadamente 2.92.\n",
        "\n",
        "**Std (Desviación estándar):** La desviación estándar es de aproximadamente 6.01, lo que indica la dispersión de los datos alrededor de la media.\n",
        "\n",
        "**Min (Mínimo):** La popularidad mínima de una película es 0.\n",
        "\n",
        "**25% (Percentil 25):** El 25% de las películas tienen una popularidad de 0.39 o menos.\n",
        "\n",
        "**50% (Percentil 50 o Mediana):** El 50% de las películas tienen una popularidad de 1.13 o menos.\n",
        "\n",
        "**75% (Percentil 75):** El 75% de las películas tienen una popularidad de 3.68 o menos.\n",
        "\n",
        "**Max (Máximo):** La popularidad máxima de una película es 547.49."
      ]
    },
    {
      "cell_type": "markdown",
      "metadata": {
        "id": "I4A-ZCwswJYZ"
      },
      "source": [
        "**Comentario Histograma** (popularidad de las películas):\n",
        "\n",
        "La mayoría de las películas tienen una popularidad que oscila entre 0 y alrededor de 10, ya que la mayor densidad de barras del histograma se encuentra en esta región.\n",
        "\n",
        "Hay un pico pronunciado alrededor de la media de 2.92, lo que indica que muchas películas tienen una popularidad cercana a este valor. Sin embargo, algunas películas tienen una popularidad muy alta, como se evidencia por las barras más pequeñas en el extremo derecho del histograma, llegando hasta 547.49 haciendo que la distribución de la popularidad esté sesgada hacia la derecha aumentando con ello el promedio y la desviación estándar."
      ]
    },
    {
      "cell_type": "markdown",
      "metadata": {
        "id": "cZq-2iPK0qDi"
      },
      "source": [
        "**Las 10 películas más populares**"
      ]
    },
    {
      "cell_type": "code",
      "execution_count": null,
      "metadata": {
        "id": "8nxjnPja0vHJ",
        "colab": {
          "base_uri": "https://localhost:8080/"
        },
        "outputId": "60a3d4a1-a342-412e-f0cd-7c07fff63228"
      },
      "outputs": [
        {
          "output_type": "stream",
          "name": "stdout",
          "text": [
            "                                title  popularity\n",
            "30700                         Minions  547.488298\n",
            "33356                    Wonder Woman  294.337037\n",
            "42222            Beauty and the Beast  287.253654\n",
            "43644                     Baby Driver  228.032744\n",
            "24455                      Big Hero 6  213.849907\n",
            "26564                        Deadpool  187.860492\n",
            "26566  Guardians of the Galaxy Vol. 2  185.330992\n",
            "14551                          Avatar  185.070892\n",
            "24351                       John Wick  183.870374\n",
            "23675                       Gone Girl  154.801009\n"
          ]
        }
      ],
      "source": [
        "# Ordenar el DataFrame de películas por popularidad de forma descendente\n",
        "most_popular_movies = movies_metadata.sort_values(by='popularity', ascending=False)\n",
        "\n",
        "# Mostrar las primeras 10 entradas para identificar las películas más populares\n",
        "print(most_popular_movies[['title', 'popularity']].head(10))\n"
      ]
    },
    {
      "cell_type": "markdown",
      "metadata": {
        "id": "AJhRyJVY1ma4"
      },
      "source": [
        "Es importante tener en cuenta que la popularidad es una métrica subjetiva por lo que una puntuación de popularidad alta no necesariamente significa que una película sea objetivamente mejor que otras, sino que ha generado un mayor interés o atención en el público. La popularidad de una película puede estar influenciada por diversos factores como el éxito en taquilla, las críticas, la promoción, entre otros."
      ]
    },
    {
      "cell_type": "markdown",
      "metadata": {
        "id": "JYS1Z4ksB2v4"
      },
      "source": [
        "**Los 10 géneros más populares**"
      ]
    },
    {
      "cell_type": "code",
      "execution_count": null,
      "metadata": {
        "id": "LSL1GmBEPfem",
        "colab": {
          "base_uri": "https://localhost:8080/"
        },
        "outputId": "e57bc13a-a6a6-4812-ab42-137db736416c"
      },
      "outputs": [
        {
          "output_type": "stream",
          "name": "stdout",
          "text": [
            "Los 10 géneros más populares son:\n",
            "1. Adventure: Popularidad Promedio = 5.998334729405034\n",
            "2. Fantasy: Popularidad Promedio = 5.363655929096411\n",
            "3. Science Fiction: Popularidad Promedio = 4.9998168355759764\n",
            "4. Action: Popularidad Promedio = 4.771611619654231\n",
            "5. Family: Popularidad Promedio = 4.729327737906137\n",
            "6. Animation: Popularidad Promedio = 4.712107382109617\n",
            "7. Thriller: Popularidad Promedio = 4.487623986357077\n",
            "8. Crime: Popularidad Promedio = 4.1446805400510796\n",
            "9. Mystery: Popularidad Promedio = 3.9605082391568707\n",
            "10. Horror: Popularidad Promedio = 3.564004836686644\n"
          ]
        }
      ],
      "source": [
        "import pandas as pd\n",
        "\n",
        "# Convertir la columna 'genres' en una lista de géneros\n",
        "movies_metadata['genres'] = movies_metadata['genres'].apply(lambda x: [genre['name'] for genre in eval(x)])\n",
        "\n",
        "# Crear un DataFrame separado para cada género en la lista de géneros de cada película\n",
        "genre_dfs = [movies_metadata.explode('genres')]\n",
        "\n",
        "# Calcular la popularidad promedio para cada género excluyendo los géneros con valores NaN\n",
        "genre_avg_popularity = {}\n",
        "for genre_df in genre_dfs:\n",
        "    genre_popularity = genre_df.groupby('genres')['popularity'].mean()\n",
        "    genre_avg_popularity.update({genre: popularity for genre, popularity in genre_popularity.items() if not pd.isna(popularity)})\n",
        "\n",
        "# Ordenar los géneros por su popularidad promedio de forma descendente\n",
        "popular_genres = sorted(genre_avg_popularity.items(), key=lambda x: x[1], reverse=True)\n",
        "\n",
        "# Mostrar los N géneros más populares\n",
        "N = 10  # Número de géneros más populares que queremos mostrar\n",
        "print(f\"Los {N} géneros más populares son:\")\n",
        "for i, (genre, popularity) in enumerate(popular_genres[:N], start=1):\n",
        "    print(f\"{i}. {genre}: Popularidad Promedio = {popularity}\")\n"
      ]
    },
    {
      "cell_type": "markdown",
      "metadata": {
        "id": "Q7SDF5uV4GTM"
      },
      "source": [
        "# **Relación entre el presupuesto y los ingresos de una película**"
      ]
    },
    {
      "cell_type": "code",
      "execution_count": null,
      "metadata": {
        "id": "xHo83OoN8rYC",
        "colab": {
          "base_uri": "https://localhost:8080/",
          "height": 583
        },
        "outputId": "b65ac893-9a36-4da2-bba5-da06322cdd71"
      },
      "outputs": [
        {
          "output_type": "display_data",
          "data": {
            "text/plain": [
              "<Figure size 1000x600 with 1 Axes>"
            ],
            "image/png": "[encoded data removed]"
          },
          "metadata": {}
        },
        {
          "output_type": "stream",
          "name": "stdout",
          "text": [
            "Correlación entre presupuesto e ingresos: 0.7687758447446278\n"
          ]
        }
      ],
      "source": [
        "import pandas as pd\n",
        "import matplotlib.pyplot as plt\n",
        "\n",
        "# Convertir la columna 'budget' a formato numérico\n",
        "movies_metadata['budget'] = pd.to_numeric(movies_metadata['budget'], errors='coerce')\n",
        "\n",
        "# Eliminar filas con valores nulos en las columnas de presupuesto y/o ingresos\n",
        "movies_metadata = movies_metadata.dropna(subset=['budget', 'revenue'])\n",
        "\n",
        "# Calcular la correlación entre presupuesto y ingresos\n",
        "correlation = movies_metadata['budget'].corr(movies_metadata['revenue'])\n",
        "\n",
        "# Visualizar la relación entre presupuesto y ingresos mediante un diagrama de dispersión\n",
        "plt.figure(figsize=(10, 6))\n",
        "plt.scatter(movies_metadata['budget'], movies_metadata['revenue'], color='blue', alpha=0.5)\n",
        "plt.title('Relación entre Presupuesto e Ingresos de Películas')\n",
        "plt.xlabel('Presupuesto')\n",
        "plt.ylabel('Ingresos')\n",
        "plt.grid(True)\n",
        "plt.show()\n",
        "\n",
        "print(\"Correlación entre presupuesto e ingresos:\", correlation)\n"
      ]
    },
    {
      "cell_type": "markdown",
      "metadata": {
        "id": "Ci6txtck-JLX"
      },
      "source": [
        "Una correlación de 0.7687758447446278 entre el presupuesto y los ingresos indica una correlación positiva fuerte. Esto sugiere que, en general, hay una relación positiva entre el presupuesto invertido en una película y los ingresos generados por esa película en la taquilla. En otras palabras, a medida que aumenta el presupuesto de una película, es probable que también aumenten sus ingresos.\n",
        "\n",
        "Sin embargo, es importante tener en cuenta que la correlación no implica causalidad. Aunque existe una relación fuerte entre estas dos variables, no podemos concluir que un mayor presupuesto causa directamente mayores ingresos. También podrían influir en los ingresos de una película otros factores como el elenco, el género y la calidad de la película, entre otros."
      ]
    },
    {
      "cell_type": "markdown",
      "metadata": {
        "id": "Kfns5FBxFsO0"
      },
      "source": [
        "# **Ratings y Ratings_small**"
      ]
    },
    {
      "cell_type": "markdown",
      "metadata": {
        "id": "7HeL55EsF5vH"
      },
      "source": [
        "# **Distribución de las calificaciones**"
      ]
    },
    {
      "cell_type": "code",
      "execution_count": null,
      "metadata": {
        "id": "8I9DVHdAHk4C",
        "colab": {
          "base_uri": "https://localhost:8080/",
          "height": 1000
        },
        "outputId": "ff65d032-5f31-47ee-8257-b640f55f6b88"
      },
      "outputs": [
        {
          "output_type": "stream",
          "name": "stdout",
          "text": [
            "Estadísticas descriptivas de las calificaciones en ratings_small:\n",
            "count    100004.000000\n",
            "mean          3.543608\n",
            "std           1.058064\n",
            "min           0.500000\n",
            "25%           3.000000\n",
            "50%           4.000000\n",
            "75%           4.000000\n",
            "max           5.000000\n",
            "Name: rating, dtype: float64\n"
          ]
        },
        {
          "output_type": "display_data",
          "data": {
            "text/plain": [
              "<Figure size 1000x600 with 1 Axes>"
            ],
            "image/png": "[encoded data removed]"
          },
          "metadata": {}
        },
        {
          "output_type": "stream",
          "name": "stdout",
          "text": [
            "\n",
            "Estadísticas descriptivas de las calificaciones en ratings:\n",
            "count    2.602429e+07\n",
            "mean     3.528090e+00\n",
            "std      1.065443e+00\n",
            "min      5.000000e-01\n",
            "25%      3.000000e+00\n",
            "50%      3.500000e+00\n",
            "75%      4.000000e+00\n",
            "max      5.000000e+00\n",
            "Name: rating, dtype: float64\n"
          ]
        },
        {
          "output_type": "display_data",
          "data": {
            "text/plain": [
              "<Figure size 1000x600 with 1 Axes>"
            ],
            "image/png": "[encoded data removed]"
          },
          "metadata": {}
        }
      ],
      "source": [
        "import pandas as pd\n",
        "import matplotlib.pyplot as plt\n",
        "\n",
        "# Estadísticas descriptivas de las calificaciones en ratings_small\n",
        "ratings_small_stats = ratings_small['rating'].describe()\n",
        "print(\"Estadísticas descriptivas de las calificaciones en ratings_small:\")\n",
        "print(ratings_small_stats)\n",
        "\n",
        "# Visualizar la distribución de calificaciones en ratings_small\n",
        "plt.figure(figsize=(10, 6))\n",
        "plt.hist(ratings_small['rating'], bins=50, color='skyblue', edgecolor='black')\n",
        "plt.title('Distribución de Calificaciones de Usuarios (ratings_small)')\n",
        "plt.xlabel('Calificación')\n",
        "plt.ylabel('Frecuencia')\n",
        "plt.grid(True)\n",
        "plt.show()\n",
        "\n",
        "# Estadísticas descriptivas de las calificaciones en ratings\n",
        "ratings_stats = ratings['rating'].describe()\n",
        "print(\"\\nEstadísticas descriptivas de las calificaciones en ratings:\")\n",
        "print(ratings_stats)\n",
        "\n",
        "# Visualizar la distribución de calificaciones en ratings\n",
        "plt.figure(figsize=(10, 6))\n",
        "plt.hist(ratings['rating'], bins=50, color='lightgreen', edgecolor='black')\n",
        "plt.title('Distribución de Calificaciones de Usuarios (ratings)')\n",
        "plt.xlabel('Calificación')\n",
        "plt.ylabel('Frecuencia')\n",
        "plt.grid(True)\n",
        "plt.show()\n"
      ]
    },
    {
      "cell_type": "markdown",
      "metadata": {
        "id": "Z-NdBVTpL1lB"
      },
      "source": [
        "# Estadísticas descriptivas de las calificaciones en ratings_small:\n",
        "\n",
        "**Recuento de calificaciones:** 100,004\n",
        "\n",
        "**Calificación media:** 3.543608\n",
        "\n",
        "**Desviación estándar:** 1.058064\n",
        "\n",
        "**Calificación mínima:** 0.5\n",
        "\n",
        "**Percentil 25:** 3.0\n",
        "\n",
        "**Mediana (Percentil 50):** 4.0\n",
        "\n",
        "**Percentil 75:** 4.0\n",
        "\n",
        "**Calificación máxima:** 5.0\n",
        "\n",
        "\n",
        "\n",
        "# Estadísticas descriptivas de las calificaciones en ratings:\n",
        "\n",
        "**Recuento de calificaciones:** 26,024,290\n",
        "\n",
        "**Calificación media:** 3.528090\n",
        "\n",
        "**Desviación estándar:** 1.065443\n",
        "\n",
        "**Calificación mínima:** 0.5\n",
        "\n",
        "**Percentil 25:** 3.0\n",
        "\n",
        "**Mediana (Percentil 50):** 3.5\n",
        "\n",
        "**Percentil 75:** 4.0\n",
        "\n",
        "**Calificación máxima:** 5.0\n",
        "\n",
        "\n",
        "Ambos conjuntos de datos tienen una distribución de calificaciones similar, con pequeñas diferencias en las medias y medianas, así como en otras estadísticas. Esto sugiere que las calificaciones en ambos conjuntos de datos tienen una distribución comparable.\n",
        "\n",
        "Esta comparabilidad de los datos entre los dos cojuntos es respaldado aún más por los histogramas que muestran distribuciones muy similares.\n",
        "\n",
        "Continuaremos el análisis utilizando el conjunto de datos más grande (ratings) ya que nos proporcionara una muestra más amplia y, potencialmente, más representativa del comportamiento de los usuarios."
      ]
    },
    {
      "cell_type": "markdown",
      "metadata": {
        "id": "lqEluSdsQP9N"
      },
      "source": [
        "**Tendencias de calificación a lo largo del tiempo**"
      ]
    },
    {
      "cell_type": "code",
      "execution_count": null,
      "metadata": {
        "id": "ziXrMuHwQUlz",
        "colab": {
          "base_uri": "https://localhost:8080/",
          "height": 565
        },
        "outputId": "26f50cab-405c-4c8d-a11f-13f801de64c5"
      },
      "outputs": [
        {
          "output_type": "display_data",
          "data": {
            "text/plain": [
              "<Figure size 1000x600 with 1 Axes>"
            ],
            "image/png": "[encoded data removed]"
          },
          "metadata": {}
        }
      ],
      "source": [
        "import pandas as pd\n",
        "import matplotlib.pyplot as plt\n",
        "\n",
        "# Convertir la columna timestamp a formato de fecha y hora\n",
        "ratings['timestamp'] = pd.to_datetime(ratings['timestamp'], unit='s')\n",
        "\n",
        "# Agrupar las calificaciones por año y calcular la calificación promedio por año\n",
        "ratings_yearly = ratings.groupby(ratings['timestamp'].dt.year)['rating'].mean()\n",
        "\n",
        "# Visualizar las tendencias de calificación a lo largo del tiempo\n",
        "plt.figure(figsize=(10, 6))\n",
        "ratings_yearly.plot(kind='line', marker='o', color='b')\n",
        "plt.title('Tendencias de calificación a lo largo del tiempo')\n",
        "plt.xlabel('Año')\n",
        "plt.ylabel('Calificación Promedio')\n",
        "plt.grid(True)\n",
        "plt.show()\n"
      ]
    },
    {
      "cell_type": "markdown",
      "metadata": {
        "id": "Dk_PUY8ESP_A"
      },
      "source": [
        "Entender estas fluctuaciones en las tendencias de calificación a lo largo del tiempo requiere un análisis detallado de los factores que podrían haber influido en estos cambios.\n",
        "\n",
        "Algunas posibles explicaciones para estos patrones podrían ser:\n",
        "-cambio en la calidad y la diversidad de las películas\n",
        "-cambio en la demografía de los usuarios (diferentes gustos y preferencias) -cambios en la industria cinematográfica o en las tendencias de consumo\n",
        "-cambios en la plataforma de calificación"
      ]
    },
    {
      "cell_type": "markdown",
      "metadata": {
        "id": "RorYC3bAT-xw"
      },
      "source": [
        "**Número total de calificaciones de los 10 usuarios que han calificado más películas**"
      ]
    },
    {
      "cell_type": "code",
      "execution_count": null,
      "metadata": {
        "id": "Q0ds11xST_BA",
        "colab": {
          "base_uri": "https://localhost:8080/"
        },
        "outputId": "f9a041c4-ea6f-44c2-b8b3-b61d329e0108"
      },
      "outputs": [
        {
          "output_type": "stream",
          "name": "stdout",
          "text": [
            "Usuarios que califican más películas:\n",
            "45811     18276\n",
            "8659       9279\n",
            "270123     7638\n",
            "179792     7515\n",
            "228291     7410\n",
            "243443     6320\n",
            "98415      6094\n",
            "229879     6024\n",
            "98787      5814\n",
            "172224     5701\n",
            "Name: userId, dtype: int64\n"
          ]
        }
      ],
      "source": [
        "# Calcular el número total de calificaciones por usuario\n",
        "user_ratings_count = ratings['userId'].value_counts()\n",
        "\n",
        "# Mostrar los usuarios que califican más películas (los 10 primeros, por ejemplo)\n",
        "top_users = user_ratings_count.head(10)\n",
        "print(\"Usuarios que califican más películas:\")\n",
        "print(top_users)\n"
      ]
    },
    {
      "cell_type": "markdown",
      "metadata": {
        "id": "R5q1wbqEVYHz"
      },
      "source": [
        "Al conocer qué usuarios están calificando más películas, es posible evaluar la calidad y la relevancia de sus calificaciones. Los usuarios que califican una gran cantidad de películas pueden tener una perspectiva más amplia y ofrecer una retroalimentación más completa sobre la calidad de las películas, lo que puede ser útil para otros usuarios al tomar decisiones sobre qué películas ver."
      ]
    },
    {
      "cell_type": "markdown",
      "metadata": {
        "id": "RAoDLBLOX3Gh"
      },
      "source": [
        "**Participación de los usuarios más activos a lo largo del tiempo**\n",
        "\n",
        "Observar cómo cambia la actividad de los usuarios más activos con el tiempo puede proporcionar información sobre las tendencias de participación de la comunidad de usuarios. Por ejemplo, es posible identificar períodos de mayor o menor participación, así como patrones estacionales o eventos que puedan influir en el comportamiento de los usuarios."
      ]
    },
    {
      "cell_type": "code",
      "execution_count": null,
      "metadata": {
        "id": "-own1peNbguG",
        "colab": {
          "base_uri": "https://localhost:8080/",
          "height": 599
        },
        "outputId": "eff7a84d-cafb-4736-99bc-aadf9e01b8f9"
      },
      "outputs": [
        {
          "output_type": "display_data",
          "data": {
            "text/plain": [
              "<Figure size 1200x600 with 1 Axes>"
            ],
            "image/png": "[encoded data removed]"
          },
          "metadata": {}
        }
      ],
      "source": [
        "import pandas as pd\n",
        "import matplotlib.pyplot as plt\n",
        "\n",
        "# Convertir el timestamp a formato de fecha\n",
        "ratings['timestamp'] = pd.to_datetime(ratings['timestamp'], unit='s')\n",
        "\n",
        "# Extraer el año y el cuatrimestre de la columna de timestamp\n",
        "ratings['year_quarter'] = ratings['timestamp'].dt.to_period('Q')\n",
        "\n",
        "# Calcular el número total de calificaciones por usuario\n",
        "user_ratings_count = ratings['userId'].value_counts()\n",
        "\n",
        "# Seleccionar los 10 usuarios más activos\n",
        "top_users = user_ratings_count.head(10).index\n",
        "\n",
        "# Filtrar las calificaciones de los usuarios más activos\n",
        "top_users_ratings = ratings[ratings['userId'].isin(top_users)]\n",
        "\n",
        "# Contar el número de calificaciones por año y cuatrimestre para cada usuario\n",
        "user_ratings_timeline = top_users_ratings.groupby(['userId', 'year_quarter']).size().unstack(fill_value=0)\n",
        "\n",
        "# Graficar la participación de los usuarios más activos a lo largo del tiempo\n",
        "fig, ax = plt.subplots(figsize=(12, 6))\n",
        "user_ratings_timeline.plot(ax=ax, marker='o')\n",
        "plt.title('Participación de los 10 usuarios más activos a lo largo del tiempo')\n",
        "plt.xlabel('Año-Cuatrimestre')\n",
        "plt.ylabel('Número de Calificaciones')\n",
        "plt.xticks(rotation=45)\n",
        "\n",
        "# Asignar los cuatrimestres de cada año en el eje x\n",
        "ax.set_xticks(range(len(user_ratings_timeline.columns)))\n",
        "ax.set_xticklabels([str(q) for q in user_ratings_timeline.columns])\n",
        "\n",
        "plt.legend(title='UserID', labels=top_users)\n",
        "plt.grid(True)\n",
        "plt.show()\n"
      ]
    },
    {
      "cell_type": "markdown",
      "metadata": {
        "id": "TTVGZXl6gAE4"
      },
      "source": [
        "**Análisis de la participación de los 10 usuarios más activos a lo largo del tiempo:**\n",
        "\n",
        "Como podemos observar, la actividad de los 10 usuarios más activos siguen un patrón estacional consistente durante los mismo periodos de tiempo y una tendencia de participación que se ha ido apagando con el paso del tiempo hasta niveles mínimos.\n",
        "\n",
        "Analizar el lanzamiento de las películas en relación con los períodos de aumento y disminución en la actividad de calificación de los 10 usuarios más activos puede proporcionar una comprensión más completa de los factores que han influido en estos patrones de comportamiento.\n"
      ]
    },
    {
      "cell_type": "markdown",
      "metadata": {
        "id": "hHP0SI-gmy7h"
      },
      "source": [
        "**Películas lanzadas VS actividad de calificación de los usuarios en el tiempo**"
      ]
    },
    {
      "cell_type": "code",
      "execution_count": null,
      "metadata": {
        "id": "L4PrA8OLmzOQ",
        "colab": {
          "base_uri": "https://localhost:8080/"
        },
        "outputId": "7ee79897-d4e0-445b-9b94-d33cd9984ff1"
      },
      "outputs": [
        {
          "output_type": "stream",
          "name": "stdout",
          "text": [
            "Número de películas lanzadas por año:\n",
            "1874.0       1\n",
            "1878.0       1\n",
            "1883.0       1\n",
            "1887.0       1\n",
            "1888.0       2\n",
            "          ... \n",
            "2015.0    1905\n",
            "2016.0    1604\n",
            "2017.0     532\n",
            "2018.0       5\n",
            "2020.0       1\n",
            "Name: release_year, Length: 135, dtype: int64\n"
          ]
        }
      ],
      "source": [
        "import pandas as pd\n",
        "\n",
        "# Convertir la columna \"release_date\" al tipo de dato de fecha\n",
        "movies_metadata['release_date'] = pd.to_datetime(movies_metadata['release_date'], errors='coerce')\n",
        "\n",
        "# Extraer el año de lanzamiento de la columna \"release_date\"\n",
        "movies_metadata['release_year'] = movies_metadata['release_date'].dt.year\n",
        "\n",
        "# Contar la cantidad de películas lanzadas por año\n",
        "movies_per_year = movies_metadata['release_year'].value_counts().sort_index()\n",
        "\n",
        "# Mostrar el número de películas lanzadas por año\n",
        "print(\"Número de películas lanzadas por año:\")\n",
        "print(movies_per_year)\n"
      ]
    },
    {
      "cell_type": "code",
      "execution_count": null,
      "metadata": {
        "id": "Lo_Ko4tyoxRM",
        "colab": {
          "base_uri": "https://localhost:8080/",
          "height": 607
        },
        "outputId": "5258437a-a915-4891-a303-f48b617f27c2"
      },
      "outputs": [
        {
          "output_type": "display_data",
          "data": {
            "text/plain": [
              "<Figure size 1200x600 with 1 Axes>"
            ],
            "image/png": "[encoded data removed]"
          },
          "metadata": {}
        }
      ],
      "source": [
        "import matplotlib.pyplot as plt\n",
        "\n",
        "# Crear el gráfico de barras\n",
        "plt.figure(figsize=(12, 6))\n",
        "plt.bar(movies_per_year.index.astype(int), movies_per_year.values, color='skyblue')\n",
        "\n",
        "# Configurar el título y etiquetas de los ejes\n",
        "plt.title('Número de películas lanzadas por año')\n",
        "plt.xlabel('Año')\n",
        "plt.ylabel('Número de películas')\n",
        "plt.xticks(rotation=45)  # Rotar las etiquetas del eje x para mayor claridad\n",
        "\n",
        "# Mostrar el gráfico\n",
        "plt.grid(axis='y')  # Añadir líneas de cuadrícula solo en el eje y\n",
        "plt.tight_layout()  # Ajustar el diseño para evitar superposiciones\n",
        "plt.show()\n"
      ]
    },
    {
      "cell_type": "code",
      "execution_count": null,
      "metadata": {
        "id": "ArUmJre2qShc",
        "colab": {
          "base_uri": "https://localhost:8080/",
          "height": 563
        },
        "outputId": "7479e9f1-d83a-4e62-e2e5-70cdcd3e0bf5"
      },
      "outputs": [
        {
          "output_type": "display_data",
          "data": {
            "text/plain": [
              "<Figure size 800x600 with 2 Axes>"
            ],
            "image/png": "[encoded data removed]"
          },
          "metadata": {}
        },
        {
          "output_type": "stream",
          "name": "stdout",
          "text": [
            "Correlación entre películas lanzadas y calificaciones de usuarios: nan\n"
          ]
        }
      ],
      "source": [
        "import pandas as pd\n",
        "import matplotlib.pyplot as plt\n",
        "import seaborn as sns\n",
        "\n",
        "# Supongamos que ya tenemos 'movies_per_year' y 'user_ratings_timeline' calculados\n",
        "\n",
        "# Crear un DataFrame con el número de películas lanzadas por año y la cantidad de calificaciones por usuario por año\n",
        "correlation_df = pd.DataFrame({'Movies Released': movies_per_year, 'User Ratings': user_ratings_timeline.sum()})\n",
        "\n",
        "# Calcular la correlación entre las dos variables\n",
        "correlation = correlation_df['Movies Released'].corr(correlation_df['User Ratings'])\n",
        "\n",
        "# Visualizar la matriz de correlación como un mapa de calor\n",
        "plt.figure(figsize=(8, 6))\n",
        "sns.heatmap(correlation_df.corr(), annot=True, cmap='coolwarm', linewidths=0.5)\n",
        "plt.title('Mapa de calor de correlación entre películas lanzadas y calificaciones de usuarios')\n",
        "plt.show()\n",
        "\n",
        "print(f'Correlación entre películas lanzadas y calificaciones de usuarios: {correlation}')\n"
      ]
    },
    {
      "cell_type": "markdown",
      "metadata": {
        "id": "oLkyrMP8qkZd"
      },
      "source": [
        "La correlación entre películas lanzadas y calificaciones de usuarios es NaN, lo que indica que no hay una correlación lineal clara entre estas dos variables en nuestro conjunto de datos. Esto significa que el número de películas lanzadas por año no está directamente relacionado con la cantidad de calificaciones de usuarios en el mismo período de tiempo.\n",
        "\n",
        "Sería necesario realizar un análisis más detallado y recopilar más información para comprender completamente que pudo causar una disminución en el número de calificaciones de los usuarios a lo largo de los años."
      ]
    },
    {
      "cell_type": "markdown",
      "metadata": {
        "id": "fFcBZs9sJTBg"
      },
      "source": [
        "# **Keywords**"
      ]
    },
    {
      "cell_type": "markdown",
      "metadata": {
        "id": "dsnceo4nKtOm"
      },
      "source": [
        "**Las 10 palabras clave más frecuentes (Keywords)**"
      ]
    },
    {
      "cell_type": "code",
      "execution_count": null,
      "metadata": {
        "id": "vY-9wWvnIuXG",
        "colab": {
          "base_uri": "https://localhost:8080/"
        },
        "outputId": "6a7bd0d8-d443-4031-d450-71458fe7a56c"
      },
      "outputs": [
        {
          "output_type": "stream",
          "name": "stdout",
          "text": [
            "Ejemplo de datos en el DataFrame de keywords:\n",
            "      id                                           keywords\n",
            "0    862  [{'id': 931, 'name': 'jealousy'}, {'id': 4290,...\n",
            "1   8844  [{'id': 10090, 'name': 'board game'}, {'id': 1...\n",
            "2  15602  [{'id': 1495, 'name': 'fishing'}, {'id': 12392...\n",
            "3  31357  [{'id': 818, 'name': 'based on novel'}, {'id':...\n",
            "4  11862  [{'id': 1009, 'name': 'baby'}, {'id': 1599, 'n...\n",
            "\n",
            "Las 10 palabras clave más comunes son:\n",
            "[]                                                                                       14795\n",
            "[{'id': 187056, 'name': 'woman director'}]                                                1323\n",
            "[{'id': 10183, 'name': 'independent film'}]                                                509\n",
            "[{'id': 9716, 'name': 'stand-up comedy'}]                                                  235\n",
            "[{'id': 4344, 'name': 'musical'}]                                                          170\n",
            "[{'id': 6075, 'name': 'sport'}]                                                            110\n",
            "[{'id': 9937, 'name': 'suspense'}]                                                         105\n",
            "[{'id': 5565, 'name': 'biography'}]                                                         78\n",
            "[{'id': 10183, 'name': 'independent film'}, {'id': 187056, 'name': 'woman director'}]       66\n",
            "[{'id': 10540, 'name': 'bollywood'}]                                                        60\n",
            "dtype: int64\n"
          ]
        }
      ],
      "source": [
        "import pandas as pd\n",
        "\n",
        "# Explorar el DataFrame de keywords\n",
        "print(\"Ejemplo de datos en el DataFrame de keywords:\")\n",
        "print(keywords.head())\n",
        "\n",
        "# Procesar las palabras clave para identificar las más comunes\n",
        "# Convertir la columna 'keywords' en una lista de palabras clave\n",
        "keywords['keywords'] = keywords['keywords'].apply(lambda x: x.split('|'))\n",
        "\n",
        "# Crear una lista con todas las palabras clave\n",
        "all_keywords = []\n",
        "for sublist in keywords['keywords']:\n",
        "    all_keywords.extend(sublist)\n",
        "\n",
        "# Contar la frecuencia de cada palabra clave\n",
        "keyword_counts = pd.Series(all_keywords).value_counts()\n",
        "\n",
        "# Mostrar las 10 palabras clave más comunes\n",
        "print(\"\\nLas 10 palabras clave más comunes son:\")\n",
        "print(keyword_counts.head(10))"
      ]
    },
    {
      "cell_type": "code",
      "execution_count": null,
      "metadata": {
        "id": "FVKomL90JSkT",
        "colab": {
          "base_uri": "https://localhost:8080/",
          "height": 974
        },
        "outputId": "d3013494-3407-48fb-a6e9-ac70542ce374"
      },
      "outputs": [
        {
          "output_type": "display_data",
          "data": {
            "text/plain": [
              "<Figure size 1000x600 with 1 Axes>"
            ],
            "image/png": "[encoded data removed]"
          },
          "metadata": {}
        }
      ],
      "source": [
        "import matplotlib.pyplot as plt\n",
        "\n",
        "# Obtener las 10 palabras clave más comunes\n",
        "top_keywords = keyword_counts.head(10)\n",
        "\n",
        "# Crear el gráfico de barras\n",
        "plt.figure(figsize=(10, 6))\n",
        "top_keywords.plot(kind='bar', color='skyblue')\n",
        "plt.title('Top 10 Palabras Clave Más Comunes')\n",
        "plt.xlabel('Palabra Clave')\n",
        "plt.ylabel('Frecuencia')\n",
        "plt.xticks(rotation=45, ha='right')\n",
        "plt.show()\n"
      ]
    },
    {
      "cell_type": "markdown",
      "metadata": {
        "id": "X6isW4BfJ1nX"
      },
      "source": [
        "Hay 14795 películas en el conjunto de datos que no tienen ninguna palabra clave asociada.\n",
        "\n",
        "Entre las películas que tienen palabras clave asociadas, las más comunes incluyen \"woman director\", \"independent film\", \"stand-up comedy\", \"musical\", \"sport\", \"suspense\", \"biography\" y \"bollywood\". Es interesante comentar que \"woman director\" es una de las palabras clave más frecuentes, lo que refleja un interés creciente en el trabajo de directoras en la industria cinematográfica."
      ]
    },
    {
      "cell_type": "markdown",
      "metadata": {
        "id": "DlXbCUzZg5fi"
      },
      "source": [
        "**Análisis de correlación entre Palabras clave y Popularidad**"
      ]
    },
    {
      "cell_type": "code",
      "execution_count": null,
      "metadata": {
        "id": "3YQ6NdYWLK8S",
        "colab": {
          "base_uri": "https://localhost:8080/"
        },
        "outputId": "3acdbe58-8829-4c5f-edc5-78c8f1bc7cdf"
      },
      "outputs": [
        {
          "output_type": "stream",
          "name": "stdout",
          "text": [
            "Correlación entre la presencia de las 10 palabras clave más comunes y la popularidad:\n",
            "[]                                                                                      -0.126995\n",
            "[{'id': 187056, 'name': 'woman director'}]                                              -0.035027\n",
            "[{'id': 10183, 'name': 'independent film'}]                                             -0.015305\n",
            "[{'id': 9716, 'name': 'stand-up comedy'}]                                               -0.017365\n",
            "[{'id': 4344, 'name': 'musical'}]                                                       -0.011538\n",
            "[{'id': 6075, 'name': 'sport'}]                                                         -0.007882\n",
            "[{'id': 9937, 'name': 'suspense'}]                                                      -0.006319\n",
            "[{'id': 5565, 'name': 'biography'}]                                                     -0.003527\n",
            "[{'id': 10183, 'name': 'independent film'}, {'id': 187056, 'name': 'woman director'}]   -0.006093\n",
            "[{'id': 10540, 'name': 'bollywood'}]                                                    -0.010648\n",
            "dtype: float64\n"
          ]
        }
      ],
      "source": [
        "import pandas as pd\n",
        "\n",
        "# Procesar las palabras clave para identificar las más comunes\n",
        "# No es necesario dividir la columna 'keywords' si ya está en formato de lista\n",
        "# Crear una lista con todas las palabras clave\n",
        "all_keywords = []\n",
        "for sublist in keywords['keywords']:\n",
        "    all_keywords.extend(sublist)\n",
        "\n",
        "# Contar la frecuencia de cada palabra clave\n",
        "keyword_counts = pd.Series(all_keywords).value_counts()\n",
        "\n",
        "# Obtener las 10 palabras clave más comunes\n",
        "top_keywords = keyword_counts.head(10).index\n",
        "\n",
        "# Crear columnas en el DataFrame de palabras clave para indicar la presencia de estas palabras clave\n",
        "for keyword in top_keywords:\n",
        "    keywords[keyword] = keywords['keywords'].apply(lambda x: keyword in x).astype(int)\n",
        "\n",
        "# Calcular la correlación entre la presencia de las palabras clave y la popularidad\n",
        "keyword_popularity_corr = keywords[top_keywords].corrwith(movies_metadata['popularity'])\n",
        "\n",
        "# Mostrar la correlación\n",
        "print(\"Correlación entre la presencia de las 10 palabras clave más comunes y la popularidad:\")\n",
        "print(keyword_popularity_corr)\n"
      ]
    },
    {
      "cell_type": "markdown",
      "metadata": {
        "id": "MMYzbrKPlU6R"
      },
      "source": [
        "Como se puede apreciar, la presencia de estas palabras clave tiende a tener una correlación negativa débil con la popularidad de las películas, es decir que, en promedio, las películas que contienen estas palabras clave tienden a tener una popularidad ligeramente menor.\n",
        "\n",
        "Sin embargo, es importante recordar que la correlación no implica causalidad, es decir, no podemos concluir que la presencia de estas palabras clave causa una mayor o menor popularidad."
      ]
    },
    {
      "cell_type": "markdown",
      "metadata": {
        "id": "oWE0bfCTMX54"
      },
      "source": [
        "# **Credits**"
      ]
    },
    {
      "cell_type": "markdown",
      "metadata": {
        "id": "Bv2XlW66P1MU"
      },
      "source": [
        "**Análisis del reparto (Credits)**"
      ]
    },
    {
      "cell_type": "code",
      "execution_count": null,
      "metadata": {
        "id": "IJ6PqnymRGX5",
        "colab": {
          "base_uri": "https://localhost:8080/"
        },
        "outputId": "f878642a-4e80-4646-9cf8-071bdcfae702"
      },
      "outputs": [
        {
          "output_type": "stream",
          "name": "stdout",
          "text": [
            "                                                cast  \\\n",
            "0  [{'cast_id': 14, 'character': 'Woody (voice)',...   \n",
            "1  [{'cast_id': 1, 'character': 'Alan Parrish', '...   \n",
            "2  [{'cast_id': 2, 'character': 'Max Goldman', 'c...   \n",
            "3  [{'cast_id': 1, 'character': \"Savannah 'Vannah...   \n",
            "4  [{'cast_id': 1, 'character': 'George Banks', '...   \n",
            "\n",
            "                                                crew     id  \n",
            "0  [{'credit_id': '52fe4284c3a36847f8024f49', 'de...    862  \n",
            "1  [{'credit_id': '52fe44bfc3a36847f80a7cd1', 'de...   8844  \n",
            "2  [{'credit_id': '52fe466a9251416c75077a89', 'de...  15602  \n",
            "3  [{'credit_id': '52fe44779251416c91011acb', 'de...  31357  \n",
            "4  [{'credit_id': '52fe44959251416c75039ed7', 'de...  11862  \n",
            "<class 'pandas.core.frame.DataFrame'>\n",
            "RangeIndex: 45476 entries, 0 to 45475\n",
            "Data columns (total 3 columns):\n",
            " #   Column  Non-Null Count  Dtype \n",
            "---  ------  --------------  ----- \n",
            " 0   cast    45476 non-null  object\n",
            " 1   crew    45476 non-null  object\n",
            " 2   id      45476 non-null  int64 \n",
            "dtypes: int64(1), object(2)\n",
            "memory usage: 1.0+ MB\n",
            "None\n"
          ]
        }
      ],
      "source": [
        "import pandas as pd\n",
        "\n",
        "# Explorar la estructura del DataFrame\n",
        "print(credits.head())\n",
        "print(credits.info())\n"
      ]
    },
    {
      "cell_type": "markdown",
      "metadata": {
        "id": "L_3MMGhZRaec"
      },
      "source": [
        "Analizando las columnas de **`cast` y `crew`** para extraer información sobre los actores y directores."
      ]
    },
    {
      "cell_type": "code",
      "execution_count": null,
      "metadata": {
        "id": "cRqca26cSle1",
        "colab": {
          "base_uri": "https://localhost:8080/"
        },
        "outputId": "1dba9a1a-7dbb-4657-c5f2-08bd7baddb80"
      },
      "outputs": [
        {
          "output_type": "stream",
          "name": "stdout",
          "text": [
            "                                         actor_names    director_name\n",
            "0  [Tom Hanks, Tim Allen, Don Rickles, Jim Varney...    John Lasseter\n",
            "1  [Robin Williams, Jonathan Hyde, Kirsten Dunst,...     Joe Johnston\n",
            "2  [Walter Matthau, Jack Lemmon, Ann-Margret, Sop...    Howard Deutch\n",
            "3  [Whitney Houston, Angela Bassett, Loretta Devi...  Forest Whitaker\n",
            "4  [Steve Martin, Diane Keaton, Martin Short, Kim...    Charles Shyer\n"
          ]
        }
      ],
      "source": [
        "# Crear una nueva columna con solo el nombre del director\n",
        "def extract_director_name(x):\n",
        "    members = eval(x)\n",
        "    if not members:\n",
        "        return ''\n",
        "    for member in members:\n",
        "        if member['job'] == 'Director':\n",
        "            return member['name']\n",
        "    return ''\n",
        "\n",
        "credits['director_name'] = credits['crew'].apply(extract_director_name)\n",
        "\n",
        "# Crear una nueva columna con una lista de nombres de actores\n",
        "def extract_actor_names(x):\n",
        "    members = eval(x)\n",
        "    if not members:\n",
        "        return []\n",
        "    return [member['name'] for member in members]\n",
        "\n",
        "credits['actor_names'] = credits['cast'].apply(extract_actor_names)\n",
        "\n",
        "# Mostrar las primeras filas para verificar los resultados\n",
        "print(credits[['actor_names', 'director_name']].head())\n"
      ]
    },
    {
      "cell_type": "code",
      "execution_count": null,
      "metadata": {
        "id": "Q7bmgPOaTVRE",
        "colab": {
          "base_uri": "https://localhost:8080/"
        },
        "outputId": "34b45a72-b7e3-4b77-ba4d-25e015047d31"
      },
      "outputs": [
        {
          "output_type": "stream",
          "name": "stdout",
          "text": [
            "La popularidad promedio de las películas es: 2.9214783449186092\n",
            "La puntuación promedio de las películas es: 5.618207215134184\n"
          ]
        }
      ],
      "source": [
        "# Calcular la popularidad promedio para cada película\n",
        "popularity_mean = movies_metadata['popularity'].mean()\n",
        "\n",
        "# Calcular la puntuación promedio de la crítica para cada película\n",
        "vote_average_mean = movies_metadata['vote_average'].mean()\n",
        "\n",
        "print(f\"La popularidad promedio de las películas es: {popularity_mean}\")\n",
        "print(f\"La puntuación promedio de las películas es: {vote_average_mean}\")\n"
      ]
    },
    {
      "cell_type": "markdown",
      "metadata": {
        "id": "OOvKrNPdUjGW"
      },
      "source": [
        "**Identificación asociación entre la participación de un individuo en una película y su éxito.**"
      ]
    },
    {
      "cell_type": "code",
      "execution_count": null,
      "metadata": {
        "colab": {
          "base_uri": "https://localhost:8080/"
        },
        "id": "_L1xCwziCNTE",
        "outputId": "83a90780-7367-4fd9-c926-f07fc67447c4"
      },
      "outputs": [
        {
          "output_type": "stream",
          "name": "stdout",
          "text": [
            "Directores con mayor popularidad promedio:\n",
            "director_name\n",
            "Tim Miller        187.860492\n",
            "Patty Jenkins     150.763031\n",
            "Kyle Balda        120.485962\n",
            "Chad Stahelski    116.558939\n",
            "Chris Williams    114.715411\n",
            "James Gunn         64.326807\n",
            "Wes Ball           59.081829\n",
            "Matt Reeves        50.741734\n",
            "Edgar Wright       46.802535\n",
            "Anthony Russo      44.050465\n",
            "Name: popularity, dtype: float64\n",
            "\n",
            "Actores con mayor popularidad promedio:\n",
            "main_actors\n",
            "Carrie Coon            154.801009\n",
            "Ansel Elgort           122.153699\n",
            "Gal Gadot              117.239182\n",
            "Ryan Potter            106.987414\n",
            "Luke Evans              79.506761\n",
            "Jayda Fink              78.807200\n",
            "Ki Hong Lee             76.937890\n",
            "Daniel Henney           71.829889\n",
            "Scott Adsit             71.720742\n",
            "Teodora Duhovnikova     67.955052\n",
            "Name: popularity, dtype: float64\n"
          ]
        }
      ],
      "source": [
        "import pandas as pd\n",
        "\n",
        "# Convertir la columna 'id' en movies_metadata a tipo int64\n",
        "movies_metadata['id'] = pd.to_numeric(movies_metadata['id'], errors='coerce')\n",
        "\n",
        "# Extraer el nombre del director y los actores principales\n",
        "def extract_director(x):\n",
        "    members = eval(x)\n",
        "    director = [member['name'] for member in members if member['job'] == 'Director']\n",
        "    return director[0] if director else ''\n",
        "\n",
        "def extract_actors(x):\n",
        "    members = eval(x)\n",
        "    actors = [actor['name'] for actor in members][0:3]\n",
        "    return actors if actors else []\n",
        "\n",
        "credits['director_name'] = credits['crew'].apply(extract_director)\n",
        "credits['main_actors'] = credits['cast'].apply(extract_actors)\n",
        "\n",
        "# Unir los DataFrames credits y movies_metadata por la columna 'id'\n",
        "merged_data = credits.merge(movies_metadata[['id', 'popularity']], on='id', how='inner')\n",
        "\n",
        "# Calcular la popularidad promedio para cada director, actor y miembro del equipo técnico\n",
        "director_popularity = merged_data.groupby('director_name')['popularity'].mean()\n",
        "actor_popularity = merged_data['main_actors'].explode().reset_index(drop=True)\n",
        "actor_popularity = merged_data.explode('main_actors').groupby('main_actors')['popularity'].mean()\n",
        "\n",
        "# Mostrar los directores con mayor popularidad promedio\n",
        "print(\"Directores con mayor popularidad promedio:\")\n",
        "print(director_popularity.nlargest(10))\n",
        "print()\n",
        "\n",
        "# Mostrar los actores con mayor popularidad promedio\n",
        "print(\"Actores con mayor popularidad promedio:\")\n",
        "print(actor_popularity.nlargest(10))\n"
      ]
    },
    {
      "cell_type": "markdown",
      "metadata": {
        "id": "DkPhS-GiDMNd"
      },
      "source": [
        "Es importante recordar que la popularidad no necesariamente refleja la calidad de una película, ya que puede estar influenciada por diversos factores como la promocióny el género entre otros."
      ]
    },
    {
      "cell_type": "markdown",
      "metadata": {
        "id": "M6VKnscNGyk_"
      },
      "source": [
        "**Directores y Actores VS Crítica e Ingresos en taquilla**"
      ]
    },
    {
      "cell_type": "code",
      "execution_count": null,
      "metadata": {
        "id": "poMkaQV8G8Iw"
      },
      "outputs": [],
      "source": [
        "# Unir los DataFrames credits y movies_metadata por la columna 'id'\n",
        "merged_data = credits.merge(movies_metadata[['id', 'popularity', 'vote_average', 'revenue']], on='id', how='inner')\n"
      ]
    },
    {
      "cell_type": "markdown",
      "metadata": {
        "id": "PPSd-0AvHHsa"
      },
      "source": [
        "**Análisis de correlación:**\n",
        "Calcularemos la correlación entre la popularidad promedio del director y actor y la puntuación promedio de su crítica, así como entre la popularidad promedio del director y actor y sus ingresos en taquilla."
      ]
    },
    {
      "cell_type": "code",
      "execution_count": null,
      "metadata": {
        "id": "G2XRSGbkSqsy",
        "colab": {
          "base_uri": "https://localhost:8080/",
          "height": 692
        },
        "outputId": "f1f7f072-094a-451c-9ec7-c26c5cacc2c9"
      },
      "outputs": [
        {
          "output_type": "stream",
          "name": "stderr",
          "text": [
            "<ipython-input-25-6362b06a7366>:11: FutureWarning: The default dtype for empty Series will be 'object' instead of 'float64' in a future version. Specify a dtype explicitly to silence this warning.\n",
            "  actor_popularity = merged_data['main_actors'].apply(pd.Series).stack().reset_index(level=1, drop=True).to_frame('actor')\n"
          ]
        },
        {
          "output_type": "stream",
          "name": "stdout",
          "text": [
            "Correlación entre la popularidad promedio de los directores y la puntuación promedio de la crítica: 0.15906892916140267\n",
            "Correlación entre la popularidad promedio de los actores y la puntuación promedio de la crítica: 0.15922363494626338\n",
            "Correlación entre la popularidad promedio de los directores y los ingresos en taquilla: 0.5462208119959542\n",
            "Correlación entre la popularidad promedio de los actores y los ingresos en taquilla: 0.48868654570399483\n"
          ]
        },
        {
          "output_type": "display_data",
          "data": {
            "text/plain": [
              "<Figure size 1000x600 with 1 Axes>"
            ],
            "image/png": "[encoded data removed]"
          },
          "metadata": {}
        }
      ],
      "source": [
        "import pandas as pd\n",
        "import matplotlib.pyplot as plt\n",
        "\n",
        "# Calcular la correlación entre la popularidad promedio de los directores y la puntuación promedio de la crítica\n",
        "popularity_vote_corr = merged_data.groupby('director_name')[['popularity', 'vote_average']].mean().corr().loc['popularity', 'vote_average']\n",
        "\n",
        "# Calcular la correlación entre la popularidad promedio de los directores y los ingresos en taquilla\n",
        "popularity_revenue_corr = merged_data.groupby('director_name')[['popularity', 'revenue']].mean().corr().loc['popularity', 'revenue']\n",
        "\n",
        "# Convertir la lista de actores en filas separadas\n",
        "actor_popularity = merged_data['main_actors'].apply(pd.Series).stack().reset_index(level=1, drop=True).to_frame('actor')\n",
        "actor_data = merged_data.drop('main_actors', axis=1).join(actor_popularity)\n",
        "\n",
        "# Calcular la correlación entre la popularidad promedio de los actores y la puntuación promedio de la crítica\n",
        "actors_vote_corr = actor_data.groupby('actor')[['popularity', 'vote_average']].mean().corr().loc['popularity', 'vote_average']\n",
        "\n",
        "# Calcular la correlación entre la popularidad promedio de los actores y los ingresos en taquilla\n",
        "actors_revenue_corr = actor_data.groupby('actor')[['popularity', 'revenue']].mean().corr().loc['popularity', 'revenue']\n",
        "\n",
        "print(f\"Correlación entre la popularidad promedio de los directores y la puntuación promedio de la crítica: {popularity_vote_corr}\")\n",
        "print(f\"Correlación entre la popularidad promedio de los actores y la puntuación promedio de la crítica: {actors_vote_corr}\")\n",
        "\n",
        "print(f\"Correlación entre la popularidad promedio de los directores y los ingresos en taquilla: {popularity_revenue_corr}\")\n",
        "print(f\"Correlación entre la popularidad promedio de los actores y los ingresos en taquilla: {actors_revenue_corr}\")\n",
        "\n",
        "# Crear un gráfico de barras para visualizar las correlaciones entre la popularidad y las métricas de éxito\n",
        "labels = ['Director-Puntuación', 'Director-Ingresos', 'Actores-Puntuación', 'Actores-Ingresos']\n",
        "correlation_values = [popularity_vote_corr, popularity_revenue_corr, actors_vote_corr, actors_revenue_corr]\n",
        "\n",
        "plt.figure(figsize=(10, 6))\n",
        "plt.bar(labels, correlation_values, color=['blue', 'green', 'red', 'orange'])\n",
        "plt.title('Correlación entre la popularidad y las métricas de éxito')\n",
        "plt.xlabel('Correlación')\n",
        "plt.ylabel('Métricas de éxito')\n",
        "plt.ylim(0, 1)  # Establecer el rango del eje y de 0 a 1\n",
        "plt.show()\n"
      ]
    },
    {
      "cell_type": "code",
      "execution_count": null,
      "metadata": {
        "colab": {
          "base_uri": "https://localhost:8080/",
          "height": 927
        },
        "id": "i7FxGuA1bD5V",
        "outputId": "3c5cf45b-e416-4524-e9d9-4f5d5f252c5f"
      },
      "outputs": [
        {
          "output_type": "display_data",
          "data": {
            "text/plain": [
              "<Figure size 640x480 with 1 Axes>"
            ],
            "image/png": "[encoded data removed]"
          },
          "metadata": {}
        },
        {
          "output_type": "display_data",
          "data": {
            "text/plain": [
              "<Figure size 640x480 with 1 Axes>"
            ],
            "image/png": "[encoded data removed]"
          },
          "metadata": {}
        }
      ],
      "source": [
        "import matplotlib.pyplot as plt\n",
        "\n",
        "# Gráfico de dispersión: Popularidad promedio vs. Puntuación promedio de la crítica\n",
        "plt.scatter(merged_data['popularity'], merged_data['vote_average'], label='Directores', color='blue')\n",
        "plt.scatter(actor_data['popularity'], actor_data['vote_average'], label='Actores', color='red', marker='^')\n",
        "plt.title('Popularidad promedio vs. Puntuación promedio de la crítica')\n",
        "plt.xlabel('Popularidad promedio')\n",
        "plt.ylabel('Puntuación promedio de la crítica')\n",
        "plt.legend()\n",
        "plt.show()\n",
        "\n",
        "# Gráfico de dispersión: Popularidad promedio vs. Ingresos en taquilla\n",
        "plt.scatter(merged_data['popularity'], merged_data['revenue'], label='Directores', color='blue')\n",
        "plt.scatter(actor_data['popularity'], actor_data['revenue'], label='Actores', color='red', marker='^')\n",
        "plt.title('Popularidad promedio vs. Ingresos en taquilla')\n",
        "plt.xlabel('Popularidad promedio')\n",
        "plt.ylabel('Ingresos en taquilla')\n",
        "plt.legend()\n",
        "plt.show()"
      ]
    },
    {
      "cell_type": "markdown",
      "metadata": {
        "id": "LSKyx4B3Y_vC"
      },
      "source": [
        "**Importancia de la popularidad:**\n",
        "Dado que hay una correlación significativa entre la popularidad promedio de los Directores y Actores y los ingresos en taquilla, esto sugiere que las películas populares tienden a ser más exitosas comercialmente. Por lo tanto, en el recomendador de películas, podría considerarse incluir la popularidad de los Directores y Actores como uno de los factores para recomendar películas con el objetivo de maximizar la satisfacción del usuario.\n",
        "\n",
        "**Opiniones críticas:**\n",
        "Aunque la correlación entre la popularidad promedio de los Directores y Actores y la puntuación promedio de la crítica es baja, esto no significa que las opiniones críticas nos sean irrelevantes. Las preferencias de los críticos pueden ser importantes para ciertos grupos de audiencia. Por lo tanto, el recomendador de películas también debería tener en cuenta las opiniones críticas como un factor adicional para recomendar películas, especialmente si consideramos que los usuarios tienen preferencias específicas en cuanto a la calidad cinematográfica.\n",
        "\n",
        "\n",
        "**En conclusión**, aunque las películas populares pueden ser ampliamente apreciadas, también es importante ofrecer recomendaciones que se ajusten a los intereses individuales de los usuarios, incluso si estas películas no son tan populares en general."
      ]
    },
    {
      "cell_type": "markdown",
      "metadata": {
        "id": "hiSb0nhmqGqF"
      },
      "source": [
        "# **Links**\n"
      ]
    },
    {
      "cell_type": "code",
      "execution_count": null,
      "metadata": {
        "colab": {
          "base_uri": "https://localhost:8080/"
        },
        "id": "WCdnpswMrtOk",
        "outputId": "a3c98cff-1e64-48ef-8b30-0e76e5281934"
      },
      "outputs": [
        {
          "output_type": "stream",
          "name": "stdout",
          "text": [
            "Estructura de links_small:\n",
            "<class 'pandas.core.frame.DataFrame'>\n",
            "RangeIndex: 9125 entries, 0 to 9124\n",
            "Data columns (total 3 columns):\n",
            " #   Column   Non-Null Count  Dtype  \n",
            "---  ------   --------------  -----  \n",
            " 0   movieId  9125 non-null   int64  \n",
            " 1   imdbId   9125 non-null   int64  \n",
            " 2   tmdbId   9112 non-null   float64\n",
            "dtypes: float64(1), int64(2)\n",
            "memory usage: 214.0 KB\n",
            "None\n",
            "Estructura de links:\n",
            "<class 'pandas.core.frame.DataFrame'>\n",
            "RangeIndex: 45843 entries, 0 to 45842\n",
            "Data columns (total 3 columns):\n",
            " #   Column   Non-Null Count  Dtype  \n",
            "---  ------   --------------  -----  \n",
            " 0   movieId  45843 non-null  int64  \n",
            " 1   imdbId   45843 non-null  int64  \n",
            " 2   tmdbId   45624 non-null  float64\n",
            "dtypes: float64(1), int64(2)\n",
            "memory usage: 1.0 MB\n",
            "None\n",
            "Proporción de películas comunes entre links_small y links: 0.9989041095890411\n"
          ]
        }
      ],
      "source": [
        "import pandas as pd\n",
        "\n",
        "# Explorar la estructura de links_small y links\n",
        "print(\"Estructura de links_small:\")\n",
        "print(links_small.info())\n",
        "\n",
        "print(\"Estructura de links:\")\n",
        "print(links.info())\n",
        "\n",
        "# Comprobar si hay películas comunes entre links_small y links\n",
        "common_movies = links_small.merge(links, on=[\"movieId\", \"imdbId\", \"tmdbId\"])\n",
        "\n",
        "# Calcular la proporción de películas comunes respecto al total de películas en links_small\n",
        "proportion = len(common_movies) / len(links_small)\n",
        "\n",
        "print(\"Proporción de películas comunes entre links_small y links:\", proportion)\n"
      ]
    },
    {
      "cell_type": "markdown",
      "metadata": {
        "id": "3YPbgAQdRxe_"
      },
      "source": [
        "El 99.89% de las películas en links_small están presentes en links, lo que sugiere que links_small es un subconjunto de links por lo que trabajaremos con links."
      ]
    },
    {
      "cell_type": "code",
      "execution_count": null,
      "metadata": {
        "colab": {
          "base_uri": "https://localhost:8080/",
          "height": 206
        },
        "id": "b6lQibAnt__o",
        "outputId": "8176d003-596a-4bc7-b3c1-05ea4178863d"
      },
      "outputs": [
        {
          "output_type": "execute_result",
          "data": {
            "text/plain": [
              "   movieId  imdbId   tmdbId\n",
              "0        1  114709    862.0\n",
              "1        2  113497   8844.0\n",
              "2        3  113228  15602.0\n",
              "3        4  114885  31357.0\n",
              "4        5  113041  11862.0"
            ],
            "text/html": [
              "\n",
              "  <div id=\"df-5e025a39-dda5-41e9-883d-4a2f47939685\" class=\"colab-df-container\">\n",
              "    <div>\n",
              "<style scoped>\n",
              "    .dataframe tbody tr th:only-of-type {\n",
              "        vertical-align: middle;\n",
              "    }\n",
              "\n",
              "    .dataframe tbody tr th {\n",
              "        vertical-align: top;\n",
              "    }\n",
              "\n",
              "    .dataframe thead th {\n",
              "        text-align: right;\n",
              "    }\n",
              "</style>\n",
              "<table border=\"1\" class=\"dataframe\">\n",
              "  <thead>\n",
              "    <tr style=\"text-align: right;\">\n",
              "      <th></th>\n",
              "      <th>movieId</th>\n",
              "      <th>imdbId</th>\n",
              "      <th>tmdbId</th>\n",
              "    </tr>\n",
              "  </thead>\n",
              "  <tbody>\n",
              "    <tr>\n",
              "      <th>0</th>\n",
              "      <td>1</td>\n",
              "      <td>114709</td>\n",
              "      <td>862.0</td>\n",
              "    </tr>\n",
              "    <tr>\n",
              "      <th>1</th>\n",
              "      <td>2</td>\n",
              "      <td>113497</td>\n",
              "      <td>8844.0</td>\n",
              "    </tr>\n",
              "    <tr>\n",
              "      <th>2</th>\n",
              "      <td>3</td>\n",
              "      <td>113228</td>\n",
              "      <td>15602.0</td>\n",
              "    </tr>\n",
              "    <tr>\n",
              "      <th>3</th>\n",
              "      <td>4</td>\n",
              "      <td>114885</td>\n",
              "      <td>31357.0</td>\n",
              "    </tr>\n",
              "    <tr>\n",
              "      <th>4</th>\n",
              "      <td>5</td>\n",
              "      <td>113041</td>\n",
              "      <td>11862.0</td>\n",
              "    </tr>\n",
              "  </tbody>\n",
              "</table>\n",
              "</div>\n",
              "    <div class=\"colab-df-buttons\">\n",
              "\n",
              "  <div class=\"colab-df-container\">\n",
              "    <button class=\"colab-df-convert\" onclick=\"convertToInteractive('df-5e025a39-dda5-41e9-883d-4a2f47939685')\"\n",
              "            title=\"Convert this dataframe to an interactive table.\"\n",
              "            style=\"display:none;\">\n",
              "\n",
              "  <svg xmlns=\"http://www.w3.org/2000/svg\" height=\"24px\" viewBox=\"0 -960 960 960\">\n",
              "    <path d=\"M120-120v-720h720v720H120Zm60-500h600v-160H180v160Zm220 220h160v-160H400v160Zm0 220h160v-160H400v160ZM180-400h160v-160H180v160Zm440 0h160v-160H620v160ZM180-180h160v-160H180v160Zm440 0h160v-160H620v160Z\"/>\n",
              "  </svg>\n",
              "    </button>\n",
              "\n",
              "  <style>\n",
              "    .colab-df-container {\n",
              "      display:flex;\n",
              "      gap: 12px;\n",
              "    }\n",
              "\n",
              "    .colab-df-convert {\n",
              "      background-color: #E8F0FE;\n",
              "      border: none;\n",
              "      border-radius: 50%;\n",
              "      cursor: pointer;\n",
              "      display: none;\n",
              "      fill: #1967D2;\n",
              "      height: 32px;\n",
              "      padding: 0 0 0 0;\n",
              "      width: 32px;\n",
              "    }\n",
              "\n",
              "    .colab-df-convert:hover {\n",
              "      background-color: #E2EBFA;\n",
              "      box-shadow: 0px 1px 2px rgba(60, 64, 67, 0.3), 0px 1px 3px 1px rgba(60, 64, 67, 0.15);\n",
              "      fill: #174EA6;\n",
              "    }\n",
              "\n",
              "    .colab-df-buttons div {\n",
              "      margin-bottom: 4px;\n",
              "    }\n",
              "\n",
              "    [theme=dark] .colab-df-convert {\n",
              "      background-color: #3B4455;\n",
              "      fill: #D2E3FC;\n",
              "    }\n",
              "\n",
              "    [theme=dark] .colab-df-convert:hover {\n",
              "      background-color: #434B5C;\n",
              "      box-shadow: 0px 1px 3px 1px rgba(0, 0, 0, 0.15);\n",
              "      filter: drop-shadow(0px 1px 2px rgba(0, 0, 0, 0.3));\n",
              "      fill: #FFFFFF;\n",
              "    }\n",
              "  </style>\n",
              "\n",
              "    <script>\n",
              "      const buttonEl =\n",
              "        document.querySelector('#df-5e025a39-dda5-41e9-883d-4a2f47939685 button.colab-df-convert');\n",
              "      buttonEl.style.display =\n",
              "        google.colab.kernel.accessAllowed ? 'block' : 'none';\n",
              "\n",
              "      async function convertToInteractive(key) {\n",
              "        const element = document.querySelector('#df-5e025a39-dda5-41e9-883d-4a2f47939685');\n",
              "        const dataTable =\n",
              "          await google.colab.kernel.invokeFunction('convertToInteractive',\n",
              "                                                    [key], {});\n",
              "        if (!dataTable) return;\n",
              "\n",
              "        const docLinkHtml = 'Like what you see? Visit the ' +\n",
              "          '<a target=\"_blank\" href=https://colab.research.google.com/notebooks/data_table.ipynb>data table notebook</a>'\n",
              "          + ' to learn more about interactive tables.';\n",
              "        element.innerHTML = '';\n",
              "        dataTable['output_type'] = 'display_data';\n",
              "        await google.colab.output.renderOutput(dataTable, element);\n",
              "        const docLink = document.createElement('div');\n",
              "        docLink.innerHTML = docLinkHtml;\n",
              "        element.appendChild(docLink);\n",
              "      }\n",
              "    </script>\n",
              "  </div>\n",
              "\n",
              "\n",
              "<div id=\"df-551fe009-98e4-4a41-bfe8-9b417297c0d7\">\n",
              "  <button class=\"colab-df-quickchart\" onclick=\"quickchart('df-551fe009-98e4-4a41-bfe8-9b417297c0d7')\"\n",
              "            title=\"Suggest charts\"\n",
              "            style=\"display:none;\">\n",
              "\n",
              "<svg xmlns=\"http://www.w3.org/2000/svg\" height=\"24px\"viewBox=\"0 0 24 24\"\n",
              "     width=\"24px\">\n",
              "    <g>\n",
              "        <path d=\"M19 3H5c-1.1 0-2 .9-2 2v14c0 1.1.9 2 2 2h14c1.1 0 2-.9 2-2V5c0-1.1-.9-2-2-2zM9 17H7v-7h2v7zm4 0h-2V7h2v10zm4 0h-2v-4h2v4z\"/>\n",
              "    </g>\n",
              "</svg>\n",
              "  </button>\n",
              "\n",
              "<style>\n",
              "  .colab-df-quickchart {\n",
              "      --bg-color: #E8F0FE;\n",
              "      --fill-color: #1967D2;\n",
              "      --hover-bg-color: #E2EBFA;\n",
              "      --hover-fill-color: #174EA6;\n",
              "      --disabled-fill-color: #AAA;\n",
              "      --disabled-bg-color: #DDD;\n",
              "  }\n",
              "\n",
              "  [theme=dark] .colab-df-quickchart {\n",
              "      --bg-color: #3B4455;\n",
              "      --fill-color: #D2E3FC;\n",
              "      --hover-bg-color: #434B5C;\n",
              "      --hover-fill-color: #FFFFFF;\n",
              "      --disabled-bg-color: #3B4455;\n",
              "      --disabled-fill-color: #666;\n",
              "  }\n",
              "\n",
              "  .colab-df-quickchart {\n",
              "    background-color: var(--bg-color);\n",
              "    border: none;\n",
              "    border-radius: 50%;\n",
              "    cursor: pointer;\n",
              "    display: none;\n",
              "    fill: var(--fill-color);\n",
              "    height: 32px;\n",
              "    padding: 0;\n",
              "    width: 32px;\n",
              "  }\n",
              "\n",
              "  .colab-df-quickchart:hover {\n",
              "    background-color: var(--hover-bg-color);\n",
              "    box-shadow: 0 1px 2px rgba(60, 64, 67, 0.3), 0 1px 3px 1px rgba(60, 64, 67, 0.15);\n",
              "    fill: var(--button-hover-fill-color);\n",
              "  }\n",
              "\n",
              "  .colab-df-quickchart-complete:disabled,\n",
              "  .colab-df-quickchart-complete:disabled:hover {\n",
              "    background-color: var(--disabled-bg-color);\n",
              "    fill: var(--disabled-fill-color);\n",
              "    box-shadow: none;\n",
              "  }\n",
              "\n",
              "  .colab-df-spinner {\n",
              "    border: 2px solid var(--fill-color);\n",
              "    border-color: transparent;\n",
              "    border-bottom-color: var(--fill-color);\n",
              "    animation:\n",
              "      spin 1s steps(1) infinite;\n",
              "  }\n",
              "\n",
              "  @keyframes spin {\n",
              "    0% {\n",
              "      border-color: transparent;\n",
              "      border-bottom-color: var(--fill-color);\n",
              "      border-left-color: var(--fill-color);\n",
              "    }\n",
              "    20% {\n",
              "      border-color: transparent;\n",
              "      border-left-color: var(--fill-color);\n",
              "      border-top-color: var(--fill-color);\n",
              "    }\n",
              "    30% {\n",
              "      border-color: transparent;\n",
              "      border-left-color: var(--fill-color);\n",
              "      border-top-color: var(--fill-color);\n",
              "      border-right-color: var(--fill-color);\n",
              "    }\n",
              "    40% {\n",
              "      border-color: transparent;\n",
              "      border-right-color: var(--fill-color);\n",
              "      border-top-color: var(--fill-color);\n",
              "    }\n",
              "    60% {\n",
              "      border-color: transparent;\n",
              "      border-right-color: var(--fill-color);\n",
              "    }\n",
              "    80% {\n",
              "      border-color: transparent;\n",
              "      border-right-color: var(--fill-color);\n",
              "      border-bottom-color: var(--fill-color);\n",
              "    }\n",
              "    90% {\n",
              "      border-color: transparent;\n",
              "      border-bottom-color: var(--fill-color);\n",
              "    }\n",
              "  }\n",
              "</style>\n",
              "\n",
              "  <script>\n",
              "    async function quickchart(key) {\n",
              "      const quickchartButtonEl =\n",
              "        document.querySelector('#' + key + ' button');\n",
              "      quickchartButtonEl.disabled = true;  // To prevent multiple clicks.\n",
              "      quickchartButtonEl.classList.add('colab-df-spinner');\n",
              "      try {\n",
              "        const charts = await google.colab.kernel.invokeFunction(\n",
              "            'suggestCharts', [key], {});\n",
              "      } catch (error) {\n",
              "        console.error('Error during call to suggestCharts:', error);\n",
              "      }\n",
              "      quickchartButtonEl.classList.remove('colab-df-spinner');\n",
              "      quickchartButtonEl.classList.add('colab-df-quickchart-complete');\n",
              "    }\n",
              "    (() => {\n",
              "      let quickchartButtonEl =\n",
              "        document.querySelector('#df-551fe009-98e4-4a41-bfe8-9b417297c0d7 button');\n",
              "      quickchartButtonEl.style.display =\n",
              "        google.colab.kernel.accessAllowed ? 'block' : 'none';\n",
              "    })();\n",
              "  </script>\n",
              "</div>\n",
              "    </div>\n",
              "  </div>\n"
            ],
            "application/vnd.google.colaboratory.intrinsic+json": {
              "type": "dataframe",
              "variable_name": "links",
              "summary": "{\n  \"name\": \"links\",\n  \"rows\": 45843,\n  \"fields\": [\n    {\n      \"column\": \"movieId\",\n      \"properties\": {\n        \"dtype\": \"number\",\n        \"std\": 57216,\n        \"min\": 1,\n        \"max\": 176279,\n        \"num_unique_values\": 45843,\n        \"samples\": [\n          27467,\n          97423,\n          155413\n        ],\n        \"semantic_type\": \"\",\n        \"description\": \"\"\n      }\n    },\n    {\n      \"column\": \"imdbId\",\n      \"properties\": {\n        \"dtype\": \"number\",\n        \"std\": 1361924,\n        \"min\": 1,\n        \"max\": 7158814,\n        \"num_unique_values\": 45843,\n        \"samples\": [\n          282667,\n          1906426,\n          9899\n        ],\n        \"semantic_type\": \"\",\n        \"description\": \"\"\n      }\n    },\n    {\n      \"column\": \"tmdbId\",\n      \"properties\": {\n        \"dtype\": \"number\",\n        \"std\": 112665.9708295437,\n        \"min\": 2.0,\n        \"max\": 469172.0,\n        \"num_unique_values\": 45594,\n        \"samples\": [\n          28219.0,\n          22649.0,\n          26768.0\n        ],\n        \"semantic_type\": \"\",\n        \"description\": \"\"\n      }\n    }\n  ]\n}"
            }
          },
          "metadata": {},
          "execution_count": 28
        }
      ],
      "source": [
        "links.head()\n"
      ]
    },
    {
      "cell_type": "markdown",
      "metadata": {
        "id": "eZ8RjpMtQzLX"
      },
      "source": [
        "**IMDb y TMDb** son dos bases de datos populares de películas y programas de televisión. Los identificadores **`imdbId` y `tmdbId`** en el conjunto de datos se refieren a los identificadoresúnicos asignados a las películas en estas respectivas bases de datos.\n",
        "\n",
        "**Estos identificadores** permiten vincular las películas en diferentes bases de datos y son útiles para realizar búsquedas y consultas de información relacionada con películas en plataformas en línea."
      ]
    },
    {
      "cell_type": "markdown",
      "metadata": {
        "id": "ORDo_vGiS4SI"
      },
      "source": [
        "# **Películas puestas en común (movies_metadata y links)**\n"
      ]
    },
    {
      "cell_type": "markdown",
      "metadata": {
        "id": "b82qpCCIU4u3"
      },
      "source": [
        "**`Related_movies`** será el conjunto de datos donde quedarán relacionados los identificadores imdbId y tmdbId del conjunto de datos Links en el conjunto movies_metadata."
      ]
    },
    {
      "cell_type": "code",
      "execution_count": null,
      "metadata": {
        "id": "KxsjrACIXkUi",
        "colab": {
          "base_uri": "https://localhost:8080/"
        },
        "outputId": "146d842f-6895-49dd-d058-032e09248a5f"
      },
      "outputs": [
        {
          "output_type": "stream",
          "name": "stdout",
          "text": [
            "<class 'pandas.core.frame.DataFrame'>\n",
            "Int64Index: 45843 entries, 0 to 45842\n",
            "Data columns (total 28 columns):\n",
            " #   Column                 Non-Null Count  Dtype         \n",
            "---  ------                 --------------  -----         \n",
            " 0   movieId                45843 non-null  int64         \n",
            " 1   imdbId                 45843 non-null  int64         \n",
            " 2   tmdbId                 45624 non-null  float64       \n",
            " 3   adult                  45460 non-null  object        \n",
            " 4   belongs_to_collection  4490 non-null   object        \n",
            " 5   budget                 45460 non-null  float64       \n",
            " 6   genres                 45460 non-null  object        \n",
            " 7   homepage               7778 non-null   object        \n",
            " 8   id                     45460 non-null  float64       \n",
            " 9   imdb_id                0 non-null      float64       \n",
            " 10  original_language      45449 non-null  object        \n",
            " 11  original_title         45460 non-null  object        \n",
            " 12  overview               44506 non-null  object        \n",
            " 13  popularity             45460 non-null  float64       \n",
            " 14  poster_path            45077 non-null  object        \n",
            " 15  production_companies   45460 non-null  object        \n",
            " 16  production_countries   45460 non-null  object        \n",
            " 17  release_date           45376 non-null  datetime64[ns]\n",
            " 18  revenue                45460 non-null  float64       \n",
            " 19  runtime                45203 non-null  float64       \n",
            " 20  spoken_languages       45460 non-null  object        \n",
            " 21  status                 45379 non-null  object        \n",
            " 22  tagline                20412 non-null  object        \n",
            " 23  title                  45460 non-null  object        \n",
            " 24  video                  45460 non-null  object        \n",
            " 25  vote_average           45460 non-null  float64       \n",
            " 26  vote_count             45460 non-null  float64       \n",
            " 27  release_year           45376 non-null  float64       \n",
            "dtypes: datetime64[ns](1), float64(10), int64(2), object(15)\n",
            "memory usage: 10.1+ MB\n",
            "None\n"
          ]
        }
      ],
      "source": [
        "import pandas as pd\n",
        "\n",
        "# Copiar los DataFrames para evitar cambios no deseados\n",
        "movies_metadata_clean = movies_metadata.copy()\n",
        "links_clean = links.copy()\n",
        "\n",
        "# Convertir la columna 'imdb_id' a tipo int64 en movies_metadata_clean\n",
        "movies_metadata_clean['imdb_id'] = pd.to_numeric(movies_metadata_clean['imdb_id'], errors='coerce', downcast='integer')\n",
        "\n",
        "# Concatenar los DataFrames y eliminar duplicados en la columna 'imdbId'\n",
        "related_movies = pd.concat([links_clean, movies_metadata_clean], axis=1)\n",
        "related_movies = related_movies.loc[~related_movies.index.duplicated(keep='first')]\n",
        "\n",
        "# Verificar la estructura y la información de related_movies\n",
        "print(related_movies.info())\n",
        "#print(related_movies.head())\n"
      ]
    },
    {
      "cell_type": "markdown",
      "metadata": {
        "id": "I6mXwexzieBJ"
      },
      "source": [
        "El DataFrame **`related_movies`** ahora contiene **45.843 entradas** después de *eliminar duplicados y filas con valores nulos* en las columnas de interés **'imdbId', 'tmdbId', 'movieId', 'imdb_id'**.\n",
        "\n",
        "La información de este DataFrame incluye las diversas características de las películas, como su título, género, presupuesto, ingresos, etc., donde **cada fila representa una película relacionada que se encontró tanto en el DataFrame links como en el DataFrame movies_metadata, lo que significa que este Dataframe ya contiene películas con los enlaces a IMDb y TMDb disponibles.**\n",
        "\n",
        "\n"
      ]
    },
    {
      "cell_type": "markdown",
      "metadata": {
        "id": "sZt0WTevk0iV"
      },
      "source": [
        "# **API de IMDb y Enriquecimiento de datos**\n",
        "\n",
        "Ahora, aunque ya estaríamos en disposición de usar la API de IMDb para obtener detalles adicionales sobre las películas para un sistema de recomendación de películas basado en datos enriquecidos, IMDb no está facilitando datos a través de API para fines académicos.\n",
        "\n"
      ]
    },
    {
      "cell_type": "markdown",
      "metadata": {
        "id": "k69WFVeze-J6"
      },
      "source": [
        "# **4. Filtrado colaborativo: enfoque basado en el usuario y basado en ítems.**\n",
        "\n",
        "**Desarrollo del filtrado colaborativo**\n",
        "\n",
        "Para implementar el filtrado colaborativo, se utilizarán dos enfoques principales: basado en el usuario y basado en ítems. Estos enfoques se basan en la idea de que las preferencias de un usuario se pueden predecir utilizando las preferencias de usuarios similares o las características de películas similares.\n",
        "\n",
        "**`Enfoque basado en el usuario`:**\n",
        "En este enfoque, se calcula la similitud entre usuarios en función de las calificaciones que han dado a películas comunes. Luego, para un usuario dado, se identifican los usuarios más similares y se utilizan sus calificaciones para predecir las calificaciones faltantes del usuario objetivo.\n",
        "\n",
        "**`Enfoque basado en ítems`:**\n",
        "En este enfoque, se calcula la similitud entre películas en función de las calificaciones que han recibido de los usuarios. Luego, para una película dada, se identifican las películas más similares y se utilizan las calificaciones de los usuarios para predecir la calificación de la película objetivo.\n",
        "\n",
        "**`Factorización matricial para predecir las calificaciones faltantes`:**\n",
        "La descomposición de valores singulares (SVD) es una técnica de factorización matricial que se utiliza comúnmente en filtrado colaborativo. En este enfoque, la matriz de calificaciones de usuarios y películas se descompone en matrices de características latentes. Estas matrices representan características ocultas de usuarios y películas, como preferencias y géneros, respectivamente. Al predecir las calificaciones faltantes, se utilizan estas matrices para estimar las calificaciones que un usuario daría a una película.\n",
        "\n",
        "Para implementar la técnica de SVD, utilizaremos la biblioteca **scikit-surprise** en Python, que proporciona una implementación fácil de usar de algoritmos de filtrado colaborativo, incluido SVD.\n",
        "\n",
        "# Implementación paso a paso:\n",
        "\n",
        "**Preparación de datos:**\n",
        "Se preparan los datos de calificaciones en una matriz de usuario-película, donde las filas representan usuarios, las columnas representan películas y las celdas representan las calificaciones dadas por los usuarios a las películas.\n",
        "\n",
        "**Descomposición de valores singulares:**\n",
        "Se aplica la descomposición de valores singulares (SVD) a la matriz de calificaciones para obtener matrices de características latentes de usuarios y películas.\n",
        "\n",
        "**Predicción de calificaciones:**\n",
        "Se utilizan las matrices de características latentes para predecir las calificaciones faltantes en la matriz de calificaciones.\n",
        "\n",
        "**Evaluación del modelo:** Se evalúa el rendimiento del modelo utilizando métricas como RMSE (Root Mean Squared Error) para comparar las calificaciones reales con las predicciones del modelo.\n",
        "\n",
        "**Ajuste de parámetros:**\n",
        "Se ajustan los parámetros del modelo, como el número de características latentes, utilizando técnicas de validación cruzada para mejorar el rendimiento del modelo.\n",
        "\n",
        "Una vez completada la implementación, **compararemos el rendimiento del filtrado colaborativo basado en el usuario y basado en ítems para determinar cuál funciona mejor para el conjunto de datos específico y luego integrar el mejor enfoque en el sistema de recomendación.**\n",
        "\n"
      ]
    },
    {
      "cell_type": "markdown",
      "metadata": {
        "id": "Omyw5wA152ey"
      },
      "source": [
        "**Modelo SVD: enfoque basado en usuarios**\n",
        "\n",
        "Este enfoque calcula la similitud entre usuarios basándose en las calificaciones que han dado a películas comunes. Luego, para un usuario dado, se identifican los usuarios más similares y se utilizan sus calificaciones para predecir las calificaciones faltantes del usuario objetivo."
      ]
    },
    {
      "cell_type": "code",
      "execution_count": null,
      "metadata": {
        "colab": {
          "base_uri": "https://localhost:8080/"
        },
        "id": "_Eqm6DXp55FI",
        "outputId": "b748af8b-3246-43e0-8626-a6a27df6a484"
      },
      "outputs": [
        {
          "output_type": "stream",
          "name": "stdout",
          "text": [
            "Collecting surprise\n",
            "  Downloading surprise-0.1-py2.py3-none-any.whl (1.8 kB)\n",
            "Collecting scikit-surprise (from surprise)\n",
            "  Downloading scikit-surprise-1.1.3.tar.gz (771 kB)\n",
            "\u001b[?25l     \u001b[90m━━━━━━━━━━━━━━━━━━━━━━━━━━━━━━━━━━━━━━━━\u001b[0m \u001b[32m0.0/772.0 kB\u001b[0m \u001b[31m?\u001b[0m eta \u001b[36m-:--:--\u001b[0m\r\u001b[2K     \u001b[91m━━━━━━━━━━━\u001b[0m\u001b[91m╸\u001b[0m\u001b[90m━━━━━━━━━━━━━━━━━━━━━━━━━━━━\u001b[0m \u001b[32m225.3/772.0 kB\u001b[0m \u001b[31m7.0 MB/s\u001b[0m eta \u001b[36m0:00:01\u001b[0m\r\u001b[2K     \u001b[91m━━━━━━━━━━━━━━━━━━━━━━━━━━━━━━━━━━━━━━━\u001b[0m\u001b[91m╸\u001b[0m \u001b[32m768.0/772.0 kB\u001b[0m \u001b[31m11.8 MB/s\u001b[0m eta \u001b[36m0:00:01\u001b[0m\r\u001b[2K     \u001b[90m━━━━━━━━━━━━━━━━━━━━━━━━━━━━━━━━━━━━━━━━\u001b[0m \u001b[32m772.0/772.0 kB\u001b[0m \u001b[31m10.0 MB/s\u001b[0m eta \u001b[36m0:00:00\u001b[0m\n",
            "\u001b[?25h  Preparing metadata (setup.py) ... \u001b[?25l\u001b[?25hdone\n",
            "Requirement already satisfied: joblib>=1.0.0 in /usr/local/lib/python3.10/dist-packages (from scikit-surprise->surprise) (1.3.2)\n",
            "Requirement already satisfied: numpy>=1.17.3 in /usr/local/lib/python3.10/dist-packages (from scikit-surprise->surprise) (1.25.2)\n",
            "Requirement already satisfied: scipy>=1.3.2 in /usr/local/lib/python3.10/dist-packages (from scikit-surprise->surprise) (1.11.4)\n",
            "Building wheels for collected packages: scikit-surprise\n",
            "  Building wheel for scikit-surprise (setup.py) ... \u001b[?25l\u001b[?25hdone\n",
            "  Created wheel for scikit-surprise: filename=scikit_surprise-1.1.3-cp310-cp310-linux_x86_64.whl size=3163005 sha256=18e5dec467718ff93387af3ef592d047abe1357ceaa9d23d20cf8df65556afb1\n",
            "  Stored in directory: /root/.cache/pip/wheels/a5/ca/a8/4e28def53797fdc4363ca4af740db15a9c2f1595ebc51fb445\n",
            "Successfully built scikit-surprise\n",
            "Installing collected packages: scikit-surprise, surprise\n",
            "Successfully installed scikit-surprise-1.1.3 surprise-0.1\n",
            "RMSE: 0.9045\n",
            "RMSE (Usuario): 0.9044662177426631\n"
          ]
        }
      ],
      "source": [
        "# Paso 1: Importar las bibliotecas necesarias\n",
        "import pandas as pd\n",
        "!pip install surprise\n",
        "from surprise import Dataset, Reader, SVD\n",
        "from surprise.model_selection import train_test_split\n",
        "from surprise.accuracy import rmse\n",
        "\n",
        "# Cargar los datos desde el DataFrame ratings_small\n",
        "# ratings_small = pd.read_csv('ruta_del_archivo_ratings_small.csv')\n",
        "\n",
        "# Paso 2: Configurar el lector y cargar los datos\n",
        "reader = Reader(rating_scale=(0, 5))\n",
        "data = Dataset.load_from_df(ratings_small[['userId', 'movieId', 'rating']], reader)\n",
        "\n",
        "# Paso 3: Dividir los datos en conjuntos de entrenamiento y prueba\n",
        "trainset, testset = train_test_split(data, test_size=0.2, random_state=42)\n",
        "\n",
        "# Paso 4: Entrenar el modelo SVD\n",
        "model = SVD()\n",
        "model.fit(trainset)\n",
        "\n",
        "# Paso 5: Realizar predicciones en el conjunto de prueba\n",
        "predictions = model.test(testset)\n",
        "\n",
        "# Paso 6: Evaluar el rendimiento del modelo\n",
        "accuracy = rmse(predictions)\n",
        "print(\"RMSE (Usuario):\", accuracy)\n"
      ]
    },
    {
      "cell_type": "markdown",
      "metadata": {
        "id": "bDWREmEt2CQ7"
      },
      "source": [
        "**Modelo SVD: enfoque basado en ítems**\n",
        "\n",
        "En este enfoque, se calcula la similitud entre películas en función de las calificaciones que han recibido de los usuarios. Luego, para una película dada, se identifican las películas más similares y se utilizan las calificaciones de los usuarios para predecir la calificación de la película objetivo.\n",
        "\n",
        "Además, en este enfoque se utiliza el **parámetro biased=False** para que no se tengan en cuenta las características específicas de los usuarios, sino solo las similitudes entre las películas (ítems).\n"
      ]
    },
    {
      "cell_type": "code",
      "execution_count": null,
      "metadata": {
        "id": "2mzM7TcX50Ef",
        "colab": {
          "base_uri": "https://localhost:8080/"
        },
        "outputId": "15dd24ca-bf08-40e6-f4dd-788e7bf1a827"
      },
      "outputs": [
        {
          "output_type": "stream",
          "name": "stdout",
          "text": [
            "RMSE: 1.0188\n",
            "RMSE (Ítem): 1.018797936058784\n"
          ]
        }
      ],
      "source": [
        "# Paso 1: Importar las bibliotecas necesarias\n",
        "import pandas as pd\n",
        "from surprise import Dataset, Reader, SVD\n",
        "from surprise.model_selection import train_test_split\n",
        "from surprise.accuracy import rmse\n",
        "\n",
        "# Cargar los datos desde el DataFrame ratings_small\n",
        "# ratings_small = pd.read_csv('ruta_del_archivo_ratings_small.csv')\n",
        "\n",
        "# Paso 2: Configurar el lector y cargar los datos\n",
        "reader = Reader(rating_scale=(0, 5))\n",
        "data = Dataset.load_from_df(ratings_small[['userId', 'movieId', 'rating']], reader)\n",
        "\n",
        "# Paso 3: Dividir los datos en conjuntos de entrenamiento y prueba\n",
        "trainset, testset = train_test_split(data, test_size=0.2, random_state=42)\n",
        "\n",
        "# Paso 4: Entrenar el modelo SVD con enfoque basado en ítems\n",
        "model = SVD(biased=False)\n",
        "model.fit(trainset)\n",
        "\n",
        "# Paso 5: Realizar predicciones en el conjunto de prueba\n",
        "predictions = model.test(testset)\n",
        "\n",
        "# Paso 6: Evaluar el rendimiento del modelo\n",
        "accuracy = rmse(predictions)\n",
        "print(\"RMSE (Ítem):\", accuracy)\n"
      ]
    },
    {
      "cell_type": "markdown",
      "metadata": {
        "id": "II0uK4RZDPEr"
      },
      "source": [
        "Aunque los pasos realizados hasta ahora proporcionan una evaluación inicial del rendimiento del modelo, ajustar los parámetros podría mejorar aún más el rendimiento y permitir una comparación más precisa entre los enfoques basados en usuarios y en ítems."
      ]
    },
    {
      "cell_type": "markdown",
      "metadata": {
        "id": "Wm4SkqJ4BZFB"
      },
      "source": [
        "**Ajuste de parámetros: validación cruzada (Enfoque usuarios):**"
      ]
    },
    {
      "cell_type": "code",
      "execution_count": null,
      "metadata": {
        "colab": {
          "base_uri": "https://localhost:8080/"
        },
        "id": "VBv3QLL37qxf",
        "outputId": "d9e4aa13-4632-4402-ab3a-2ee00969c095"
      },
      "outputs": [
        {
          "output_type": "stream",
          "name": "stdout",
          "text": [
            "Requirement already satisfied: surprise in /usr/local/lib/python3.10/dist-packages (0.1)\n",
            "Requirement already satisfied: scikit-surprise in /usr/local/lib/python3.10/dist-packages (from surprise) (1.1.3)\n",
            "Requirement already satisfied: joblib>=1.0.0 in /usr/local/lib/python3.10/dist-packages (from scikit-surprise->surprise) (1.3.2)\n",
            "Requirement already satisfied: numpy>=1.17.3 in /usr/local/lib/python3.10/dist-packages (from scikit-surprise->surprise) (1.25.2)\n",
            "Requirement already satisfied: scipy>=1.3.2 in /usr/local/lib/python3.10/dist-packages (from scikit-surprise->surprise) (1.11.4)\n",
            "Mejores parámetros (Usuarios): {'n_factors': 50, 'n_epochs': 20, 'lr_all': 0.005}\n",
            "Mejor RMSE (Usuarios): 0.9006018541889436\n"
          ]
        }
      ],
      "source": [
        "# Paso 1: Importar las bibliotecas necesarias\n",
        "import pandas as pd\n",
        "!pip install surprise\n",
        "from surprise import Dataset, Reader, SVD\n",
        "from surprise.model_selection import train_test_split, GridSearchCV\n",
        "from surprise.accuracy import rmse\n",
        "\n",
        "# Cargar los datos desde el DataFrame ratings_small\n",
        "# ratings_small = pd.read_csv('ruta_del_archivo_ratings_small.csv')\n",
        "\n",
        "# Paso 2: Configurar el lector y cargar los datos\n",
        "reader = Reader(rating_scale=(0, 5))\n",
        "data = Dataset.load_from_df(ratings_small[['userId', 'movieId', 'rating']], reader)\n",
        "\n",
        "# Paso 3: Dividir los datos en conjuntos de entrenamiento y prueba\n",
        "trainset_user, testset_user = train_test_split(data, test_size=0.2, random_state=42)\n",
        "\n",
        "# Paso 4: Definir los parámetros para la búsqueda en la cuadrícula\n",
        "param_grid = {'n_factors': [50, 100, 150], 'n_epochs': [10, 20, 30], 'lr_all': [0.002, 0.005, 0.01]}\n",
        "\n",
        "# Paso 5: Realizar la búsqueda en la cuadrícula para encontrar los mejores parámetros\n",
        "gs_user = GridSearchCV(SVD, param_grid, measures=['rmse'], cv=3)\n",
        "gs_user.fit(data)\n",
        "\n",
        "# Paso 6: Obtener los mejores parámetros y el mejor RMSE\n",
        "best_params_user = gs_user.best_params['rmse']\n",
        "best_rmse_user = gs_user.best_score['rmse']\n",
        "print(\"Mejores parámetros (Usuarios):\", best_params_user)\n",
        "print(\"Mejor RMSE (Usuarios):\", best_rmse_user)\n"
      ]
    },
    {
      "cell_type": "markdown",
      "metadata": {
        "id": "gw4ULoOqBZZa"
      },
      "source": [
        "**Ajuste de parámetros: validación cruzada (Enfoque ítems):**"
      ]
    },
    {
      "cell_type": "code",
      "execution_count": null,
      "metadata": {
        "id": "v0JtbCBf76V1",
        "colab": {
          "base_uri": "https://localhost:8080/"
        },
        "outputId": "1fbf9d9f-5fbe-4de5-a730-495c6779c909"
      },
      "outputs": [
        {
          "output_type": "stream",
          "name": "stdout",
          "text": [
            "Mejores parámetros (Ítems): {'n_factors': 50, 'n_epochs': 20, 'lr_all': 0.01, 'biased': False}\n",
            "Mejor RMSE (Ítems): 0.9940825881128701\n"
          ]
        }
      ],
      "source": [
        "# Paso 1: Importar las bibliotecas necesarias\n",
        "import pandas as pd\n",
        "from surprise import Dataset, Reader, SVD\n",
        "from surprise.model_selection import train_test_split, GridSearchCV\n",
        "from surprise.accuracy import rmse\n",
        "\n",
        "# Cargar los datos desde el DataFrame ratings_small\n",
        "# ratings_small = pd.read_csv('ruta_del_archivo_ratings_small.csv')\n",
        "\n",
        "# Paso 2: Configurar el lector y cargar los datos\n",
        "reader = Reader(rating_scale=(0, 5))\n",
        "data = Dataset.load_from_df(ratings_small[['userId', 'movieId', 'rating']], reader)\n",
        "\n",
        "# Paso 3: Dividir los datos en conjuntos de entrenamiento y prueba\n",
        "trainset_item, testset_item = train_test_split(data, test_size=0.2, random_state=42)\n",
        "\n",
        "# Paso 4: Definir los parámetros para la búsqueda en la cuadrícula\n",
        "param_grid = {'n_factors': [50, 100, 150], 'n_epochs': [10, 20, 30], 'lr_all': [0.002, 0.005, 0.01], 'biased': [False]}\n",
        "\n",
        "# Paso 5: Realizar la búsqueda en la cuadrícula para encontrar los mejores parámetros\n",
        "gs_item = GridSearchCV(SVD, param_grid, measures=['rmse'], cv=3)\n",
        "gs_item.fit(data)\n",
        "\n",
        "# Paso 6: Obtener los mejores parámetros y el mejor RMSE\n",
        "best_params_item = gs_item.best_params['rmse']\n",
        "best_rmse_item = gs_item.best_score['rmse']\n",
        "print(\"Mejores parámetros (Ítems):\", best_params_item)\n",
        "print(\"Mejor RMSE (Ítems):\", best_rmse_item)\n"
      ]
    },
    {
      "cell_type": "markdown",
      "metadata": {
        "id": "6t6Q-8LgBZwG"
      },
      "source": [
        "**Comparación de los rendimientos de los modelos optimizados**\n",
        "\n",
        "Ambos códigos han ejecutado con éxito la búsqueda de parámetros óptimos para los modelos SVD, utilizando el enfoque basado en usuarios y el enfoque basado en ítems respectivamente con los siguientes resultados:\n",
        "\n",
        "**Enfoque basado en usuarios:**\n",
        "Mejores parámetros (Usuarios): {'n_factors': 50, 'n_epochs': 20, 'lr_all': 0.005}\n",
        "Mejor RMSE (Usuarios): 0.8986138595854712\n",
        "\n",
        "**Enfoque basado en ítems:**\n",
        "Mejores parámetros (Ítems): {'n_factors': 50, 'n_epochs': 20, 'lr_all': 0.01, 'biased': False}\n",
        "Mejor RMSE (Ítems): 0.9939763924284034\n",
        "\n",
        "Por otro lado, aunque ambos enfoques han logrado reducir su respectivos RMSE tras el ajuste de parámetros por validación cruzada, lo que indica una mejora en la precisión de los modelos, los parámetros óptimos y el RMSE final son ligeramente diferentes para cada enfoque.\n",
        "\n",
        "Dado que el RMSE más bajo indica un mejor rendimiento del modelo, podemos concluir que **el enfoque basado en usuarios tiene un mejor rendimiento en este conjunto de datos**, ya que tiene un RMSE más bajo en comparación con el enfoque basado en ítems.\n",
        "\n",
        "**En conclusión,** por ahora, **para obtener la mejor calidad de recomendaciones** en nuestra aplicación de Recomendación de películas **usaríamos el modelo entrenado con los mejores parámetros bajo el enfoque basado en usuarios.**"
      ]
    },
    {
      "cell_type": "markdown",
      "metadata": {
        "id": "lQU4xbAydBsB"
      },
      "source": [
        "# **5. Filtrado basado en contenido**"
      ]
    },
    {
      "cell_type": "markdown",
      "metadata": {
        "id": "bpiL_jCsdB7c"
      },
      "source": [
        "**Desarrollo del filtrado basado en contenido**\n",
        "\n",
        "El objetivo en este caso es crear un modelo para recomendar películas basadas en su contenido. Para ello seguiremos los siguientes pasos:\n",
        "\n",
        "\n",
        "**Selección de características revelantes de las películas:**\n",
        "Decidimos seleccionar las siguientes características de los diferentes DataFrames por ser las más directamente relacionadas con el contenido de las películas, además de tener una alta disponibilidad de datos (pocos valores nulos) como ya vimos:\n",
        "\n",
        "**Movies Metadata:**\n",
        "\n",
        "`Géneros` (Genres)\n",
        "\n",
        "`Puntuación promedio de votos` (Vote Average)\n",
        "\n",
        "`Recuento total de votos` (Vote Count)\n",
        "\n",
        "`Popularidad` (Popularity)\n",
        "\n",
        "`Título original`(Original_title)\n",
        "\n",
        "`Idioma original` (Original Language)\n",
        "\n",
        "`Presupuesto` (Budget)\n",
        "\n",
        "**Credits:**\n",
        "\n",
        "`Elenco` (Cast)\n",
        "\n",
        "`Director` (Crew)\n",
        "\n",
        "\n",
        "Las características relacionadas con el contenido de la película incluyen elementos como género, puntuación, popularidad, idioma original y presupuesto, que describen la naturaleza y las características de la película misma. Sin embargo, el elenco y el director también son características importantes, ya que influyen en el estilo, la narrativa y la calidad de la película.\n",
        "\n",
        "\n",
        "\n",
        "**Creación de Perfiles de ítems:**\n",
        "Con estas características relevantes selecionadas, crearemos perfiles de ítems para cada película. Este proceso incluirá la **tokenización, el procesamiento de texto, la ingeniería de características y la normalización** según se vea necesario.\n",
        "\n",
        "**Recomendaciones:**\n",
        "Calcularemos la similitud entre los perfiles de ítems y las películas que el usuario ha calificado positivamente en el pasado para recomendar películas similares a las que le han gustado al usuario."
      ]
    },
    {
      "cell_type": "markdown",
      "metadata": {
        "id": "OEUKGBwezO9O"
      },
      "source": [
        "**Exploración de características relevantes sobre** `Movies_metadata` y `Credits`\n"
      ]
    },
    {
      "cell_type": "markdown",
      "metadata": {
        "id": "iFgrCGnw28qn"
      },
      "source": [
        "# `Movies_metada` (filtrado contenido)\n"
      ]
    },
    {
      "cell_type": "code",
      "execution_count": null,
      "metadata": {
        "id": "FIShn5flin_6",
        "colab": {
          "base_uri": "https://localhost:8080/"
        },
        "outputId": "f95201a8-481f-4746-90a2-08ba0309bfb2"
      },
      "outputs": [
        {
          "output_type": "stream",
          "name": "stdout",
          "text": [
            "      id                              genres  vote_average  vote_count  \\\n",
            "0    862   ['Animation', 'Comedy', 'Family']           7.7      5415.0   \n",
            "1   8844  ['Adventure', 'Fantasy', 'Family']           6.9      2413.0   \n",
            "2  15602               ['Romance', 'Comedy']           6.5        92.0   \n",
            "3  31357      ['Comedy', 'Drama', 'Romance']           6.1        34.0   \n",
            "4  11862                          ['Comedy']           5.7       173.0   \n",
            "\n",
            "   popularity original_language               original_title      budget  \n",
            "0   21.946943                en                    Toy Story  30000000.0  \n",
            "1   17.015539                en                      Jumanji  65000000.0  \n",
            "2   11.712900                en             Grumpier Old Men         0.0  \n",
            "3    3.859495                en            Waiting to Exhale  16000000.0  \n",
            "4    8.387519                en  Father of the Bride Part II         0.0  \n",
            "Index(['id', 'genres', 'vote_average', 'vote_count', 'popularity',\n",
            "       'original_language', 'original_title', 'budget'],\n",
            "      dtype='object')\n",
            "<class 'pandas.core.frame.DataFrame'>\n",
            "Int64Index: 45460 entries, 0 to 45465\n",
            "Data columns (total 8 columns):\n",
            " #   Column             Non-Null Count  Dtype  \n",
            "---  ------             --------------  -----  \n",
            " 0   id                 45460 non-null  int64  \n",
            " 1   genres             45460 non-null  object \n",
            " 2   vote_average       45460 non-null  float64\n",
            " 3   vote_count         45460 non-null  float64\n",
            " 4   popularity         45460 non-null  float64\n",
            " 5   original_language  45449 non-null  object \n",
            " 6   original_title     45460 non-null  object \n",
            " 7   budget             45460 non-null  float64\n",
            "dtypes: float64(4), int64(1), object(3)\n",
            "memory usage: 4.1+ MB\n",
            "None\n",
            "\n",
            "Valores nulos por columna:\n",
            " id                    0\n",
            "genres                0\n",
            "vote_average          0\n",
            "vote_count            0\n",
            "popularity            0\n",
            "original_language    11\n",
            "original_title        0\n",
            "budget                0\n",
            "dtype: int64\n",
            "\n",
            "Número de filas duplicadas: 17\n"
          ]
        },
        {
          "output_type": "stream",
          "name": "stderr",
          "text": [
            "<ipython-input-34-979973e13362>:11: SettingWithCopyWarning: \n",
            "A value is trying to be set on a copy of a slice from a DataFrame.\n",
            "Try using .loc[row_indexer,col_indexer] = value instead\n",
            "\n",
            "See the caveats in the documentation: https://pandas.pydata.org/pandas-docs/stable/user_guide/indexing.html#returning-a-view-versus-a-copy\n",
            "  movies_features['genres'] = movies_features['genres'].astype(str)\n"
          ]
        }
      ],
      "source": [
        "# Importar la biblioteca pandas\n",
        "import pandas as pd\n",
        "\n",
        "# Convertir la columna 'genres' en una cadena de texto separada por '|'\n",
        "#movies_metadata['genres'] = movies_metadata['genres'].apply(lambda x: '|'.join(map(str, x)))\n",
        "\n",
        "# Seleccionar las características relevantes de movies_metadata\n",
        "movies_features = movies_metadata[['id', 'genres', 'vote_average', 'vote_count', 'popularity', 'original_language', 'original_title', 'budget']]\n",
        "\n",
        "# Convertir la columna 'genres' en una cadena de texto\n",
        "movies_features['genres'] = movies_features['genres'].astype(str)\n",
        "\n",
        "# Explorar las primeras filas y las columnas de movies_features\n",
        "print(movies_features.head())\n",
        "print(movies_features.columns)\n",
        "print(movies_features.info())\n",
        "\n",
        "# Verificar si hay valores nulos en el DataFrame\n",
        "print(\"\\nValores nulos por columna:\\n\", movies_features.isnull().sum())\n",
        "\n",
        "# Verificar si hay duplicados en el DataFrame\n",
        "print(\"\\nNúmero de filas duplicadas:\", movies_features.duplicated().sum())\n"
      ]
    },
    {
      "cell_type": "markdown",
      "metadata": {
        "id": "qqR3Y7eG3PlV"
      },
      "source": [
        "**Tratamiento Nans sobre columna `'original_language'`:** `Movies_metadata`"
      ]
    },
    {
      "cell_type": "code",
      "execution_count": null,
      "metadata": {
        "id": "1CwBaj991vtL",
        "colab": {
          "base_uri": "https://localhost:8080/"
        },
        "outputId": "a6e4bef6-f6ce-4301-9bb6-c31a95245b9a"
      },
      "outputs": [
        {
          "output_type": "stream",
          "name": "stdout",
          "text": [
            "Valores nulos por columna en movies_metadata_cleaned:\n",
            " id                   0\n",
            "genres               0\n",
            "vote_average         0\n",
            "vote_count           0\n",
            "popularity           0\n",
            "original_language    0\n",
            "original_title       0\n",
            "budget               0\n",
            "dtype: int64\n"
          ]
        }
      ],
      "source": [
        "# Crear una copia del DataFrame movies_metadata\n",
        "movies_features_sinNans = movies_features.copy()\n",
        "\n",
        "# Eliminar filas con valores nulos solo en la columna 'original_language'\n",
        "movies_features_sinNans = movies_features_sinNans.dropna(subset=['original_language'])\n",
        "\n",
        "# Verificar si quedan valores nulos en las columnas relevantes\n",
        "relevant_columns = ['id', 'genres', 'vote_average', 'vote_count', 'popularity', 'original_language', 'original_title', 'budget']\n",
        "print(\"Valores nulos por columna en movies_metadata_cleaned:\\n\", movies_features_sinNans[relevant_columns].isnull().sum())"
      ]
    },
    {
      "cell_type": "markdown",
      "metadata": {
        "id": "mQsBBje63hK3"
      },
      "source": [
        "**Tratamiento Duplicados características relevantes** `Movies_metadata`"
      ]
    },
    {
      "cell_type": "code",
      "execution_count": null,
      "metadata": {
        "id": "O94o-pY95AI8",
        "colab": {
          "base_uri": "https://localhost:8080/"
        },
        "outputId": "825fb0b7-1f4b-4012-c742-f3a09e27969a"
      },
      "outputs": [
        {
          "output_type": "stream",
          "name": "stdout",
          "text": [
            "Número de filas duplicadas en movies_features_cleaned: 0\n"
          ]
        }
      ],
      "source": [
        "movies_features_cleaned = movies_features_sinNans.drop_duplicates(subset=relevant_columns)\n",
        "\n",
        "# Verificar si quedan duplicados en las columnas relevantes\n",
        "print(\"Número de filas duplicadas en movies_features_cleaned:\", movies_features_cleaned.duplicated(subset=relevant_columns).sum())\n"
      ]
    },
    {
      "cell_type": "markdown",
      "metadata": {
        "id": "zmfxITof3CE6"
      },
      "source": [
        "# `Credits` (filtrado contenido)"
      ]
    },
    {
      "cell_type": "code",
      "execution_count": null,
      "metadata": {
        "id": "qpC-oo4wyWVN",
        "colab": {
          "base_uri": "https://localhost:8080/"
        },
        "outputId": "a2485a78-b9f2-4f87-9431-78960a5c8a24"
      },
      "outputs": [
        {
          "output_type": "stream",
          "name": "stdout",
          "text": [
            "      id                                               cast  \\\n",
            "0    862  [{'cast_id': 14, 'character': 'Woody (voice)',...   \n",
            "1   8844  [{'cast_id': 1, 'character': 'Alan Parrish', '...   \n",
            "2  15602  [{'cast_id': 2, 'character': 'Max Goldman', 'c...   \n",
            "3  31357  [{'cast_id': 1, 'character': \"Savannah 'Vannah...   \n",
            "4  11862  [{'cast_id': 1, 'character': 'George Banks', '...   \n",
            "\n",
            "                                                crew  \n",
            "0  [{'credit_id': '52fe4284c3a36847f8024f49', 'de...  \n",
            "1  [{'credit_id': '52fe44bfc3a36847f80a7cd1', 'de...  \n",
            "2  [{'credit_id': '52fe466a9251416c75077a89', 'de...  \n",
            "3  [{'credit_id': '52fe44779251416c91011acb', 'de...  \n",
            "4  [{'credit_id': '52fe44959251416c75039ed7', 'de...  \n",
            "Index(['id', 'cast', 'crew'], dtype='object')\n",
            "<class 'pandas.core.frame.DataFrame'>\n",
            "RangeIndex: 45476 entries, 0 to 45475\n",
            "Data columns (total 3 columns):\n",
            " #   Column  Non-Null Count  Dtype \n",
            "---  ------  --------------  ----- \n",
            " 0   id      45476 non-null  int64 \n",
            " 1   cast    45476 non-null  object\n",
            " 2   crew    45476 non-null  object\n",
            "dtypes: int64(1), object(2)\n",
            "memory usage: 1.0+ MB\n",
            "None\n",
            "\n",
            "Valores nulos por columna:\n",
            " id      0\n",
            "cast    0\n",
            "crew    0\n",
            "dtype: int64\n",
            "\n",
            "Número de filas duplicadas: 37\n"
          ]
        }
      ],
      "source": [
        "# Seleccionar las características relevantes de credits\n",
        "credits_features = credits[['id', 'cast', 'crew']]\n",
        "\n",
        "# Explorar las primeras filas y las columnas de credits_features\n",
        "print(credits_features.head())\n",
        "print(credits_features.columns)\n",
        "print(credits_features.info())\n",
        "\n",
        "# Verificar si hay valores nulos en el DataFrame\n",
        "print(\"\\nValores nulos por columna:\\n\", credits_features.isnull().sum())\n",
        "\n",
        "# Verificar si hay duplicados en el DataFrame\n",
        "print(\"\\nNúmero de filas duplicadas:\", credits_features.duplicated().sum())\n"
      ]
    },
    {
      "cell_type": "markdown",
      "metadata": {
        "id": "S5vUFBl73HpF"
      },
      "source": [
        "**Tratamiento Duplicados** `Credits`"
      ]
    },
    {
      "cell_type": "code",
      "execution_count": null,
      "metadata": {
        "id": "4warz2NU22I0",
        "colab": {
          "base_uri": "https://localhost:8080/"
        },
        "outputId": "ba837ce8-15fe-491c-e7f9-f97b61ed1d54"
      },
      "outputs": [
        {
          "output_type": "stream",
          "name": "stdout",
          "text": [
            "Número de filas duplicadas en credits_features_cleaned: 0\n"
          ]
        }
      ],
      "source": [
        "# Crear una copia del DataFrame credits_features\n",
        "credits_features_cleaned = credits_features.copy()\n",
        "\n",
        "# Eliminar duplicados\n",
        "credits_features_cleaned.drop_duplicates(inplace=True)\n",
        "\n",
        "# Verificar si quedan duplicados\n",
        "print(\"Número de filas duplicadas en credits_features_cleaned:\", credits_features_cleaned.duplicated().sum())\n"
      ]
    },
    {
      "cell_type": "markdown",
      "metadata": {
        "id": "rxuoV8OBHJsW"
      },
      "source": [
        "# **Creación de perfiles de ítems**\n",
        "\n",
        " Ahora procederemos a crear los perfiles de ítems combinando las características de ambos DataFrames. Después, calcularemos la similitud entre los perfiles de ítems y las películas que el usuario ha calificado positivamente en el pasado para recomendar películas similares."
      ]
    },
    {
      "cell_type": "markdown",
      "metadata": {
        "id": "PeVErvP4L20-"
      },
      "source": [
        "# Nuevo Dataframe `item_profiles` (filtrado contenido)"
      ]
    },
    {
      "cell_type": "code",
      "execution_count": null,
      "metadata": {
        "id": "9ijfdWbgKPeo",
        "colab": {
          "base_uri": "https://localhost:8080/"
        },
        "outputId": "99c48212-6405-41c6-e731-b3e64cdd01b3"
      },
      "outputs": [
        {
          "output_type": "stream",
          "name": "stdout",
          "text": [
            "      id                              genres  vote_average  vote_count  \\\n",
            "0    862   ['Animation', 'Comedy', 'Family']           7.7      5415.0   \n",
            "1   8844  ['Adventure', 'Fantasy', 'Family']           6.9      2413.0   \n",
            "2  15602               ['Romance', 'Comedy']           6.5        92.0   \n",
            "3  31357      ['Comedy', 'Drama', 'Romance']           6.1        34.0   \n",
            "4  11862                          ['Comedy']           5.7       173.0   \n",
            "\n",
            "   popularity original_language               original_title      budget  \\\n",
            "0   21.946943                en                    Toy Story  30000000.0   \n",
            "1   17.015539                en                      Jumanji  65000000.0   \n",
            "2   11.712900                en             Grumpier Old Men         0.0   \n",
            "3    3.859495                en            Waiting to Exhale  16000000.0   \n",
            "4    8.387519                en  Father of the Bride Part II         0.0   \n",
            "\n",
            "                                                cast  \\\n",
            "0  [{'cast_id': 14, 'character': 'Woody (voice)',...   \n",
            "1  [{'cast_id': 1, 'character': 'Alan Parrish', '...   \n",
            "2  [{'cast_id': 2, 'character': 'Max Goldman', 'c...   \n",
            "3  [{'cast_id': 1, 'character': \"Savannah 'Vannah...   \n",
            "4  [{'cast_id': 1, 'character': 'George Banks', '...   \n",
            "\n",
            "                                                crew  \n",
            "0  [{'credit_id': '52fe4284c3a36847f8024f49', 'de...  \n",
            "1  [{'credit_id': '52fe44bfc3a36847f80a7cd1', 'de...  \n",
            "2  [{'credit_id': '52fe466a9251416c75077a89', 'de...  \n",
            "3  [{'credit_id': '52fe44779251416c91011acb', 'de...  \n",
            "4  [{'credit_id': '52fe44959251416c75039ed7', 'de...  \n",
            "Index(['id', 'genres', 'vote_average', 'vote_count', 'popularity',\n",
            "       'original_language', 'original_title', 'budget', 'cast', 'crew'],\n",
            "      dtype='object')\n",
            "<class 'pandas.core.frame.DataFrame'>\n",
            "Int64Index: 45442 entries, 0 to 45441\n",
            "Data columns (total 10 columns):\n",
            " #   Column             Non-Null Count  Dtype  \n",
            "---  ------             --------------  -----  \n",
            " 0   id                 45442 non-null  int64  \n",
            " 1   genres             45442 non-null  object \n",
            " 2   vote_average       45442 non-null  float64\n",
            " 3   vote_count         45442 non-null  float64\n",
            " 4   popularity         45442 non-null  float64\n",
            " 5   original_language  45442 non-null  object \n",
            " 6   original_title     45442 non-null  object \n",
            " 7   budget             45442 non-null  float64\n",
            " 8   cast               45442 non-null  object \n",
            " 9   crew               45442 non-null  object \n",
            "dtypes: float64(4), int64(1), object(5)\n",
            "memory usage: 3.8+ MB\n",
            "None\n",
            "\n",
            "Valores nulos por columna:\n",
            " id                   0\n",
            "genres               0\n",
            "vote_average         0\n",
            "vote_count           0\n",
            "popularity           0\n",
            "original_language    0\n",
            "original_title       0\n",
            "budget               0\n",
            "cast                 0\n",
            "crew                 0\n",
            "dtype: int64\n",
            "\n",
            "Número de filas duplicadas: 0\n"
          ]
        }
      ],
      "source": [
        "# Importar la biblioteca pandas\n",
        "import pandas as pd\n",
        "\n",
        "# Realizar la fusión utilizando la columna 'id'\n",
        "item_profiles = pd.merge(movies_features_cleaned, credits_features_cleaned, on='id')\n",
        "\n",
        "# Explorar las primeras filas y las columnas de item_profiles\n",
        "print(item_profiles.head())\n",
        "print(item_profiles.columns)\n",
        "print(item_profiles.info())\n",
        "\n",
        "# Verificar si hay valores nulos en el DataFrame\n",
        "print(\"\\nValores nulos por columna:\\n\", item_profiles.isnull().sum())\n",
        "\n",
        "# Verificar si hay duplicados en el DataFrame\n",
        "print(\"\\nNúmero de filas duplicadas:\", item_profiles.duplicated().sum())\n"
      ]
    },
    {
      "cell_type": "markdown",
      "metadata": {
        "id": "1P8YMoLJMk7_"
      },
      "source": [
        "Siguientes pasos sobre **`item_profiles`**:\n",
        "\n",
        "**Tokenización de texto:**\n",
        "La tokenización es relevante para la creación de perfiles de ítems sobre las características que contienen texto.\n",
        "\n",
        "**Procesamiento de texto**\n",
        "A modo de procesamiento adicional, eliminaremos palabras vacías y haremos lematización para estandarizar y reducir las palabras a su forma base.\n",
        "\n",
        "**Ingeniería de características:**\n",
        "Además de las características seleccionadas, crearemos una nueva característica a partir de las existentes.\n",
        "\n",
        "**Normalización de características:**\n",
        "Normalizaremos las características numéricas para que tengan una escala uniforme para mejorar el rendimiento del algoritmo de aprendizaje automático."
      ]
    },
    {
      "cell_type": "markdown",
      "metadata": {
        "id": "r0FRt2P5NaV1"
      },
      "source": [
        "# **Tokenización** (filtrado contenido)\n",
        "\n",
        "Cada columna aquí tokenizada contendrá listas de elementos correspondientes a las categorías de género, elenco (cast) y dirección (crew)."
      ]
    },
    {
      "cell_type": "code",
      "execution_count": null,
      "metadata": {
        "id": "Z5i0TWCZPgh9",
        "colab": {
          "base_uri": "https://localhost:8080/"
        },
        "outputId": "7ec5fc47-4300-4078-9e48-d17b4d6839dc"
      },
      "outputs": [
        {
          "output_type": "stream",
          "name": "stdout",
          "text": [
            "Genres Tokenized:\n",
            "0     [Animation, Comedy, Family]\n",
            "1    [Adventure, Fantasy, Family]\n",
            "2               [Romance, Comedy]\n",
            "3        [Comedy, Drama, Romance]\n",
            "4                        [Comedy]\n",
            "Name: genres, dtype: object\n",
            "\n",
            "Cast Tokenized:\n",
            "0    [Tom Hanks, Tim Allen, Don Rickles, Jim Varney...\n",
            "1    [Robin Williams, Jonathan Hyde, Kirsten Dunst,...\n",
            "2    [Walter Matthau, Jack Lemmon, Ann-Margret, Sop...\n",
            "3    [Whitney Houston, Angela Bassett, Loretta Devi...\n",
            "4    [Steve Martin, Diane Keaton, Martin Short, Kim...\n",
            "Name: cast, dtype: object\n",
            "\n",
            "Crew Tokenized:\n",
            "0    [John Lasseter, Joss Whedon, Andrew Stanton, J...\n",
            "1    [Larry J. Franco, Jonathan Hensleigh, James Ho...\n",
            "2    [Howard Deutch, Mark Steven Johnson, Mark Stev...\n",
            "3    [Forest Whitaker, Ronald Bass, Ronald Bass, Ez...\n",
            "4    [Alan Silvestri, Elliot Davis, Nancy Meyers, N...\n",
            "Name: crew, dtype: object\n"
          ]
        }
      ],
      "source": [
        "# Importar la biblioteca pandas\n",
        "import pandas as pd\n",
        "\n",
        "# Tokenización de la columna 'genres'\n",
        "genres_tokenized = item_profiles['genres'].apply(lambda x: eval(x))\n",
        "\n",
        "# Tokenización de la columna 'cast'\n",
        "cast_tokenized = item_profiles['cast'].apply(lambda x: [actor['name'] for actor in eval(x)])\n",
        "\n",
        "# Tokenización de la columna 'crew'\n",
        "crew_tokenized = item_profiles['crew'].apply(lambda x: [member['name'] for member in eval(x)])\n",
        "\n",
        "# Visualización de los primeros registros de las columnas tokenizadas\n",
        "print(\"Genres Tokenized:\")\n",
        "print(genres_tokenized.head())\n",
        "\n",
        "print(\"\\nCast Tokenized:\")\n",
        "print(cast_tokenized.head())\n",
        "\n",
        "print(\"\\nCrew Tokenized:\")\n",
        "print(crew_tokenized.head())\n"
      ]
    },
    {
      "cell_type": "markdown",
      "metadata": {
        "id": "Z3hNy0wBSyab"
      },
      "source": [
        "# **Procesamiento de texto** (filtrado contenido)\n",
        "\n",
        "Este código realizará la lematización y eliminará las palabras vacías para las columnas tokenizadas que hemos generado anteriormente."
      ]
    },
    {
      "cell_type": "code",
      "execution_count": null,
      "metadata": {
        "id": "ND2gRo0CTigM",
        "colab": {
          "base_uri": "https://localhost:8080/"
        },
        "outputId": "263bd327-3b99-47f4-fd88-67097c60c765"
      },
      "outputs": [
        {
          "output_type": "stream",
          "name": "stderr",
          "text": [
            "[nltk_data] Downloading package punkt to /root/nltk_data...\n",
            "[nltk_data]   Unzipping tokenizers/punkt.zip.\n",
            "[nltk_data] Downloading package stopwords to /root/nltk_data...\n",
            "[nltk_data]   Unzipping corpora/stopwords.zip.\n",
            "[nltk_data] Downloading package wordnet to /root/nltk_data...\n"
          ]
        },
        {
          "output_type": "stream",
          "name": "stdout",
          "text": [
            "Genres Processed:\n",
            "0     [Animation, Comedy, Family]\n",
            "1    [Adventure, Fantasy, Family]\n",
            "2               [Romance, Comedy]\n",
            "3        [Comedy, Drama, Romance]\n",
            "4                        [Comedy]\n",
            "Name: genres, dtype: object\n",
            "\n",
            "Cast Processed:\n",
            "0    [Tom Hanks, Tim Allen, Don Rickles, Jim Varney...\n",
            "1    [Robin Williams, Jonathan Hyde, Kirsten Dunst,...\n",
            "2    [Walter Matthau, Jack Lemmon, Ann-Margret, Sop...\n",
            "3    [Whitney Houston, Angela Bassett, Loretta Devi...\n",
            "4    [Steve Martin, Diane Keaton, Martin Short, Kim...\n",
            "Name: cast, dtype: object\n",
            "\n",
            "Crew Processed:\n",
            "0    [John Lasseter, Joss Whedon, Andrew Stanton, J...\n",
            "1    [Larry J. Franco, Jonathan Hensleigh, James Ho...\n",
            "2    [Howard Deutch, Mark Steven Johnson, Mark Stev...\n",
            "3    [Forest Whitaker, Ronald Bass, Ronald Bass, Ez...\n",
            "4    [Alan Silvestri, Elliot Davis, Nancy Meyers, N...\n",
            "Name: crew, dtype: object\n"
          ]
        }
      ],
      "source": [
        "# Importar bibliotecas necesarias\n",
        "import nltk\n",
        "from nltk.corpus import stopwords\n",
        "from nltk.tokenize import word_tokenize\n",
        "from nltk.stem import WordNetLemmatizer\n",
        "\n",
        "# Descargar recursos de NLTK\n",
        "nltk.download('punkt')\n",
        "nltk.download('stopwords')\n",
        "nltk.download('wordnet')\n",
        "\n",
        "# Inicializar el lematizador y las palabras vacías\n",
        "lemmatizer = WordNetLemmatizer()\n",
        "stop_words = set(stopwords.words('english'))\n",
        "\n",
        "# Función para lematizar y eliminar palabras vacías\n",
        "def process_text(tokens):\n",
        "    return [lemmatizer.lemmatize(word) for word in tokens if word.lower() not in stop_words]\n",
        "\n",
        "# Procesamiento de texto para cada columna tokenizada\n",
        "genres_processed = genres_tokenized.apply(process_text)\n",
        "cast_processed = cast_tokenized.apply(process_text)\n",
        "crew_processed = crew_tokenized.apply(process_text)\n",
        "\n",
        "# Visualización de los primeros registros después del procesamiento\n",
        "print(\"Genres Processed:\")\n",
        "print(genres_processed.head())\n",
        "\n",
        "print(\"\\nCast Processed:\")\n",
        "print(cast_processed.head())\n",
        "\n",
        "print(\"\\nCrew Processed:\")\n",
        "print(crew_processed.head())\n"
      ]
    },
    {
      "cell_type": "markdown",
      "metadata": {
        "id": "ztT_74muUWiu"
      },
      "source": [
        "# **Ingeniería de características** (filtrado contenido)\n",
        "\n"
      ]
    },
    {
      "cell_type": "markdown",
      "metadata": {
        "id": "78VxK9Saeyk7"
      },
      "source": [
        "Dataframe **`item_profiles_enriched`** (`Nueva columna genre_avg_popularity`)"
      ]
    },
    {
      "cell_type": "code",
      "execution_count": null,
      "metadata": {
        "id": "yvdFALjBdb0E",
        "colab": {
          "base_uri": "https://localhost:8080/"
        },
        "outputId": "014993b8-a881-43c6-e428-18b6083a262f"
      },
      "outputs": [
        {
          "output_type": "stream",
          "name": "stdout",
          "text": [
            "      id                              genres  vote_average  vote_count  \\\n",
            "0    862   ['Animation', 'Comedy', 'Family']           7.7      5415.0   \n",
            "1   8844  ['Adventure', 'Fantasy', 'Family']           6.9      2413.0   \n",
            "2  15602               ['Romance', 'Comedy']           6.5        92.0   \n",
            "3  31357      ['Comedy', 'Drama', 'Romance']           6.1        34.0   \n",
            "4  11862                          ['Comedy']           5.7       173.0   \n",
            "\n",
            "   popularity original_language               original_title      budget  \\\n",
            "0   21.946943                en                    Toy Story  30000000.0   \n",
            "1   17.015539                en                      Jumanji  65000000.0   \n",
            "2   11.712900                en             Grumpier Old Men         0.0   \n",
            "3    3.859495                en            Waiting to Exhale  16000000.0   \n",
            "4    8.387519                en  Father of the Bride Part II         0.0   \n",
            "\n",
            "                                                cast  \\\n",
            "0  [{'cast_id': 14, 'character': 'Woody (voice)',...   \n",
            "1  [{'cast_id': 1, 'character': 'Alan Parrish', '...   \n",
            "2  [{'cast_id': 2, 'character': 'Max Goldman', 'c...   \n",
            "3  [{'cast_id': 1, 'character': \"Savannah 'Vannah...   \n",
            "4  [{'cast_id': 1, 'character': 'George Banks', '...   \n",
            "\n",
            "                                                crew  genre_avg_popularity  \n",
            "0  [{'credit_id': '52fe4284c3a36847f8024f49', 'de...              6.506308  \n",
            "1  [{'credit_id': '52fe44bfc3a36847f80a7cd1', 'de...             14.743425  \n",
            "2  [{'credit_id': '52fe466a9251416c75077a89', 'de...              2.216156  \n",
            "3  [{'credit_id': '52fe44779251416c91011acb', 'de...              4.195136  \n",
            "4  [{'credit_id': '52fe44959251416c75039ed7', 'de...              2.320303  \n"
          ]
        }
      ],
      "source": [
        "# Calcular la popularidad promedio por género\n",
        "genre_popularity = item_profiles.groupby('genres')['popularity'].mean().reset_index()\n",
        "\n",
        "# Fusionar la popularidad promedio por género con el DataFrame original\n",
        "item_profiles_enriched = pd.merge(item_profiles, genre_popularity, on='genres', how='left')\n",
        "\n",
        "# Renombrar columnas popularity_x y popularity_y\n",
        "item_profiles_enriched.rename(columns={'popularity_x': 'popularity', 'popularity_y': 'genre_avg_popularity'}, inplace=True)\n",
        "\n",
        "# Verificar los primeros registros del nuevo DataFrame\n",
        "print(item_profiles_enriched.head())\n"
      ]
    },
    {
      "cell_type": "code",
      "execution_count": null,
      "metadata": {
        "id": "MckxrKHOcQRh",
        "colab": {
          "base_uri": "https://localhost:8080/"
        },
        "outputId": "441cff00-7b48-40f8-a323-b4cc8290fc4b"
      },
      "outputs": [
        {
          "output_type": "stream",
          "name": "stdout",
          "text": [
            "<class 'pandas.core.frame.DataFrame'>\n",
            "Int64Index: 45442 entries, 0 to 45441\n",
            "Data columns (total 11 columns):\n",
            " #   Column                Non-Null Count  Dtype  \n",
            "---  ------                --------------  -----  \n",
            " 0   id                    45442 non-null  int64  \n",
            " 1   genres                45442 non-null  object \n",
            " 2   vote_average          45442 non-null  float64\n",
            " 3   vote_count            45442 non-null  float64\n",
            " 4   popularity            45442 non-null  float64\n",
            " 5   original_language     45442 non-null  object \n",
            " 6   original_title        45442 non-null  object \n",
            " 7   budget                45442 non-null  float64\n",
            " 8   cast                  45442 non-null  object \n",
            " 9   crew                  45442 non-null  object \n",
            " 10  genre_avg_popularity  45442 non-null  float64\n",
            "dtypes: float64(5), int64(1), object(5)\n",
            "memory usage: 4.2+ MB\n"
          ]
        }
      ],
      "source": [
        "item_profiles_enriched.info()"
      ]
    },
    {
      "cell_type": "markdown",
      "metadata": {
        "id": "aLXbCszpf9U5"
      },
      "source": [
        " Ahora el DataFrame **item_profiles_enriched** contiene la nueva columna **`genre_avg_popularity`**, que representa la popularidad promedio por género."
      ]
    },
    {
      "cell_type": "markdown",
      "metadata": {
        "id": "y9EPr0kUhzLu"
      },
      "source": [
        "# **Normalización de características**\n",
        "\n",
        "Ya que las características numéricas de nuestro análisis varían en escalas diferentes nos es importante normalizarlas para asegurar que todas ellas tengan la misma influencia en los modelos de aprendizaje automático.\n",
        "\n",
        "(Dataframe **`item_profiles_enriched_norma`** normalizado)"
      ]
    },
    {
      "cell_type": "code",
      "execution_count": null,
      "metadata": {
        "id": "8_TYfAh4kGy1",
        "colab": {
          "base_uri": "https://localhost:8080/"
        },
        "outputId": "73e990d0-000e-42d1-ba97-b421890f3b40"
      },
      "outputs": [
        {
          "output_type": "stream",
          "name": "stdout",
          "text": [
            "      id                              genres  vote_average  vote_count  \\\n",
            "0    862   ['Animation', 'Comedy', 'Family']          0.77    0.384725   \n",
            "1   8844  ['Adventure', 'Fantasy', 'Family']          0.69    0.171439   \n",
            "2  15602               ['Romance', 'Comedy']          0.65    0.006536   \n",
            "3  31357      ['Comedy', 'Drama', 'Romance']          0.61    0.002416   \n",
            "4  11862                          ['Comedy']          0.57    0.012291   \n",
            "\n",
            "   popularity original_language               original_title    budget  \\\n",
            "0    0.040087                en                    Toy Story  0.078947   \n",
            "1    0.031079                en                      Jumanji  0.171053   \n",
            "2    0.021394                en             Grumpier Old Men  0.000000   \n",
            "3    0.007049                en            Waiting to Exhale  0.042105   \n",
            "4    0.015320                en  Father of the Bride Part II  0.000000   \n",
            "\n",
            "                                                cast  \\\n",
            "0  [{'cast_id': 14, 'character': 'Woody (voice)',...   \n",
            "1  [{'cast_id': 1, 'character': 'Alan Parrish', '...   \n",
            "2  [{'cast_id': 2, 'character': 'Max Goldman', 'c...   \n",
            "3  [{'cast_id': 1, 'character': \"Savannah 'Vannah...   \n",
            "4  [{'cast_id': 1, 'character': 'George Banks', '...   \n",
            "\n",
            "                                                crew  genre_avg_popularity  \n",
            "0  [{'credit_id': '52fe4284c3a36847f8024f49', 'de...              0.030425  \n",
            "1  [{'credit_id': '52fe44bfc3a36847f80a7cd1', 'de...              0.068943  \n",
            "2  [{'credit_id': '52fe466a9251416c75077a89', 'de...              0.010363  \n",
            "3  [{'credit_id': '52fe44779251416c91011acb', 'de...              0.019617  \n",
            "4  [{'credit_id': '52fe44959251416c75039ed7', 'de...              0.010850  \n",
            "<class 'pandas.core.frame.DataFrame'>\n",
            "Int64Index: 45442 entries, 0 to 45441\n",
            "Data columns (total 11 columns):\n",
            " #   Column                Non-Null Count  Dtype  \n",
            "---  ------                --------------  -----  \n",
            " 0   id                    45442 non-null  int64  \n",
            " 1   genres                45442 non-null  object \n",
            " 2   vote_average          45442 non-null  float64\n",
            " 3   vote_count            45442 non-null  float64\n",
            " 4   popularity            45442 non-null  float64\n",
            " 5   original_language     45442 non-null  object \n",
            " 6   original_title        45442 non-null  object \n",
            " 7   budget                45442 non-null  float64\n",
            " 8   cast                  45442 non-null  object \n",
            " 9   crew                  45442 non-null  object \n",
            " 10  genre_avg_popularity  45442 non-null  float64\n",
            "dtypes: float64(5), int64(1), object(5)\n",
            "memory usage: 4.2+ MB\n",
            "None\n"
          ]
        }
      ],
      "source": [
        "from sklearn.preprocessing import MinMaxScaler\n",
        "\n",
        "# Seleccionar las características numéricas que deseas normalizar\n",
        "numeric_features = ['vote_average', 'vote_count', 'popularity', 'budget', 'genre_avg_popularity']\n",
        "\n",
        "# Inicializar el escalador\n",
        "scaler = MinMaxScaler()\n",
        "\n",
        "# Normalizar las características seleccionadas\n",
        "item_profiles_enriched[numeric_features] = scaler.fit_transform(item_profiles_enriched[numeric_features])\n",
        "\n",
        "# Renombrar el DataFrame normalizado\n",
        "item_profiles_enriched_norma = item_profiles_enriched\n",
        "\n",
        "# Verificar los primeros registros del DataFrame renombrado\n",
        "print(item_profiles_enriched_norma.head())\n",
        "print(item_profiles_enriched_norma.info())"
      ]
    },
    {
      "cell_type": "markdown",
      "metadata": {
        "id": "YacoImzWmUAx"
      },
      "source": [
        "**La normalización** se ha aplicado a las columnas **vote_average, vote_count, popularity, budget y genre_avg_popularity.**\n",
        "\n",
        "Las otras columnas como id, genres, original_language, cast y crew no han sido normalizadas ya que no son características numéricas."
      ]
    },
    {
      "cell_type": "markdown",
      "metadata": {
        "id": "wU9mEjz2gYBK"
      },
      "source": [
        "# **¿Cómo generamos las Recomendaciones de contenido?**\n",
        "Calcularemos la similitud entre los perfiles de ítems y las películas que el usuario ha calificado positivamente en el pasado para recomendar películas similares a las que le han gustado al usuario.\n",
        "\n",
        "**Para elllo seguiremos estos pasos:**\n",
        "\n",
        "**Obtener las películas que el usuario ha calificado positivamente:** Obtendremos las películas que el usuario ha calificado positivamente en el pasado utilizando la columna rating, donde cada fila representa una calificación dada por un usuario a una película.\n",
        "\n",
        "**Calcular el perfil de ítems para las películas calificadas positivamente:** Utilizaremos los datos de las películas calificadas positivamente por el usuario para construir el perfil de ítems.\n",
        "\n",
        "**Calcular la similitud entre perfiles de ítems:**\n",
        "Utilizaremos KNN (algoritmo de los vecinos más cercanos) con la métrica en función de la similitud coseno de las características para reducir los cálculos a la hora de encontrar las películas más similares.\n",
        "\n",
        "**Seleccionar las películas más similares:**\n",
        "Identificaremos las películas con perfiles de ítems más similares a las películas que el usuario ha calificado positivamente.\n",
        "\n",
        "**Recomendar películas similares:**\n",
        "Finalmente, recomendaremos 10 películas seleccionadas al usuario como recomendaciones basadas en sus preferencias pasadas."
      ]
    },
    {
      "cell_type": "markdown",
      "metadata": {
        "id": "EuXulfHgIAsi"
      },
      "source": [
        "# **Procesamiento de Dataframes** (Recomendación de contenido)"
      ]
    },
    {
      "cell_type": "markdown",
      "metadata": {
        "id": "yrvYcyemT0Yn"
      },
      "source": [
        "# Usuarios en común entre **\"`item_profiles_enriched_norma`\"y \"`ratings`\"**"
      ]
    },
    {
      "cell_type": "code",
      "execution_count": null,
      "metadata": {
        "id": "bfN552MzQ8jK",
        "colab": {
          "base_uri": "https://localhost:8080/"
        },
        "outputId": "cb0b1e4e-9591-4b49-ed0e-aa0be29415bd"
      },
      "outputs": [
        {
          "output_type": "stream",
          "name": "stdout",
          "text": [
            "Cantidad de coincidencias de ID entre ratings y item_profiles_enriched_norma: 39547\n"
          ]
        }
      ],
      "source": [
        "# Obtener los valores únicos de la columna 'movieId' en el DataFrame 'ratings'\n",
        "ratings_ids = set(ratings['userId'])\n",
        "\n",
        "# Obtener los valores únicos de la columna 'id' en el DataFrame 'item_profiles_enriched_norma'\n",
        "item_profiles_ids = set(item_profiles_enriched_norma['id'])\n",
        "\n",
        "# Verificar si hay coincidencias entre los valores de 'id' en ambos DataFrames\n",
        "matching_ids = ratings_ids.intersection(item_profiles_ids)\n",
        "\n",
        "# Imprimir la cantidad de coincidencias\n",
        "print(\"Cantidad de coincidencias de ID entre ratings y item_profiles_enriched_norma:\", len(matching_ids))\n"
      ]
    },
    {
      "cell_type": "markdown",
      "metadata": {
        "id": "l0JTuiZ_UcdJ"
      },
      "source": [
        "# DataFrame **`\"ratings_with_id\"`** (userId coincidentes con **`item_profiles_enriched_norma`** sin usuarios duplicados)."
      ]
    },
    {
      "cell_type": "code",
      "execution_count": null,
      "metadata": {
        "id": "K9kdj8dSTEs9",
        "colab": {
          "base_uri": "https://localhost:8080/"
        },
        "outputId": "0d858d01-8547-45f9-c83c-91c69bc38cd0"
      },
      "outputs": [
        {
          "output_type": "stream",
          "name": "stdout",
          "text": [
            "<class 'pandas.core.frame.DataFrame'>\n",
            "Int64Index: 39547 entries, 27 to 26020989\n",
            "Data columns (total 5 columns):\n",
            " #   Column        Non-Null Count  Dtype         \n",
            "---  ------        --------------  -----         \n",
            " 0   userId        39547 non-null  int64         \n",
            " 1   movieId       39547 non-null  int64         \n",
            " 2   rating        39547 non-null  float64       \n",
            " 3   timestamp     39547 non-null  datetime64[ns]\n",
            " 4   year_quarter  39547 non-null  period[Q-DEC] \n",
            "dtypes: datetime64[ns](1), float64(1), int64(2), period[Q-DEC](1)\n",
            "memory usage: 1.8 MB\n",
            "None\n"
          ]
        }
      ],
      "source": [
        "# Obtener los userId que coinciden con los id de item_profiles_enriched_norma\n",
        "matching_user_ids = set(ratings['userId']).intersection(item_profiles_enriched_norma['id'])\n",
        "\n",
        "# Crear el nuevo DataFrame 'ratings_with_id' filtrando 'ratings' con los userId que coinciden\n",
        "ratings_with_id = ratings[ratings['userId'].isin(matching_user_ids)]\n",
        "\n",
        "# Eliminar duplicados en userId\n",
        "ratings_with_id = ratings_with_id.drop_duplicates(subset='userId')\n",
        "\n",
        "# Mostrar información sobre el nuevo DataFrame\n",
        "print(ratings_with_id.info())\n"
      ]
    },
    {
      "cell_type": "markdown",
      "metadata": {
        "id": "5CK6lvJp5feZ"
      },
      "source": [
        "# Dataframe **`recomendador_contenido`** (merge **`item_profiles_enriched_norma`** con **`ratings_with_id`**)**"
      ]
    },
    {
      "cell_type": "code",
      "execution_count": null,
      "metadata": {
        "id": "dwuFFyB6Wn_q",
        "colab": {
          "base_uri": "https://localhost:8080/"
        },
        "outputId": "798c773e-5737-4f4f-8e62-cd1f87cfcccf"
      },
      "outputs": [
        {
          "output_type": "stream",
          "name": "stdout",
          "text": [
            "<class 'pandas.core.frame.DataFrame'>\n",
            "Int64Index: 39547 entries, 0 to 39569\n",
            "Data columns (total 16 columns):\n",
            " #   Column                Non-Null Count  Dtype         \n",
            "---  ------                --------------  -----         \n",
            " 0   userId                39547 non-null  int64         \n",
            " 1   movieId               39547 non-null  int64         \n",
            " 2   rating                39547 non-null  float64       \n",
            " 3   timestamp             39547 non-null  datetime64[ns]\n",
            " 4   year_quarter          39547 non-null  period[Q-DEC] \n",
            " 5   id                    39547 non-null  int64         \n",
            " 6   genres                39547 non-null  object        \n",
            " 7   vote_average          39547 non-null  float64       \n",
            " 8   vote_count            39547 non-null  float64       \n",
            " 9   popularity            39547 non-null  float64       \n",
            " 10  original_language     39547 non-null  object        \n",
            " 11  original_title        39547 non-null  object        \n",
            " 12  budget                39547 non-null  float64       \n",
            " 13  cast                  39547 non-null  object        \n",
            " 14  crew                  39547 non-null  object        \n",
            " 15  genre_avg_popularity  39547 non-null  float64       \n",
            "dtypes: datetime64[ns](1), float64(6), int64(3), object(5), period[Q-DEC](1)\n",
            "memory usage: 5.1+ MB\n",
            "None\n"
          ]
        }
      ],
      "source": [
        "# Utilizar merge para combinar los DataFrames en uno nuevo llamado recomendador_contenido\n",
        "recomendador_contenido = ratings_with_id.merge(item_profiles_enriched_norma, left_on='userId', right_on='id', how='inner')\n",
        "\n",
        "# Eliminar duplicados en userId\n",
        "recomendador_contenido = recomendador_contenido.drop_duplicates(subset='userId')\n",
        "\n",
        "# Mostrar información sobre el nuevo DataFrame\n",
        "print(recomendador_contenido.info())\n"
      ]
    },
    {
      "cell_type": "code",
      "execution_count": null,
      "metadata": {
        "id": "l6PURV_0fceb",
        "colab": {
          "base_uri": "https://localhost:8080/"
        },
        "outputId": "3a672e8f-4176-4441-c51a-9babdd6286f8"
      },
      "outputs": [
        {
          "output_type": "stream",
          "name": "stdout",
          "text": [
            "Número de películas calificadas positivamente por el usuario: 1338\n"
          ]
        }
      ],
      "source": [
        "# Obtener las películas calificadas positivamente por el usuario\n",
        "positive_movie_ids = recomendador_contenido[recomendador_contenido['rating'] >= 3.5]['movieId'].unique()\n",
        "\n",
        "# Verificar la cantidad de películas calificadas positivamente\n",
        "print(\"Número de películas calificadas positivamente por el usuario:\", len(positive_movie_ids))\n"
      ]
    },
    {
      "cell_type": "code",
      "execution_count": null,
      "metadata": {
        "id": "uYX-68sAf3D7",
        "colab": {
          "base_uri": "https://localhost:8080/"
        },
        "outputId": "36023a93-a81e-478e-a45b-90fcdd8e556d"
      },
      "outputs": [
        {
          "output_type": "stream",
          "name": "stdout",
          "text": [
            "Información sobre el DataFrame de películas calificadas positivamente:\n",
            "<class 'pandas.core.frame.DataFrame'>\n",
            "Int64Index: 1338 entries, 0 to 39535\n",
            "Data columns (total 16 columns):\n",
            " #   Column                Non-Null Count  Dtype         \n",
            "---  ------                --------------  -----         \n",
            " 0   userId                1338 non-null   int64         \n",
            " 1   movieId               1338 non-null   int64         \n",
            " 2   rating                1338 non-null   float64       \n",
            " 3   timestamp             1338 non-null   datetime64[ns]\n",
            " 4   year_quarter          1338 non-null   period[Q-DEC] \n",
            " 5   id                    1338 non-null   int64         \n",
            " 6   genres                1338 non-null   object        \n",
            " 7   vote_average          1338 non-null   float64       \n",
            " 8   vote_count            1338 non-null   float64       \n",
            " 9   popularity            1338 non-null   float64       \n",
            " 10  original_language     1338 non-null   object        \n",
            " 11  original_title        1338 non-null   object        \n",
            " 12  budget                1338 non-null   float64       \n",
            " 13  cast                  1338 non-null   object        \n",
            " 14  crew                  1338 non-null   object        \n",
            " 15  genre_avg_popularity  1338 non-null   float64       \n",
            "dtypes: datetime64[ns](1), float64(6), int64(3), object(5), period[Q-DEC](1)\n",
            "memory usage: 177.7+ KB\n",
            "None\n"
          ]
        }
      ],
      "source": [
        "# Filtrar el DataFrame para obtener solo las películas calificadas positivamente\n",
        "positive_item_profiles = recomendador_contenido[recomendador_contenido['movieId'].isin(positive_movie_ids)].drop_duplicates(subset='movieId')\n",
        "\n",
        "# Mostrar información sobre el nuevo DataFrame\n",
        "print(\"Información sobre el DataFrame de películas calificadas positivamente:\")\n",
        "print(positive_item_profiles.info())\n"
      ]
    },
    {
      "cell_type": "code",
      "execution_count": null,
      "metadata": {
        "id": "FozCai0yn5FI",
        "colab": {
          "base_uri": "https://localhost:8080/"
        },
        "outputId": "81907280-629b-4aef-a3c3-33d91549d5d4"
      },
      "outputs": [
        {
          "output_type": "stream",
          "name": "stdout",
          "text": [
            "Número de películas calificadas positivamente por el usuario: 1338\n",
            "Número de películas en positive_item_profiles: 1338\n",
            "Número de filas en positive_item_profiles: 1338\n"
          ]
        }
      ],
      "source": [
        "# Verificaciones\n",
        "print(\"Número de películas calificadas positivamente por el usuario:\", len(positive_movie_ids))\n",
        "print(\"Número de películas en positive_item_profiles:\", positive_item_profiles['movieId'].nunique())\n",
        "print(\"Número de filas en positive_item_profiles:\", positive_item_profiles.shape[0])\n"
      ]
    },
    {
      "cell_type": "code",
      "execution_count": null,
      "metadata": {
        "id": "KBcITnDAgk1f"
      },
      "outputs": [],
      "source": [
        "positive_movie_ids = positive_item_profiles['movieId'].unique()\n"
      ]
    },
    {
      "cell_type": "code",
      "execution_count": null,
      "metadata": {
        "id": "hcXpBeX_gmp3"
      },
      "outputs": [],
      "source": [
        "positive_item_profiles = recomendador_contenido[recomendador_contenido['movieId'].isin(positive_movie_ids)]\n"
      ]
    },
    {
      "cell_type": "markdown",
      "metadata": {
        "id": "o_7yohC9sIA2"
      },
      "source": [
        "# **Demostración de recomendación de contenido**\n",
        "\n",
        "Demostración de cómo el modelo KNN genera recomendaciones encontrando películas similares a una película aleatoria seleccionada.\n"
      ]
    },
    {
      "cell_type": "code",
      "execution_count": null,
      "metadata": {
        "id": "fr3VL-EISUeW",
        "colab": {
          "base_uri": "https://localhost:8080/"
        },
        "outputId": "af6340e6-45ea-43c7-bff3-6ef041a1e064"
      },
      "outputs": [
        {
          "output_type": "stream",
          "name": "stdout",
          "text": [
            "Para la película aleatoria 'घायल':\n",
            " - Movie Title: घायल, Similarity Score: 1.0\n",
            " - Movie Title: Il giocattolo, Similarity Score: 0.9999999979276935\n",
            " - Movie Title: Der Fußgänger, Similarity Score: 0.9999999975662712\n",
            " - Movie Title: Nel continente nero, Similarity Score: 0.9999999975280475\n",
            " - Movie Title: La magie Méliès, Similarity Score: 0.9999999967830935\n",
            " - Movie Title: Tokyo Girl, Similarity Score: 0.9999999966346655\n",
            " - Movie Title: 天國逆子, Similarity Score: 0.9999999965725858\n",
            " - Movie Title: Emmauksen tiellä, Similarity Score: 0.9999999965714688\n",
            " - Movie Title: A Great Day in Harlem, Similarity Score: 0.9999999965318188\n",
            " - Movie Title: Runaway, Similarity Score: 0.9999999965264345\n",
            " - Movie Title: Das Todesauge von Ceylon, Similarity Score: 0.9999999965236491\n"
          ]
        }
      ],
      "source": [
        "from sklearn.neighbors import NearestNeighbors\n",
        "import numpy as np\n",
        "\n",
        "# Definir el número de vecinos que se buscarán\n",
        "n_neighbors = 11  # Buscar los 10 vecinos más cercanos\n",
        "\n",
        "# Obtener características de películas calificadas positivamente\n",
        "positive_movie_features = positive_item_profiles[['movieId', 'original_title', 'vote_average', 'vote_count', 'popularity', 'genre_avg_popularity']].values\n",
        "movie_titles = positive_item_profiles['original_title'].values\n",
        "\n",
        "# Crear el modelo NearestNeighbors\n",
        "knn_model = NearestNeighbors(n_neighbors=n_neighbors, metric='cosine')\n",
        "\n",
        "# Ajustar el modelo con las características de películas calificadas positivamente\n",
        "knn_model.fit(positive_movie_features[:, 2:])  # Excluyendo las columnas 'movieId' y 'original_title'\n",
        "\n",
        "# Elegir 1 película aleatoria\n",
        "random_movie_index = np.random.randint(len(positive_movie_features))\n",
        "random_movie_features = positive_movie_features[random_movie_index]\n",
        "\n",
        "# Buscar los vecinos más cercanos para la película aleatoria\n",
        "_, neighbor_indices = knn_model.kneighbors(random_movie_features[2:].reshape(1, -1))\n",
        "\n",
        "# Mostrar los vecinos más cercanos\n",
        "print(f\"Para la película aleatoria '{movie_titles[random_movie_index]}':\")\n",
        "#for neighbor_index in neighbor_indices[0]:\n",
        "for j, neighbor_index in enumerate(neighbor_indices[0]):\n",
        "        if j >= 11:  # Solo mostrar los primeros 10 vecinos\n",
        "            break\n",
        "    #movie_title = movie_titles[neighbor_index]\n",
        "        movie_titles = positive_item_profiles.iloc[neighbor_index]['original_title']\n",
        "        similarity_score = 1 - knn_model.kneighbors(random_movie_features[2:].reshape(1, -1))[0][0][j]  # Calcular la similitud\n",
        "        print(f\" - Movie Title: {movie_titles}, Similarity Score: {similarity_score}\")\n"
      ]
    },
    {
      "cell_type": "markdown",
      "metadata": {
        "id": "94SNZbJknzjV"
      },
      "source": [
        "# **6 y 7.Creación, Evaluación y rendimiento del modelo** (filtrado contenido)"
      ]
    },
    {
      "cell_type": "code",
      "execution_count": null,
      "metadata": {
        "id": "o5fNP_VEySck",
        "colab": {
          "base_uri": "https://localhost:8080/"
        },
        "outputId": "0293b21d-3319-44eb-8530-5104ee67b123"
      },
      "outputs": [
        {
          "output_type": "stream",
          "name": "stdout",
          "text": [
            "Para la película aleatoria 'Les Trois Frères':\n",
            " - Movie Title: Les Trois Frères, Similarity Score: 1.0\n",
            " - Movie Title: Minha Mãe é uma Peça, Similarity Score: 0.9999989991577668\n",
            " - Movie Title: Life as a House, Similarity Score: 0.999998599994904\n",
            " - Movie Title: Bande de filles, Similarity Score: 0.9999982954715263\n",
            " - Movie Title: Il secondo tragico Fantozzi, Similarity Score: 0.9999981755206734\n",
            " - Movie Title: Fantozzi, Similarity Score: 0.9999979191412092\n",
            " - Movie Title: The Sunset Limited, Similarity Score: 0.9999977230455392\n",
            " - Movie Title: The Great Train Robbery, Similarity Score: 0.9999976983147549\n",
            " - Movie Title: Romanzo criminale, Similarity Score: 0.9999976625899394\n",
            " - Movie Title: Le Concert, Similarity Score: 0.9999975108103198\n",
            " - Movie Title: Un cuento chino, Similarity Score: 0.999997463987851\n"
          ]
        }
      ],
      "source": [
        "from sklearn.model_selection import train_test_split\n",
        "from sklearn.neighbors import NearestNeighbors\n",
        "import numpy as np\n",
        "\n",
        "# Definir el número de vecinos que se buscarán\n",
        "n_neighbors = 11  # Buscar los 10 vecinos más cercanos\n",
        "\n",
        "# Obtener características de películas calificadas positivamente\n",
        "positive_movie_features = positive_item_profiles[['movieId', 'original_title', 'vote_average', 'vote_count', 'popularity', 'genre_avg_popularity']].values\n",
        "movie_titles = positive_item_profiles['original_title'].values\n",
        "\n",
        "# Dividir los datos en características (X)\n",
        "X = positive_movie_features[:, 2:]\n",
        "\n",
        "# Crear el modelo NearestNeighbors\n",
        "knn_model = NearestNeighbors(n_neighbors=n_neighbors, metric='cosine')\n",
        "\n",
        "# Ajustar el modelo con las características de películas calificadas positivamente\n",
        "knn_model.fit(X)\n",
        "\n",
        "# Elegir 1 película aleatoria\n",
        "random_movie_index = np.random.randint(len(positive_movie_features))\n",
        "random_movie_features = positive_movie_features[random_movie_index]\n",
        "\n",
        "# Buscar los vecinos más cercanos para la película aleatoria\n",
        "_, neighbor_indices = knn_model.kneighbors(random_movie_features[2:].reshape(1, -1))\n",
        "\n",
        "# Mostrar los vecinos más cercanos\n",
        "print(f\"Para la película aleatoria '{movie_titles[random_movie_index]}':\")\n",
        "for j, neighbor_index in enumerate(neighbor_indices[0]):\n",
        "    if j >= 11:  # Solo mostrar los primeros 10 vecinos\n",
        "        break\n",
        "    neighbor_title = movie_titles[neighbor_index]\n",
        "    similarity_score = 1 - knn_model.kneighbors(random_movie_features[2:].reshape(1, -1))[0][0][j]  # Calcular la similitud\n",
        "    print(f\" - Movie Title: {neighbor_title}, Similarity Score: {similarity_score}\")\n"
      ]
    },
    {
      "cell_type": "code",
      "execution_count": null,
      "metadata": {
        "id": "Y4Oy_yRC30Zu",
        "colab": {
          "base_uri": "https://localhost:8080/"
        },
        "outputId": "e40567bf-f3f2-4779-88b7-c0614739a346"
      },
      "outputs": [
        {
          "output_type": "stream",
          "name": "stdout",
          "text": [
            "Precision@10: 0.3139\n"
          ]
        }
      ],
      "source": [
        "from sklearn.neighbors import NearestNeighbors\n",
        "from sklearn.metrics import mean_squared_error\n",
        "import numpy as np\n",
        "from collections import defaultdict\n",
        "\n",
        "# Función para calcular Precision@K\n",
        "def precision_at_k(y_true, y_pred, k):\n",
        "    successes = 0\n",
        "    total_users = len(y_true)\n",
        "\n",
        "    for i in range(total_users):\n",
        "        true_positive = y_true[i]\n",
        "        recommended_movies = y_pred[i][:k]\n",
        "        if true_positive in recommended_movies:\n",
        "            successes += 1\n",
        "\n",
        "    precision = successes / total_users\n",
        "\n",
        "    return precision\n",
        "\n",
        "# Dividir el conjunto de datos en características (X) y etiquetas (y)\n",
        "X = positive_movie_features[:, 2:]  # Características\n",
        "y = positive_movie_features[:, 0]   # Etiquetas (movieId)\n",
        "\n",
        "# Dividir los datos en conjuntos de entrenamiento y prueba\n",
        "X_train, X_test, y_train, y_test = train_test_split(X, y, test_size=0.2, random_state=42)\n",
        "\n",
        "# Crear el modelo NearestNeighbors para el filtrado basado en contenido\n",
        "n_neighbors = 11  # Buscar los 10 vecinos más cercanos\n",
        "knn_model_contenido = NearestNeighbors(n_neighbors=n_neighbors, metric='cosine')\n",
        "\n",
        "# Ajustar el modelo con las características de películas calificadas positivamente en el conjunto de entrenamiento\n",
        "knn_model_contenido.fit(X_train)\n",
        "\n",
        "# Obtener las etiquetas del vecino más cercano para cada muestra de prueba\n",
        "y_pred = []\n",
        "for movie_features in X_test:\n",
        "    _, neighbor_indices = knn_model_contenido.kneighbors(movie_features.reshape(1, -1))\n",
        "    neighbor_movies = y_train[neighbor_indices].flatten()  # Obtener las etiquetas de los vecinos más cercanos\n",
        "    y_pred.append(neighbor_movies)\n",
        "\n",
        "# Calcular Precision@K\n",
        "k = 10  # Número de películas recomendadas a considerar\n",
        "precision_at_10 = precision_at_k(y_test, y_pred, k)\n",
        "print(\"Precision@{}: {:.4f}\".format(k, precision_at_10))\n"
      ]
    },
    {
      "cell_type": "markdown",
      "metadata": {
        "id": "Zc_wFpiP4o7U"
      },
      "source": [
        "Un valor de Precision@10 de 0.3139 significa que, en promedio, aproximadamente el 31.39% de las películas recomendadas en las 10 primeras posiciones fueron películas que al usuario le gustaron en realidad. En otras palabras, alrededor del 31.39% de las recomendaciones fueron relevantes para el usuario.\n",
        "\n",
        "Siendo que un valor mayor que 0.5 indicaría que el modelo está haciendo recomendaciones significativas para los usuarios, utilizaremos la validación cruzada para evaluar el rendimiento del modelo de recomendación basado en contenido de una manera más robusta.\n",
        "\n",
        "La validación cruzada nos permitirá obtener una estimación más precisa del Precision@10 del modelo al entrenarlo y evaluarlo en múltiples particiones del conjunto de datos.\n",
        "\n",
        "\n",
        "\n"
      ]
    },
    {
      "cell_type": "code",
      "execution_count": null,
      "metadata": {
        "id": "58Me01Ze8KCM",
        "colab": {
          "base_uri": "https://localhost:8080/"
        },
        "outputId": "04cd1b51-8dfb-4b59-af7e-b4b1694922f1"
      },
      "outputs": [
        {
          "output_type": "stream",
          "name": "stdout",
          "text": [
            "Mean Precision@10: 0.03119186564844139\n"
          ]
        }
      ],
      "source": [
        "from sklearn.model_selection import KFold\n",
        "from sklearn.neighbors import NearestNeighbors\n",
        "import numpy as np\n",
        "\n",
        "# Función para calcular Precision@K\n",
        "def precision_at_k(y_true, y_pred, k):\n",
        "    precision_sum = 0.0\n",
        "    total_users = len(y_true)\n",
        "\n",
        "    for i in range(total_users):\n",
        "        true_positives = set([y_true[i]])\n",
        "        recommended_movies = set(y_pred[i][:k])\n",
        "        precision = len(true_positives.intersection(recommended_movies)) / k\n",
        "        precision_sum += precision\n",
        "\n",
        "    return precision_sum / total_users\n",
        "\n",
        "# Definir el número de particiones para la validación cruzada\n",
        "n_splits = 5\n",
        "kf = KFold(n_splits=n_splits, random_state=42, shuffle=True)\n",
        "\n",
        "# Lista para almacenar los precisiones@10 de cada partición\n",
        "precision_scores = []\n",
        "\n",
        "# Realizar la validación cruzada\n",
        "for train_index, test_index in kf.split(X):\n",
        "    X_train, X_test = X[train_index], X[test_index]\n",
        "    y_train, y_test = y[train_index], y[test_index]\n",
        "\n",
        "    # Crear y ajustar el modelo NearestNeighbors\n",
        "    knn_model_contenido = NearestNeighbors(n_neighbors=n_neighbors, metric='cosine')\n",
        "    knn_model_contenido.fit(X_train)\n",
        "\n",
        "    # Obtener las etiquetas del vecino más cercano para cada muestra de prueba\n",
        "    y_pred = []\n",
        "    for movie_features in X_test:\n",
        "        _, neighbor_indices = knn_model_contenido.kneighbors(movie_features.reshape(1, -1))\n",
        "        neighbor_movies = y_train[neighbor_indices].flatten()\n",
        "        y_pred.append(neighbor_movies)\n",
        "\n",
        "    # Calcular el Precision@10\n",
        "    precision_at_10 = precision_at_k(y_test, y_pred, k=10)\n",
        "    precision_scores.append(precision_at_10)\n",
        "\n",
        "# Calcular el precision medio de todas las particiones\n",
        "mean_precision_at_10 = np.mean(precision_scores)\n",
        "print(\"Mean Precision@10:\", mean_precision_at_10)\n"
      ]
    },
    {
      "cell_type": "markdown",
      "metadata": {
        "id": "YIrDb3eR9r0N"
      },
      "source": [
        "Un Precision@10 de aproximadamente 0.0312 indica que, en promedio, solo alrededor del 3.12% de las recomendaciones realizadas por el modelo fueron películas que realmente le gustaron al usuario. Esto sugiere que el modelo no está realizando recomendaciones muy precisas lo que nos plantea mejoras en su diseño, selección de características, ajuste de parámetros para mejorar su rendimiento o la incorporación de más datos."
      ]
    },
    {
      "cell_type": "markdown",
      "metadata": {
        "id": "mf_6UFUQABx3"
      },
      "source": [
        "# **8. Sistema de recomendación híbrido**\n",
        "\n",
        "Crearemos una Red Neuronal que combine el filtrado colaborativo y el filtrado basado en contenido."
      ]
    },
    {
      "cell_type": "code",
      "execution_count": null,
      "metadata": {
        "id": "Kiz8W9x6rsXG",
        "colab": {
          "base_uri": "https://localhost:8080/"
        },
        "outputId": "3eb57173-14b8-4b56-81f0-ad44bda87c52"
      },
      "outputs": [
        {
          "output_type": "stream",
          "name": "stdout",
          "text": [
            "<class 'pandas.core.frame.DataFrame'>\n",
            "Int64Index: 39547 entries, 0 to 39569\n",
            "Data columns (total 16 columns):\n",
            " #   Column                Non-Null Count  Dtype         \n",
            "---  ------                --------------  -----         \n",
            " 0   userId                39547 non-null  int64         \n",
            " 1   movieId               39547 non-null  int64         \n",
            " 2   rating                39547 non-null  float64       \n",
            " 3   timestamp             39547 non-null  datetime64[ns]\n",
            " 4   year_quarter          39547 non-null  period[Q-DEC] \n",
            " 5   id                    39547 non-null  int64         \n",
            " 6   genres                39547 non-null  object        \n",
            " 7   vote_average          39547 non-null  float64       \n",
            " 8   vote_count            39547 non-null  float64       \n",
            " 9   popularity            39547 non-null  float64       \n",
            " 10  original_language     39547 non-null  object        \n",
            " 11  original_title        39547 non-null  object        \n",
            " 12  budget                39547 non-null  float64       \n",
            " 13  cast                  39547 non-null  object        \n",
            " 14  crew                  39547 non-null  object        \n",
            " 15  genre_avg_popularity  39547 non-null  float64       \n",
            "dtypes: datetime64[ns](1), float64(6), int64(3), object(5), period[Q-DEC](1)\n",
            "memory usage: 5.1+ MB\n"
          ]
        }
      ],
      "source": [
        "recomendador_contenido.info()"
      ]
    },
    {
      "cell_type": "markdown",
      "metadata": {
        "id": "9_bkNaJ8MAjp"
      },
      "source": [
        "**Red neuronal (filtrado colaborativo y de contenido)**"
      ]
    },
    {
      "cell_type": "code",
      "execution_count": null,
      "metadata": {
        "id": "PZ_CI6dPIK2k",
        "colab": {
          "base_uri": "https://localhost:8080/"
        },
        "outputId": "aa5ca252-3407-4eb0-eb91-61f2284f1e7b"
      },
      "outputs": [
        {
          "output_type": "stream",
          "name": "stdout",
          "text": [
            "Mean Squared Error (MSE): 1.2560992240905762\n"
          ]
        }
      ],
      "source": [
        "import pandas as pd\n",
        "import numpy as np\n",
        "from sklearn.model_selection import train_test_split\n",
        "import torch\n",
        "import torch.nn as nn\n",
        "import torch.optim as optim\n",
        "from torch.utils.data import DataLoader, TensorDataset\n",
        "from sklearn.metrics import mean_squared_error\n",
        "from sklearn.preprocessing import StandardScaler, LabelEncoder\n",
        "\n",
        "# Suponiendo que recomendador_contenido es tu DataFrame original\n",
        "recomendador_contenido_filtrado = recomendador_contenido.copy()\n",
        "\n",
        "# Eliminar columnas no numéricas o no relevantes\n",
        "columns_to_drop = ['userId', 'movieId', 'timestamp', 'year_quarter', 'id', 'genres', 'original_title', 'cast', 'crew', 'original_language']\n",
        "recomendador_contenido_filtrado = recomendador_contenido_filtrado.drop(columns_to_drop, axis=1)\n",
        "\n",
        "# Normalizar los datos\n",
        "scaler = StandardScaler()\n",
        "X = scaler.fit_transform(recomendador_contenido_filtrado.drop(['rating'], axis=1))\n",
        "y = recomendador_contenido_filtrado['rating']\n",
        "\n",
        "# Dividir los datos en conjuntos de entrenamiento y prueba\n",
        "X_train, X_test, y_train, y_test = train_test_split(X, y, test_size=0.2, random_state=42)\n",
        "\n",
        "# Convertir los datos a tensores de PyTorch\n",
        "X_train_tensor = torch.tensor(X_train, dtype=torch.float32)\n",
        "X_test_tensor = torch.tensor(X_test, dtype=torch.float32)\n",
        "y_train_tensor = torch.tensor(y_train.values, dtype=torch.float32).view(-1, 1)\n",
        "y_test_tensor = torch.tensor(y_test.values, dtype=torch.float32).view(-1, 1)\n",
        "\n",
        "# Definir la arquitectura de la red neuronal\n",
        "class NeuralNetwork(nn.Module):\n",
        "    def __init__(self, input_size):\n",
        "        super(NeuralNetwork, self).__init__()\n",
        "        self.fc1 = nn.Linear(input_size, 64)\n",
        "        self.fc2 = nn.Linear(64, 32)\n",
        "        self.fc3 = nn.Linear(32, 16)\n",
        "        self.fc4 = nn.Linear(16, 1)\n",
        "\n",
        "    def forward(self, x):\n",
        "        x = torch.relu(self.fc1(x))\n",
        "        x = torch.relu(self.fc2(x))\n",
        "        x = torch.relu(self.fc3(x))\n",
        "        x = self.fc4(x)\n",
        "        return x\n",
        "\n",
        "# Inicializar el modelo\n",
        "model = NeuralNetwork(X_train.shape[1])\n",
        "\n",
        "# Definir la función de pérdida y el optimizador\n",
        "criterion = nn.MSELoss()\n",
        "optimizer = optim.Adam(model.parameters(), lr=0.001)\n",
        "\n",
        "# Entrenamiento del modelo\n",
        "epochs = 50\n",
        "batch_size = 64\n",
        "for epoch in range(epochs):\n",
        "    for i in range(0, len(X_train_tensor), batch_size):\n",
        "        inputs = X_train_tensor[i:i+batch_size]\n",
        "        targets = y_train_tensor[i:i+batch_size]\n",
        "\n",
        "        optimizer.zero_grad()\n",
        "        outputs = model(inputs)\n",
        "        loss = criterion(outputs, targets)\n",
        "        loss.backward()\n",
        "        optimizer.step()\n",
        "\n",
        "# Evaluación del modelo\n",
        "with torch.no_grad():\n",
        "    y_pred_tensor = model(X_test_tensor)\n",
        "    mse = criterion(y_pred_tensor, y_test_tensor).item()\n",
        "\n",
        "print(\"Mean Squared Error (MSE):\", mse)\n"
      ]
    },
    {
      "cell_type": "markdown",
      "metadata": {
        "id": "b-nZjerTcZFi"
      },
      "source": [
        "El error cuadrático medio (MSE) de este modelo híbrido es aproximadamente 1.25, es decir, el cuadrado de la diferencia entre las predicciones del modelo y los valores reales es en promedio de alrededor de 1.25."
      ]
    },
    {
      "cell_type": "markdown",
      "metadata": {
        "id": "f8fS6LIJuTpa"
      },
      "source": [
        "**Evaluación Red Neuronal con validación cruzada**"
      ]
    },
    {
      "cell_type": "code",
      "execution_count": null,
      "metadata": {
        "id": "lF3CskuxOQy6",
        "colab": {
          "base_uri": "https://localhost:8080/"
        },
        "outputId": "336a0aba-5321-4ded-9bb2-d8bb3167a273"
      },
      "outputs": [
        {
          "output_type": "stream",
          "name": "stdout",
          "text": [
            "Mean Squared Error (MSE) promedio: 1.2442553997039796\n"
          ]
        }
      ],
      "source": [
        "import pandas as pd\n",
        "import numpy as np\n",
        "from sklearn.model_selection import KFold\n",
        "import torch\n",
        "import torch.nn as nn\n",
        "import torch.optim as optim\n",
        "from torch.utils.data import DataLoader, TensorDataset\n",
        "from sklearn.metrics import mean_squared_error\n",
        "from sklearn.preprocessing import StandardScaler, LabelEncoder\n",
        "\n",
        "# Suponiendo que recomendador_contenido es tu DataFrame original\n",
        "recomendador_contenido_filtrado = recomendador_contenido.copy()\n",
        "\n",
        "# Eliminar columnas no numéricas o no relevantes\n",
        "columns_to_drop = ['userId', 'movieId', 'timestamp', 'year_quarter', 'id', 'genres', 'original_title', 'cast', 'crew', 'original_language']\n",
        "recomendador_contenido_filtrado = recomendador_contenido_filtrado.drop(columns_to_drop, axis=1)\n",
        "\n",
        "# Normalizar los datos\n",
        "scaler = StandardScaler()\n",
        "X = scaler.fit_transform(recomendador_contenido_filtrado.drop(['rating'], axis=1))\n",
        "y = recomendador_contenido_filtrado['rating']\n",
        "\n",
        "# Convertir los datos a tensores de PyTorch\n",
        "X_tensor = torch.tensor(X, dtype=torch.float32)\n",
        "y = recomendador_contenido_filtrado['rating'].copy()\n",
        "y = y.reset_index(drop=True)\n",
        "kf = KFold(n_splits=5, shuffle=True, random_state=42)\n",
        "\n",
        "# Definir la arquitectura de la red neuronal\n",
        "class NeuralNetwork(nn.Module):\n",
        "    def __init__(self, input_size):\n",
        "        super(NeuralNetwork, self).__init__()\n",
        "        self.fc1 = nn.Linear(input_size, 64)\n",
        "        self.fc2 = nn.Linear(64, 32)\n",
        "        self.fc3 = nn.Linear(32, 16)\n",
        "        self.fc4 = nn.Linear(16, 1)\n",
        "\n",
        "    def forward(self, x):\n",
        "        x = torch.relu(self.fc1(x))\n",
        "        x = torch.relu(self.fc2(x))\n",
        "        x = torch.relu(self.fc3(x))\n",
        "        x = self.fc4(x)\n",
        "        return x\n",
        "\n",
        "# Definir la función de pérdida\n",
        "criterion = nn.MSELoss()\n",
        "\n",
        "# Lista para almacenar los errores cuadráticos medios (MSE) de cada división\n",
        "mse_scores = []\n",
        "\n",
        "# Iterar sobre las divisiones de la validación cruzada\n",
        "for train_index, test_index in kf.split(X):\n",
        "    X_train_fold, X_val_fold = X[train_index], X[test_index]\n",
        "    y_train_fold, y_val_fold = y[train_index], y[test_index]\n",
        "\n",
        "    # Convertir los datos a tensores de PyTorch\n",
        "    X_train_tensor = torch.tensor(X_train_fold, dtype=torch.float32)\n",
        "    X_val_tensor = torch.tensor(X_val_fold, dtype=torch.float32)\n",
        "    y_train_tensor = torch.tensor(y_train_fold.values, dtype=torch.float32).view(-1, 1)\n",
        "    y_val_tensor = torch.tensor(y_val_fold.values, dtype=torch.float32).view(-1, 1)\n",
        "\n",
        "    # Inicializar el modelo\n",
        "    model = NeuralNetwork(X_train_fold.shape[1])\n",
        "\n",
        "    # Definir el optimizador\n",
        "    optimizer = optim.Adam(model.parameters(), lr=0.001)\n",
        "\n",
        "    # Entrenamiento del modelo\n",
        "    epochs = 50\n",
        "    batch_size = 64\n",
        "    for epoch in range(epochs):\n",
        "        for i in range(0, len(X_train_tensor), batch_size):\n",
        "            inputs = X_train_tensor[i:i+batch_size]\n",
        "            targets = y_train_tensor[i:i+batch_size]\n",
        "\n",
        "            optimizer.zero_grad()\n",
        "            outputs = model(inputs)\n",
        "            loss = criterion(outputs, targets)\n",
        "            loss.backward()\n",
        "            optimizer.step()\n",
        "\n",
        "    # Evaluación del modelo\n",
        "    with torch.no_grad():\n",
        "        y_pred_tensor = model(X_val_tensor)\n",
        "        mse = criterion(y_pred_tensor, y_val_tensor).item()\n",
        "        mse_scores.append(mse)\n",
        "\n",
        "# Calcular el error cuadrático medio promedio\n",
        "mse_mean = np.mean(mse_scores)\n",
        "print(\"Mean Squared Error (MSE) promedio:\", mse_mean)\n"
      ]
    },
    {
      "cell_type": "markdown",
      "metadata": {
        "id": "1Nl2TeBUiuRJ"
      },
      "source": [
        "# **Mejora precisión del modelo híbrido**\n",
        "\n",
        "Vamos a probar otros algoritmos de aprendizaje automático para mejorar la precisión del modelo híbrido de la Red Neuronal."
      ]
    },
    {
      "cell_type": "markdown",
      "metadata": {
        "id": "TQ6rwV-teVP8"
      },
      "source": [
        "**Random Forest Regressor**"
      ]
    },
    {
      "cell_type": "code",
      "execution_count": null,
      "metadata": {
        "id": "270xaaA0c8jE",
        "colab": {
          "base_uri": "https://localhost:8080/"
        },
        "outputId": "892b3e62-70ba-4342-dea6-263f882a6e13"
      },
      "outputs": [
        {
          "output_type": "stream",
          "name": "stdout",
          "text": [
            "Mean Squared Error (Random Forest): 1.3693621625178753\n"
          ]
        }
      ],
      "source": [
        "from sklearn.ensemble import RandomForestRegressor\n",
        "from sklearn.metrics import mean_squared_error\n",
        "\n",
        "# Crear el modelo de Random Forest Regressor\n",
        "rf_regressor = RandomForestRegressor(n_estimators=100, random_state=42)\n",
        "\n",
        "# Entrenar el modelo\n",
        "rf_regressor.fit(X_train, y_train)\n",
        "\n",
        "# Realizar predicciones en el conjunto de prueba\n",
        "y_pred_rf = rf_regressor.predict(X_test)\n",
        "\n",
        "# Calcular el Mean Squared Error (MSE)\n",
        "mse_rf = mean_squared_error(y_test, y_pred_rf)\n",
        "print(\"Mean Squared Error (Random Forest):\", mse_rf)\n"
      ]
    },
    {
      "cell_type": "markdown",
      "metadata": {
        "id": "r1OAAM49ejS1"
      },
      "source": [
        "El Random Forest Regressor es un modelo de ensemble que combina múltiples árboles de decisión. Suele funcionar bien en una variedad de problemas de regresión y es menos propenso a sobreajustar que un árbol de decisión único.\n",
        "\n"
      ]
    },
    {
      "cell_type": "markdown",
      "metadata": {
        "id": "hYeRSt_qnrdC"
      },
      "source": [
        "**Evaluación Random Forest Regressor con validación cruzada**"
      ]
    },
    {
      "cell_type": "code",
      "execution_count": null,
      "metadata": {
        "id": "eD8UiT8Rnbzj",
        "colab": {
          "base_uri": "https://localhost:8080/"
        },
        "outputId": "0e4f2b2d-dabe-4621-bcbd-85f006ae0b44"
      },
      "outputs": [
        {
          "output_type": "stream",
          "name": "stdout",
          "text": [
            "Mean Squared Error (Random Forest - Cross Validation): 1.339472552481114\n"
          ]
        }
      ],
      "source": [
        "from sklearn.ensemble import RandomForestRegressor\n",
        "from sklearn.model_selection import cross_val_score\n",
        "from sklearn.metrics import mean_squared_error\n",
        "\n",
        "# Crear el modelo de Random Forest Regressor\n",
        "rf_regressor = RandomForestRegressor(n_estimators=100, random_state=42)\n",
        "\n",
        "# Realizar validación cruzada\n",
        "cv_scores = cross_val_score(rf_regressor, X_train, y_train, scoring='neg_mean_squared_error', cv=5)\n",
        "\n",
        "# Convertir los scores negativos de MSE a positivos\n",
        "cv_mse_scores = -cv_scores\n",
        "\n",
        "# Calcular el promedio de los scores de validación cruzada\n",
        "mean_cv_mse = np.mean(cv_mse_scores)\n",
        "\n",
        "print(\"Mean Squared Error (Random Forest - Cross Validation):\", mean_cv_mse)\n"
      ]
    },
    {
      "cell_type": "markdown",
      "metadata": {
        "id": "7Hxc5uL3esBB"
      },
      "source": [
        "**Gradient Boosting Regressor**"
      ]
    },
    {
      "cell_type": "code",
      "execution_count": null,
      "metadata": {
        "id": "wrMo66EBe2aW",
        "colab": {
          "base_uri": "https://localhost:8080/"
        },
        "outputId": "a16ada04-9977-48e4-eb86-fabb852cdd8e"
      },
      "outputs": [
        {
          "output_type": "stream",
          "name": "stdout",
          "text": [
            "Mean Squared Error (Gradient Boosting): 1.2519865321067822\n"
          ]
        }
      ],
      "source": [
        "from sklearn.ensemble import GradientBoostingRegressor\n",
        "from sklearn.metrics import mean_squared_error\n",
        "\n",
        "# Crear el modelo Gradient Boosting Regressor\n",
        "gb_regressor = GradientBoostingRegressor(n_estimators=100, learning_rate=0.1, random_state=42)\n",
        "\n",
        "# Entrenar el modelo\n",
        "gb_regressor.fit(X_train, y_train)\n",
        "\n",
        "# Realizar predicciones en el conjunto de prueba\n",
        "y_pred_gb = gb_regressor.predict(X_test)\n",
        "\n",
        "# Calcular el Mean Squared Error (MSE)\n",
        "mse_gb = mean_squared_error(y_test, y_pred_gb)\n",
        "print(\"Mean Squared Error (Gradient Boosting):\", mse_gb)\n"
      ]
    },
    {
      "cell_type": "markdown",
      "metadata": {
        "id": "iyuWaKN7e2o1"
      },
      "source": [
        "El **Gradient Boosting Regressor**, similar al random forest, es otro modelo de ensemble que combina múltiples árboles de decisión y obtiene buenos resultados con conjuntos de datos de tamaño moderado a grande."
      ]
    },
    {
      "cell_type": "markdown",
      "metadata": {
        "id": "Y1yE56JXn00a"
      },
      "source": [
        "**Evaluación Gradient Boosting Regressor con validación cruzada**"
      ]
    },
    {
      "cell_type": "code",
      "execution_count": null,
      "metadata": {
        "id": "ooNAvfNto7Su",
        "colab": {
          "base_uri": "https://localhost:8080/"
        },
        "outputId": "dd0bb0e2-5bda-4a75-a7d0-58eb80eceb9d"
      },
      "outputs": [
        {
          "output_type": "stream",
          "name": "stdout",
          "text": [
            "Mean Squared Error (Gradient Boosting - Cross Validation): 1.2322787680422618\n"
          ]
        }
      ],
      "source": [
        "from sklearn.ensemble import GradientBoostingRegressor\n",
        "from sklearn.model_selection import cross_val_score\n",
        "from sklearn.metrics import mean_squared_error\n",
        "\n",
        "# Crear el modelo Gradient Boosting Regressor\n",
        "gb_regressor = GradientBoostingRegressor(n_estimators=100, learning_rate=0.1, random_state=42)\n",
        "\n",
        "# Realizar validación cruzada\n",
        "cv_scores = cross_val_score(gb_regressor, X_train, y_train, scoring='neg_mean_squared_error', cv=5)\n",
        "\n",
        "# Convertir los scores negativos de MSE a positivos\n",
        "cv_mse_scores = -cv_scores\n",
        "\n",
        "# Calcular el promedio de los scores de validación cruzada\n",
        "mean_cv_mse = np.mean(cv_mse_scores)\n",
        "\n",
        "print(\"Mean Squared Error (Gradient Boosting - Cross Validation):\", mean_cv_mse)\n"
      ]
    },
    {
      "cell_type": "markdown",
      "metadata": {
        "id": "1KbZ4Q0Mfu04"
      },
      "source": [
        "**Regresión Ridge**"
      ]
    },
    {
      "cell_type": "code",
      "source": [
        "from sklearn.linear_model import Ridge\n",
        "\n",
        "# Definir el espacio de hiperparámetros a explorar para Ridge\n",
        "param_grid_ridge = {\n",
        "    'alpha': [0.1, 1, 10],\n",
        "}\n",
        "\n",
        "# Crear el modelo de regresión Ridge\n",
        "ridge = Ridge()\n",
        "\n",
        "# Configurar la búsqueda en cuadrícula para Ridge\n",
        "grid_search_ridge = GridSearchCV(ridge, param_grid_ridge, cv=5, scoring='neg_mean_squared_error', n_jobs=-1)\n",
        "\n",
        "# Entrenar la búsqueda en cuadrícula para Ridge\n",
        "grid_search_ridge.fit(X_train, y_train)\n",
        "\n",
        "# Obtener el mejor modelo de Ridge\n",
        "best_ridge = grid_search_ridge.best_estimator_\n",
        "\n",
        "# Predecir sobre el conjunto de prueba utilizando Ridge\n",
        "y_pred_ridge = best_ridge.predict(X_test)\n",
        "\n",
        "# Calcular el error cuadrático medio para Ridge\n",
        "mse_ridge = mean_squared_error(y_test, y_pred_ridge)\n",
        "print(\"Mean Squared Error (Ridge):\", mse_ridge)\n",
        "\n",
        "# Obtener los mejores hiperparámetros para Ridge\n",
        "best_params_ridge = grid_search_ridge.best_params_\n",
        "print(\"Mejores hiperparámetros para Ridge:\", best_params_ridge)\n"
      ],
      "metadata": {
        "colab": {
          "base_uri": "https://localhost:8080/"
        },
        "id": "CqKPAakI5CT0",
        "outputId": "48f7ae4b-dc97-4d8d-801e-fbb11eaa2ed9"
      },
      "execution_count": null,
      "outputs": [
        {
          "output_type": "stream",
          "name": "stdout",
          "text": [
            "Mean Squared Error (Ridge): 1.2498437192684195\n",
            "Mejores hiperparámetros para Ridge: {'alpha': 10}\n"
          ]
        }
      ]
    },
    {
      "cell_type": "markdown",
      "metadata": {
        "id": "BGdGXH_7fv4z"
      },
      "source": [
        "La **regresión Ridge incluye una penalización** lo que ayuda a prevenir el sobreajuste y mejorar la estabilidad del modelo, especialmente en presencia de multicolinealidad. La función **GridSearchCV** de Scikit-learn realiza una búsqueda en cuadrícula con **validación cruzada automáticamente.**"
      ]
    },
    {
      "cell_type": "markdown",
      "metadata": {
        "id": "jxLItWjxmegK"
      },
      "source": [
        "# **Mejor modelo de recomendación: Filtrado colaborativo basado en el usuario**"
      ]
    },
    {
      "cell_type": "markdown",
      "metadata": {
        "id": "4OKVEct-c70b"
      },
      "source": [
        "En términos generales, cuanto menor sea el MSE, mejor será el rendimiento del modelo.\n",
        "\n",
        "Después de comparar el mejor de todos los valores de MSE resultantes de los modelos de recomendación híbridos vemos que **el modelo resultante del filtrado colaborativo basado en el usuario fue significativamente el mejor.**"
      ]
    },
    {
      "cell_type": "markdown",
      "source": [
        "**SVD Validación Cruzada Mejor MSE** (enfoque usuario):**0.9006018541889436**\n",
        "\n",
        "\n",
        "Red Neuronal Validación Cruzada MSE (híbrido): 1.2442553997039796"
      ],
      "metadata": {
        "id": "7bgzcq5yF7kA"
      }
    }
  ],
  "metadata": {
    "colab": {
      "gpuType": "T4",
      "provenance": [],
      "machine_shape": "hm"
    },
    "kernelspec": {
      "display_name": "Python 3",
      "name": "python3"
    },
    "language_info": {
      "name": "python"
    }
  },
  "nbformat": 4,
  "nbformat_minor": 0
}