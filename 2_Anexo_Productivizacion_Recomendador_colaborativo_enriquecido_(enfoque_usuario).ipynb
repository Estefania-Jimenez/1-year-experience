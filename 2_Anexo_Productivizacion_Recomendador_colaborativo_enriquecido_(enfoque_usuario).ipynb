{
  "cells": [
    {
      "cell_type": "markdown",
      "metadata": {
        "id": "4H7oISiHvgUp"
      },
      "source": [
        "## **README**\n",
        "\n",
        "**ANÁLISIS DE UN DATASET (ORIENTACIÓN DATA SCIENTIST)**\n",
        "\n",
        "Este análisis forma parte de un proceso de evaluación del Máster Big Data & Data Science de la Universidad Complutense de Madrid y año académico 2023/2024.\n",
        "\n",
        "**Propuesta de proyecto**:\n",
        "\n",
        "Desarrollo de un sistema de recomendación que sugiera películas a los usuarios en función de su historial de visualización y preferencias.\n",
        "\n",
        "**Recopilación y preprocesamiento de datos**\n",
        "\n",
        "**Fuente de datos:** conjunto de datos de clasificaciones de usuarios y metadatos de películas. The Movies Dataset **(Kaggle)**\n",
        "\n",
        "URL: https://www.kaggle.com/datasets/rounakbanik/the-movies-dataset\n",
        "\n",
        "**Descripción del conjunto de datos:**\n",
        "\n",
        "Este conjunto de datos en Kaggle contiene metadatos de más de 45.000 películas, 26 millones de valoraciones de más de 270.000 usuarios. Incluye clasificaciones, resúmenes, géneros y créditos.\n",
        "\n",
        "## **Licencia de los datos:**\n",
        "\n",
        "El conjunto de datos utilizado en este proyecto está **licenciado bajo CC0: Dominio público.**\n",
        "\n",
        "\n",
        "## **Agradecimientos:**\n",
        "\n",
        "**Este proyecto utiliza datos recopilados de TMDB y GroupLens.**\n",
        "\n",
        "### **Datos de TMDB:**\n",
        "\n",
        "Los detalles de la película, los créditos y las palabras clave se han recopilado de la API abierta de TMDB. **Este producto utiliza la API de TMDb pero no está respaldado ni certificado por TMDb. Su API también brinda acceso a datos sobre muchas películas, actores y actrices, miembros del equipo y programas de televisión adicionales.**\n",
        "\n",
        "### **Datos de GroupLens:**\n",
        "\n",
        "Los conjuntos de datos de MovieLens se obtuvieron del sitio web oficial de GroupLens. Estos conjuntos de datos incluyen calificaciones y metadatos de películas recopilados de usuarios.\n",
        "\n",
        "### **Citación para GroupLens:**\n",
        "\n",
        "Para reconocer el uso del conjunto de datos en publicaciones, citar el siguiente artículo:\n",
        "\n",
        "**F. Maxwell Harper y Joseph A. Konstan. 2015. Los conjuntos de datos de MovieLens: historia y contexto. Transacciones ACM sobre sistemas inteligentes interactivos (TiiS) 5, 4: 19:1–19:19. https://doi.org/10.1145/2827872.**\n",
        "\n",
        "### **Datos de IMDb:**\n",
        "\n",
        "Para trabajos académicos y no comerciales, IMDb ofrece una subsección de datos de IMDb para descargar únicamente para uso no comercial y no profesional. Para obtener más detalles, consultar:\n",
        "\n",
        "https://www.imdb.com/interfaces/\n",
        "\n",
        "Este conjunto de datos es estrictamente para uso académico y cualquier uso del contenido de IMDb en un entorno, servicio o producto comercial requiere una licencia de contenido comercial con IMDb.\n",
        "\n",
        "\n",
        "### **Citación para IMDb:**\n",
        "\n",
        "**Datos cortesía de IMDb.**"
      ]
    },
    {
      "cell_type": "code",
      "execution_count": null,
      "metadata": {
        "colab": {
          "base_uri": "https://localhost:8080/"
        },
        "id": "2qQF9EMyKp5R",
        "outputId": "486f53b9-faa6-4f7f-d3ff-4ad9eb3f786d"
      },
      "outputs": [
        {
          "output_type": "stream",
          "name": "stdout",
          "text": [
            "Mounted at /content/drive\n"
          ]
        }
      ],
      "source": [
        "from google.colab import drive\n",
        "import pandas as pd\n",
        "\n",
        "# Montar Google Drive\n",
        "drive.mount('/content/drive')\n",
        "\n",
        "# Rutas de los archivos en Google Drive\n",
        "#ruta_credits = '/content/drive/My Drive/TFM_Recomendador_de_peliculas/credits.csv'\n",
        "#ruta_keywords = '/content/drive/My Drive/TFM_Recomendador_de_peliculas/keywords.csv'\n",
        "#ruta_links_small = '/content/drive/My Drive/TFM_Recomendador_de_peliculas/links_small.csv'\n",
        "#ruta_links = '/content/drive/My Drive/TFM_Recomendador_de_peliculas/links.csv'\n",
        "#ruta_movies_metadata = '/content/drive/My Drive/TFM_Recomendador_de_peliculas/movies_metadata.csv'\n",
        "#ruta_ratings_small = '/content/drive/My Drive/TFM_Recomendador_de_peliculas/ratings_small.csv'\n",
        "#ruta_ratings = '/content/drive/My Drive/TFM_Recomendador_de_peliculas/ratings.csv'\n",
        "ruta_recomendador_contenido = '/content/drive/My Drive/TFM_Recomendador_de_peliculas/recomendador_contenido.csv'\n",
        "#ruta_recomendador_mejorado = '/content/drive/My Drive/TFM_Recomendador_de_peliculas/recomendador_mejorado.csv'\n",
        "\n",
        "# Leer los archivos CSV\n",
        "#credits = pd.read_csv(ruta_credits)\n",
        "#keywords = pd.read_csv(ruta_keywords)\n",
        "#links_small = pd.read_csv(ruta_links_small)\n",
        "#links = pd.read_csv(ruta_links)\n",
        "#movies_metadata = pd.read_csv(ruta_movies_metadata)\n",
        "#ratings_small = pd.read_csv(ruta_ratings_small)\n",
        "#ratings = pd.read_csv(ruta_ratings)\n",
        "recomendador_contenido = pd.read_csv(ruta_recomendador_contenido)\n",
        "#recomendador_mejorado = pd.read_csv(ruta_recomendador_mejorado)"
      ]
    },
    {
      "cell_type": "code",
      "execution_count": null,
      "metadata": {
        "colab": {
          "base_uri": "https://localhost:8080/"
        },
        "id": "vkfdsgVo5ZKQ",
        "outputId": "a0f536c3-8ed0-457f-a99f-abbe915e780b"
      },
      "outputs": [
        {
          "output_type": "stream",
          "name": "stdout",
          "text": [
            "<class 'pandas.core.frame.DataFrame'>\n",
            "RangeIndex: 39547 entries, 0 to 39546\n",
            "Data columns (total 17 columns):\n",
            " #   Column                Non-Null Count  Dtype  \n",
            "---  ------                --------------  -----  \n",
            " 0   Unnamed: 0            39547 non-null  int64  \n",
            " 1   userId                39547 non-null  int64  \n",
            " 2   movieId               39547 non-null  int64  \n",
            " 3   rating                39547 non-null  float64\n",
            " 4   timestamp             39547 non-null  object \n",
            " 5   year_quarter          39547 non-null  object \n",
            " 6   id                    39547 non-null  int64  \n",
            " 7   genres                39547 non-null  object \n",
            " 8   vote_average          39547 non-null  float64\n",
            " 9   vote_count            39547 non-null  float64\n",
            " 10  popularity            39547 non-null  float64\n",
            " 11  original_language     39547 non-null  object \n",
            " 12  original_title        39547 non-null  object \n",
            " 13  budget                39547 non-null  float64\n",
            " 14  cast                  39547 non-null  object \n",
            " 15  crew                  39547 non-null  object \n",
            " 16  genre_avg_popularity  39547 non-null  float64\n",
            "dtypes: float64(6), int64(4), object(7)\n",
            "memory usage: 5.1+ MB\n"
          ]
        }
      ],
      "source": [
        "recomendador_contenido.info()"
      ]
    },
    {
      "cell_type": "markdown",
      "metadata": {
        "id": "b0hoYBu5LQT1"
      },
      "source": [
        "# **Productivización: Recomendaciones mejoradas**\n",
        "# Filtrado colaborativo (enfoque usuario)"
      ]
    },
    {
      "cell_type": "markdown",
      "metadata": {
        "id": "VQ1wU0NFLnS4"
      },
      "source": [
        "Ahora también contaremos con las columnas **`'genres'`, `'original_language'`,`'genre_avg_popularity'`,`'cast'`, `'crew'`,`'budget'`y`'vote_average'`** del **Dataframe recomendador_contenido** al mismo tiempo que implementaremos en el código **nuevas funciones y filtros** con el **propósito de mejorar la calidad de las recomendaciones** al hacerlas **más personalizadas y relevantes para el usuario.**"
      ]
    },
    {
      "cell_type": "code",
      "execution_count": null,
      "metadata": {
        "id": "YydCdKfdLJ6X"
      },
      "outputs": [],
      "source": [
        "# Eliminar columnas innecesarias del DataFrame recomendador_contenido\n",
        "recomendador_mejorado = recomendador_contenido.drop(['Unnamed: 0', 'timestamp', 'year_quarter', 'id'], axis=1)"
      ]
    },
    {
      "cell_type": "code",
      "execution_count": null,
      "metadata": {
        "colab": {
          "base_uri": "https://localhost:8080/"
        },
        "id": "TRjEXOwX7DOA",
        "outputId": "cb24092d-fafc-4f31-847f-c1b56efdf962"
      },
      "outputs": [
        {
          "output_type": "stream",
          "name": "stdout",
          "text": [
            "<class 'pandas.core.frame.DataFrame'>\n",
            "RangeIndex: 39547 entries, 0 to 39546\n",
            "Data columns (total 13 columns):\n",
            " #   Column                Non-Null Count  Dtype  \n",
            "---  ------                --------------  -----  \n",
            " 0   userId                39547 non-null  int64  \n",
            " 1   movieId               39547 non-null  int64  \n",
            " 2   rating                39547 non-null  float64\n",
            " 3   genres                39547 non-null  object \n",
            " 4   vote_average          39547 non-null  float64\n",
            " 5   vote_count            39547 non-null  float64\n",
            " 6   popularity            39547 non-null  float64\n",
            " 7   original_language     39547 non-null  object \n",
            " 8   original_title        39547 non-null  object \n",
            " 9   budget                39547 non-null  float64\n",
            " 10  cast                  39547 non-null  object \n",
            " 11  crew                  39547 non-null  object \n",
            " 12  genre_avg_popularity  39547 non-null  float64\n",
            "dtypes: float64(6), int64(2), object(5)\n",
            "memory usage: 3.9+ MB\n"
          ]
        }
      ],
      "source": [
        "recomendador_mejorado.info()"
      ]
    },
    {
      "cell_type": "code",
      "execution_count": null,
      "metadata": {
        "colab": {
          "base_uri": "https://localhost:8080/",
          "height": 504
        },
        "id": "HOPLXDUW7DVp",
        "outputId": "6fd2cfd9-8536-46f4-d5c1-b2bbf3276568"
      },
      "outputs": [
        {
          "output_type": "execute_result",
          "data": {
            "text/plain": [
              "   userId  movieId  rating                                      genres  \\\n",
              "0       2        5     3.0                          ['Drama', 'Crime']   \n",
              "1       3      480     3.0                         ['Drama', 'Comedy']   \n",
              "2       5        7     3.0                         ['Crime', 'Comedy']   \n",
              "3       6       11     3.0             ['Action', 'Thriller', 'Crime']   \n",
              "4      11       32     3.5  ['Adventure', 'Action', 'Science Fiction']   \n",
              "\n",
              "   vote_average  vote_count  popularity original_language  \\\n",
              "0          0.71    0.003126    0.007051                fi   \n",
              "1          0.71    0.002487    0.004187                fi   \n",
              "2          0.65    0.038295    0.016487                en   \n",
              "3          0.64    0.005613    0.010117                en   \n",
              "4          0.81    0.481563    0.076987                en   \n",
              "\n",
              "         original_title    budget  \\\n",
              "0                 Ariel  0.000000   \n",
              "1  Varjoja paratiisissa  0.000000   \n",
              "2            Four Rooms  0.010526   \n",
              "3        Judgment Night  0.000000   \n",
              "4             Star Wars  0.028947   \n",
              "\n",
              "                                                cast  \\\n",
              "0  [{'cast_id': 3, 'character': 'Taisto Olavi Kas...   \n",
              "1  [{'cast_id': 5, 'character': 'Nikander', 'cred...   \n",
              "2  [{'cast_id': 42, 'character': 'Ted the Bellhop...   \n",
              "3  [{'cast_id': 7, 'character': 'Frank Wyatt', 'c...   \n",
              "4  [{'cast_id': 3, 'character': 'Luke Skywalker',...   \n",
              "\n",
              "                                                crew  genre_avg_popularity  \n",
              "0  [{'credit_id': '52fe420dc3a36847f800001f', 'de...              0.017507  \n",
              "1  [{'credit_id': '52fe420dc3a36847f8000077', 'de...              0.010985  \n",
              "2  [{'credit_id': '52fe420dc3a36847f800011b', 'de...              0.011496  \n",
              "3  [{'credit_id': '52fe420dc3a36847f800023d', 'de...              0.028615  \n",
              "4  [{'credit_id': '52fe420dc3a36847f8000437', 'de...              0.082769  "
            ],
            "text/html": [
              "\n",
              "  <div id=\"df-57a8fd90-25a4-4a09-baf5-c1304e882f8f\" class=\"colab-df-container\">\n",
              "    <div>\n",
              "<style scoped>\n",
              "    .dataframe tbody tr th:only-of-type {\n",
              "        vertical-align: middle;\n",
              "    }\n",
              "\n",
              "    .dataframe tbody tr th {\n",
              "        vertical-align: top;\n",
              "    }\n",
              "\n",
              "    .dataframe thead th {\n",
              "        text-align: right;\n",
              "    }\n",
              "</style>\n",
              "<table border=\"1\" class=\"dataframe\">\n",
              "  <thead>\n",
              "    <tr style=\"text-align: right;\">\n",
              "      <th></th>\n",
              "      <th>userId</th>\n",
              "      <th>movieId</th>\n",
              "      <th>rating</th>\n",
              "      <th>genres</th>\n",
              "      <th>vote_average</th>\n",
              "      <th>vote_count</th>\n",
              "      <th>popularity</th>\n",
              "      <th>original_language</th>\n",
              "      <th>original_title</th>\n",
              "      <th>budget</th>\n",
              "      <th>cast</th>\n",
              "      <th>crew</th>\n",
              "      <th>genre_avg_popularity</th>\n",
              "    </tr>\n",
              "  </thead>\n",
              "  <tbody>\n",
              "    <tr>\n",
              "      <th>0</th>\n",
              "      <td>2</td>\n",
              "      <td>5</td>\n",
              "      <td>3.0</td>\n",
              "      <td>['Drama', 'Crime']</td>\n",
              "      <td>0.71</td>\n",
              "      <td>0.003126</td>\n",
              "      <td>0.007051</td>\n",
              "      <td>fi</td>\n",
              "      <td>Ariel</td>\n",
              "      <td>0.000000</td>\n",
              "      <td>[{'cast_id': 3, 'character': 'Taisto Olavi Kas...</td>\n",
              "      <td>[{'credit_id': '52fe420dc3a36847f800001f', 'de...</td>\n",
              "      <td>0.017507</td>\n",
              "    </tr>\n",
              "    <tr>\n",
              "      <th>1</th>\n",
              "      <td>3</td>\n",
              "      <td>480</td>\n",
              "      <td>3.0</td>\n",
              "      <td>['Drama', 'Comedy']</td>\n",
              "      <td>0.71</td>\n",
              "      <td>0.002487</td>\n",
              "      <td>0.004187</td>\n",
              "      <td>fi</td>\n",
              "      <td>Varjoja paratiisissa</td>\n",
              "      <td>0.000000</td>\n",
              "      <td>[{'cast_id': 5, 'character': 'Nikander', 'cred...</td>\n",
              "      <td>[{'credit_id': '52fe420dc3a36847f8000077', 'de...</td>\n",
              "      <td>0.010985</td>\n",
              "    </tr>\n",
              "    <tr>\n",
              "      <th>2</th>\n",
              "      <td>5</td>\n",
              "      <td>7</td>\n",
              "      <td>3.0</td>\n",
              "      <td>['Crime', 'Comedy']</td>\n",
              "      <td>0.65</td>\n",
              "      <td>0.038295</td>\n",
              "      <td>0.016487</td>\n",
              "      <td>en</td>\n",
              "      <td>Four Rooms</td>\n",
              "      <td>0.010526</td>\n",
              "      <td>[{'cast_id': 42, 'character': 'Ted the Bellhop...</td>\n",
              "      <td>[{'credit_id': '52fe420dc3a36847f800011b', 'de...</td>\n",
              "      <td>0.011496</td>\n",
              "    </tr>\n",
              "    <tr>\n",
              "      <th>3</th>\n",
              "      <td>6</td>\n",
              "      <td>11</td>\n",
              "      <td>3.0</td>\n",
              "      <td>['Action', 'Thriller', 'Crime']</td>\n",
              "      <td>0.64</td>\n",
              "      <td>0.005613</td>\n",
              "      <td>0.010117</td>\n",
              "      <td>en</td>\n",
              "      <td>Judgment Night</td>\n",
              "      <td>0.000000</td>\n",
              "      <td>[{'cast_id': 7, 'character': 'Frank Wyatt', 'c...</td>\n",
              "      <td>[{'credit_id': '52fe420dc3a36847f800023d', 'de...</td>\n",
              "      <td>0.028615</td>\n",
              "    </tr>\n",
              "    <tr>\n",
              "      <th>4</th>\n",
              "      <td>11</td>\n",
              "      <td>32</td>\n",
              "      <td>3.5</td>\n",
              "      <td>['Adventure', 'Action', 'Science Fiction']</td>\n",
              "      <td>0.81</td>\n",
              "      <td>0.481563</td>\n",
              "      <td>0.076987</td>\n",
              "      <td>en</td>\n",
              "      <td>Star Wars</td>\n",
              "      <td>0.028947</td>\n",
              "      <td>[{'cast_id': 3, 'character': 'Luke Skywalker',...</td>\n",
              "      <td>[{'credit_id': '52fe420dc3a36847f8000437', 'de...</td>\n",
              "      <td>0.082769</td>\n",
              "    </tr>\n",
              "  </tbody>\n",
              "</table>\n",
              "</div>\n",
              "    <div class=\"colab-df-buttons\">\n",
              "\n",
              "  <div class=\"colab-df-container\">\n",
              "    <button class=\"colab-df-convert\" onclick=\"convertToInteractive('df-57a8fd90-25a4-4a09-baf5-c1304e882f8f')\"\n",
              "            title=\"Convert this dataframe to an interactive table.\"\n",
              "            style=\"display:none;\">\n",
              "\n",
              "  <svg xmlns=\"http://www.w3.org/2000/svg\" height=\"24px\" viewBox=\"0 -960 960 960\">\n",
              "    <path d=\"M120-120v-720h720v720H120Zm60-500h600v-160H180v160Zm220 220h160v-160H400v160Zm0 220h160v-160H400v160ZM180-400h160v-160H180v160Zm440 0h160v-160H620v160ZM180-180h160v-160H180v160Zm440 0h160v-160H620v160Z\"/>\n",
              "  </svg>\n",
              "    </button>\n",
              "\n",
              "  <style>\n",
              "    .colab-df-container {\n",
              "      display:flex;\n",
              "      gap: 12px;\n",
              "    }\n",
              "\n",
              "    .colab-df-convert {\n",
              "      background-color: #E8F0FE;\n",
              "      border: none;\n",
              "      border-radius: 50%;\n",
              "      cursor: pointer;\n",
              "      display: none;\n",
              "      fill: #1967D2;\n",
              "      height: 32px;\n",
              "      padding: 0 0 0 0;\n",
              "      width: 32px;\n",
              "    }\n",
              "\n",
              "    .colab-df-convert:hover {\n",
              "      background-color: #E2EBFA;\n",
              "      box-shadow: 0px 1px 2px rgba(60, 64, 67, 0.3), 0px 1px 3px 1px rgba(60, 64, 67, 0.15);\n",
              "      fill: #174EA6;\n",
              "    }\n",
              "\n",
              "    .colab-df-buttons div {\n",
              "      margin-bottom: 4px;\n",
              "    }\n",
              "\n",
              "    [theme=dark] .colab-df-convert {\n",
              "      background-color: #3B4455;\n",
              "      fill: #D2E3FC;\n",
              "    }\n",
              "\n",
              "    [theme=dark] .colab-df-convert:hover {\n",
              "      background-color: #434B5C;\n",
              "      box-shadow: 0px 1px 3px 1px rgba(0, 0, 0, 0.15);\n",
              "      filter: drop-shadow(0px 1px 2px rgba(0, 0, 0, 0.3));\n",
              "      fill: #FFFFFF;\n",
              "    }\n",
              "  </style>\n",
              "\n",
              "    <script>\n",
              "      const buttonEl =\n",
              "        document.querySelector('#df-57a8fd90-25a4-4a09-baf5-c1304e882f8f button.colab-df-convert');\n",
              "      buttonEl.style.display =\n",
              "        google.colab.kernel.accessAllowed ? 'block' : 'none';\n",
              "\n",
              "      async function convertToInteractive(key) {\n",
              "        const element = document.querySelector('#df-57a8fd90-25a4-4a09-baf5-c1304e882f8f');\n",
              "        const dataTable =\n",
              "          await google.colab.kernel.invokeFunction('convertToInteractive',\n",
              "                                                    [key], {});\n",
              "        if (!dataTable) return;\n",
              "\n",
              "        const docLinkHtml = 'Like what you see? Visit the ' +\n",
              "          '<a target=\"_blank\" href=https://colab.research.google.com/notebooks/data_table.ipynb>data table notebook</a>'\n",
              "          + ' to learn more about interactive tables.';\n",
              "        element.innerHTML = '';\n",
              "        dataTable['output_type'] = 'display_data';\n",
              "        await google.colab.output.renderOutput(dataTable, element);\n",
              "        const docLink = document.createElement('div');\n",
              "        docLink.innerHTML = docLinkHtml;\n",
              "        element.appendChild(docLink);\n",
              "      }\n",
              "    </script>\n",
              "  </div>\n",
              "\n",
              "\n",
              "<div id=\"df-fb3cf254-bdc7-4245-b224-2cf62ed6d6a4\">\n",
              "  <button class=\"colab-df-quickchart\" onclick=\"quickchart('df-fb3cf254-bdc7-4245-b224-2cf62ed6d6a4')\"\n",
              "            title=\"Suggest charts\"\n",
              "            style=\"display:none;\">\n",
              "\n",
              "<svg xmlns=\"http://www.w3.org/2000/svg\" height=\"24px\"viewBox=\"0 0 24 24\"\n",
              "     width=\"24px\">\n",
              "    <g>\n",
              "        <path d=\"M19 3H5c-1.1 0-2 .9-2 2v14c0 1.1.9 2 2 2h14c1.1 0 2-.9 2-2V5c0-1.1-.9-2-2-2zM9 17H7v-7h2v7zm4 0h-2V7h2v10zm4 0h-2v-4h2v4z\"/>\n",
              "    </g>\n",
              "</svg>\n",
              "  </button>\n",
              "\n",
              "<style>\n",
              "  .colab-df-quickchart {\n",
              "      --bg-color: #E8F0FE;\n",
              "      --fill-color: #1967D2;\n",
              "      --hover-bg-color: #E2EBFA;\n",
              "      --hover-fill-color: #174EA6;\n",
              "      --disabled-fill-color: #AAA;\n",
              "      --disabled-bg-color: #DDD;\n",
              "  }\n",
              "\n",
              "  [theme=dark] .colab-df-quickchart {\n",
              "      --bg-color: #3B4455;\n",
              "      --fill-color: #D2E3FC;\n",
              "      --hover-bg-color: #434B5C;\n",
              "      --hover-fill-color: #FFFFFF;\n",
              "      --disabled-bg-color: #3B4455;\n",
              "      --disabled-fill-color: #666;\n",
              "  }\n",
              "\n",
              "  .colab-df-quickchart {\n",
              "    background-color: var(--bg-color);\n",
              "    border: none;\n",
              "    border-radius: 50%;\n",
              "    cursor: pointer;\n",
              "    display: none;\n",
              "    fill: var(--fill-color);\n",
              "    height: 32px;\n",
              "    padding: 0;\n",
              "    width: 32px;\n",
              "  }\n",
              "\n",
              "  .colab-df-quickchart:hover {\n",
              "    background-color: var(--hover-bg-color);\n",
              "    box-shadow: 0 1px 2px rgba(60, 64, 67, 0.3), 0 1px 3px 1px rgba(60, 64, 67, 0.15);\n",
              "    fill: var(--button-hover-fill-color);\n",
              "  }\n",
              "\n",
              "  .colab-df-quickchart-complete:disabled,\n",
              "  .colab-df-quickchart-complete:disabled:hover {\n",
              "    background-color: var(--disabled-bg-color);\n",
              "    fill: var(--disabled-fill-color);\n",
              "    box-shadow: none;\n",
              "  }\n",
              "\n",
              "  .colab-df-spinner {\n",
              "    border: 2px solid var(--fill-color);\n",
              "    border-color: transparent;\n",
              "    border-bottom-color: var(--fill-color);\n",
              "    animation:\n",
              "      spin 1s steps(1) infinite;\n",
              "  }\n",
              "\n",
              "  @keyframes spin {\n",
              "    0% {\n",
              "      border-color: transparent;\n",
              "      border-bottom-color: var(--fill-color);\n",
              "      border-left-color: var(--fill-color);\n",
              "    }\n",
              "    20% {\n",
              "      border-color: transparent;\n",
              "      border-left-color: var(--fill-color);\n",
              "      border-top-color: var(--fill-color);\n",
              "    }\n",
              "    30% {\n",
              "      border-color: transparent;\n",
              "      border-left-color: var(--fill-color);\n",
              "      border-top-color: var(--fill-color);\n",
              "      border-right-color: var(--fill-color);\n",
              "    }\n",
              "    40% {\n",
              "      border-color: transparent;\n",
              "      border-right-color: var(--fill-color);\n",
              "      border-top-color: var(--fill-color);\n",
              "    }\n",
              "    60% {\n",
              "      border-color: transparent;\n",
              "      border-right-color: var(--fill-color);\n",
              "    }\n",
              "    80% {\n",
              "      border-color: transparent;\n",
              "      border-right-color: var(--fill-color);\n",
              "      border-bottom-color: var(--fill-color);\n",
              "    }\n",
              "    90% {\n",
              "      border-color: transparent;\n",
              "      border-bottom-color: var(--fill-color);\n",
              "    }\n",
              "  }\n",
              "</style>\n",
              "\n",
              "  <script>\n",
              "    async function quickchart(key) {\n",
              "      const quickchartButtonEl =\n",
              "        document.querySelector('#' + key + ' button');\n",
              "      quickchartButtonEl.disabled = true;  // To prevent multiple clicks.\n",
              "      quickchartButtonEl.classList.add('colab-df-spinner');\n",
              "      try {\n",
              "        const charts = await google.colab.kernel.invokeFunction(\n",
              "            'suggestCharts', [key], {});\n",
              "      } catch (error) {\n",
              "        console.error('Error during call to suggestCharts:', error);\n",
              "      }\n",
              "      quickchartButtonEl.classList.remove('colab-df-spinner');\n",
              "      quickchartButtonEl.classList.add('colab-df-quickchart-complete');\n",
              "    }\n",
              "    (() => {\n",
              "      let quickchartButtonEl =\n",
              "        document.querySelector('#df-fb3cf254-bdc7-4245-b224-2cf62ed6d6a4 button');\n",
              "      quickchartButtonEl.style.display =\n",
              "        google.colab.kernel.accessAllowed ? 'block' : 'none';\n",
              "    })();\n",
              "  </script>\n",
              "</div>\n",
              "    </div>\n",
              "  </div>\n"
            ],
            "application/vnd.google.colaboratory.intrinsic+json": {
              "type": "dataframe",
              "variable_name": "recomendador_mejorado",
              "summary": "{\n  \"name\": \"recomendador_mejorado\",\n  \"rows\": 39547,\n  \"fields\": [\n    {\n      \"column\": \"userId\",\n      \"properties\": {\n        \"dtype\": \"number\",\n        \"std\": 67856,\n        \"min\": 2,\n        \"max\": 270886,\n        \"num_unique_values\": 39547,\n        \"samples\": [\n          257831,\n          4879,\n          11563\n        ],\n        \"semantic_type\": \"\",\n        \"description\": \"\"\n      }\n    },\n    {\n      \"column\": \"movieId\",\n      \"properties\": {\n        \"dtype\": \"number\",\n        \"std\": 7318,\n        \"min\": 1,\n        \"max\": 170813,\n        \"num_unique_values\": 1650,\n        \"samples\": [\n          382,\n          19,\n          2371\n        ],\n        \"semantic_type\": \"\",\n        \"description\": \"\"\n      }\n    },\n    {\n      \"column\": \"rating\",\n      \"properties\": {\n        \"dtype\": \"number\",\n        \"std\": 1.109875869872567,\n        \"min\": 0.5,\n        \"max\": 5.0,\n        \"num_unique_values\": 10,\n        \"samples\": [\n          2.5,\n          3.5,\n          5.0\n        ],\n        \"semantic_type\": \"\",\n        \"description\": \"\"\n      }\n    },\n    {\n      \"column\": \"genres\",\n      \"properties\": {\n        \"dtype\": \"category\",\n        \"num_unique_values\": 3789,\n        \"samples\": [\n          \"['Action', 'Adventure', 'Foreign', 'Thriller']\",\n          \"['Documentary', 'Family', 'Music']\",\n          \"['Fantasy', 'Horror', 'Comedy']\"\n        ],\n        \"semantic_type\": \"\",\n        \"description\": \"\"\n      }\n    },\n    {\n      \"column\": \"vote_average\",\n      \"properties\": {\n        \"dtype\": \"number\",\n        \"std\": 0.18046681902064518,\n        \"min\": 0.0,\n        \"max\": 1.0,\n        \"num_unique_values\": 89,\n        \"samples\": [\n          0.0,\n          0.4599999999999999,\n          0.8500000000000001\n        ],\n        \"semantic_type\": \"\",\n        \"description\": \"\"\n      }\n    },\n    {\n      \"column\": \"vote_count\",\n      \"properties\": {\n        \"dtype\": \"number\",\n        \"std\": 0.03567062783704343,\n        \"min\": 0.0,\n        \"max\": 1.0,\n        \"num_unique_values\": 1737,\n        \"samples\": [\n          0.0706927175843694,\n          0.1651865008880994,\n          0.0260035523978685\n        ],\n        \"semantic_type\": \"\",\n        \"description\": \"\"\n      }\n    },\n    {\n      \"column\": \"popularity\",\n      \"properties\": {\n        \"dtype\": \"number\",\n        \"std\": 0.009883489113612122,\n        \"min\": 0.0,\n        \"max\": 1.0,\n        \"num_unique_values\": 38274,\n        \"samples\": [\n          0.0013356961284312,\n          0.0252109023159432,\n          0.0010979175302848\n        ],\n        \"semantic_type\": \"\",\n        \"description\": \"\"\n      }\n    },\n    {\n      \"column\": \"original_language\",\n      \"properties\": {\n        \"dtype\": \"category\",\n        \"num_unique_values\": 85,\n        \"samples\": [\n          \"ne\",\n          \"fi\",\n          \"sm\"\n        ],\n        \"semantic_type\": \"\",\n        \"description\": \"\"\n      }\n    },\n    {\n      \"column\": \"original_title\",\n      \"properties\": {\n        \"dtype\": \"string\",\n        \"num_unique_values\": 37840,\n        \"samples\": [\n          \"Steven Wright: When the Leaves Blow Away\",\n          \"\\u30dc\\u30af\\u305f\\u3061\\u306e\\u4ea4\\u63db\\u65e5\\u8a18\",\n          \"Isle of the Dead\"\n        ],\n        \"semantic_type\": \"\",\n        \"description\": \"\"\n      }\n    },\n    {\n      \"column\": \"budget\",\n      \"properties\": {\n        \"dtype\": \"number\",\n        \"std\": 0.04709694983906777,\n        \"min\": 0.0,\n        \"max\": 1.0,\n        \"num_unique_values\": 1111,\n        \"samples\": [\n          0.0231578947368421,\n          0.0116837684210526,\n          0.0384210526315789\n        ],\n        \"semantic_type\": \"\",\n        \"description\": \"\"\n      }\n    },\n    {\n      \"column\": \"cast\",\n      \"properties\": {\n        \"dtype\": \"string\",\n        \"num_unique_values\": 37773,\n        \"samples\": [\n          \"[{'cast_id': 12, 'character': 'Herself', 'credit_id': '52fe49529251416c750c43b7', 'gender': 0, 'id': 1001649, 'name': 'Karen Abbott', 'order': 0, 'profile_path': None}, {'cast_id': 13, 'character': 'Himself', 'credit_id': '52fe49529251416c750c43bb', 'gender': 0, 'id': 1001650, 'name': 'Peter Alson', 'order': 1, 'profile_path': None}, {'cast_id': 14, 'character': 'Himself', 'credit_id': '52fe49529251416c750c43bf', 'gender': 0, 'id': 1001651, 'name': 'Nick Brancato', 'order': 2, 'profile_path': None}, {'cast_id': 15, 'character': 'Himself', 'credit_id': '52fe49529251416c750c43c3', 'gender': 0, 'id': 1001652, 'name': 'Humberto Brenes', 'order': 3, 'profile_path': None}, {'cast_id': 16, 'character': 'Himself', 'credit_id': '52fe49529251416c750c43c7', 'gender': 0, 'id': 1001653, 'name': 'Avery Cardoza', 'order': 4, 'profile_path': None}, {'cast_id': 17, 'character': 'Himself', 'credit_id': '52fe49529251416c750c43cb', 'gender': 0, 'id': 1001654, 'name': 'Mike Caro', 'order': 5, 'profile_path': None}, {'cast_id': 18, 'character': 'Himself', 'credit_id': '52fe49529251416c750c43cf', 'gender': 0, 'id': 184384, 'name': 'T.J. Cloutier', 'order': 6, 'profile_path': None}, {'cast_id': 19, 'character': 'Himself', 'credit_id': '52fe49529251416c750c43d3', 'gender': 0, 'id': 1001655, 'name': \\\"Alfonse D'amato\\\", 'order': 7, 'profile_path': None}, {'cast_id': 20, 'character': 'Himself', 'credit_id': '52fe49529251416c750c43d7', 'gender': 2, 'id': 21053, 'name': 'John Dahl', 'order': 8, 'profile_path': '/klMxcB64Tu0sWCn3YDTMcGWPArQ.jpg'}, {'cast_id': 21, 'character': 'Himself', 'credit_id': '52fe49529251416c750c43db', 'gender': 0, 'id': 1001656, 'name': 'Nolan Dalla', 'order': 9, 'profile_path': None}]\",\n          \"[{'cast_id': 2, 'character': 'Dr. Sigmund Freud', 'credit_id': '52fe45eac3a368484e076589', 'gender': 2, 'id': 1903, 'name': 'Alan Arkin', 'order': 0, 'profile_path': '/gcrKO2z0YVUXBXVeB9V8PndG0IJ.jpg'}, {'cast_id': 3, 'character': 'Lola Deveraux', 'credit_id': '52fe45eac3a368484e07658d', 'gender': 1, 'id': 13333, 'name': 'Vanessa Redgrave', 'order': 1, 'profile_path': '/hGxsPCZkwa30UE0XQdGTB9yT0jz.jpg'}, {'cast_id': 4, 'character': 'Dr. John H. Watson', 'credit_id': '52fe45eac3a368484e076591', 'gender': 2, 'id': 3087, 'name': 'Robert Duvall', 'order': 2, 'profile_path': '/1aBC7NxPy10ofng6HsJBecJ1vMZ.jpg'}, {'cast_id': 5, 'character': 'Sherlock Holmes', 'credit_id': '52fe45eac3a368484e076595', 'gender': 2, 'id': 51812, 'name': 'Nicol Williamson', 'order': 3, 'profile_path': '/kCvjXpYSCYH14mo0gtRmnV7DroV.jpg'}, {'cast_id': 6, 'character': 'Professor James Moriarty', 'credit_id': '52fe45eac3a368484e076599', 'gender': 2, 'id': 3359, 'name': 'Laurence Olivier', 'order': 4, 'profile_path': '/n8jDSq91O95HSbtCJLRsM367kKx.jpg'}, {'cast_id': 7, 'character': 'Lowenstein', 'credit_id': '52fe45eac3a368484e07659d', 'gender': 2, 'id': 6748, 'name': 'Joel Grey', 'order': 5, 'profile_path': '/yCLwC64GVp96bNi7eTPT0VPmjON.jpg'}, {'cast_id': 8, 'character': 'Mary Morstan Watson', 'credit_id': '52fe45eac3a368484e0765a1', 'gender': 1, 'id': 46780, 'name': 'Samantha Eggar', 'order': 6, 'profile_path': '/cd8H4zvFKDsGOHgYAOGzpYzkFaj.jpg'}, {'cast_id': 12, 'character': 'Baron Karl von Leinsdorf', 'credit_id': '53824a960e0a2624cb00a929', 'gender': 2, 'id': 55037, 'name': 'Jeremy Kemp', 'order': 7, 'profile_path': '/9IxFAtzRvSwLXeUslPvglP7AJgb.jpg'}, {'cast_id': 13, 'character': 'Mycroft Holmes', 'credit_id': '53824abe0e0a2624c000af4b', 'gender': 2, 'id': 10074, 'name': 'Charles Gray', 'order': 8, 'profile_path': '/czTISDAqwpOUGDdO3wT1fgkLUAz.jpg'}, {'cast_id': 14, 'character': 'Madame', 'credit_id': '53824adf0e0a2624cb00a933', 'gender': 1, 'id': 32105, 'name': 'R\\u00e9gine', 'order': 9, 'profile_path': '/iAwNhmH1jPGaeKPCRQKUcQ9uQT2.jpg'}, {'cast_id': 15, 'character': 'Freda', 'credit_id': '53824af70e0a26588c0064e0', 'gender': 0, 'id': 10599, 'name': 'Anna Quayle', 'order': 10, 'profile_path': '/ssTCsy7bGlavOGQyGkLPYMrYRzc.jpg'}, {'cast_id': 17, 'character': 'Mrs. Freud', 'credit_id': '58ac56afc3a36849cc0139bc', 'gender': 1, 'id': 104311, 'name': 'Georgia Brown', 'order': 11, 'profile_path': '/vDrEQ3e4vbIpRJmqvOA9ntl2lN3.jpg'}, {'cast_id': 18, 'character': 'Mrs. Holmes', 'credit_id': '58ac5875c3a36849ea0135fd', 'gender': 0, 'id': 103727, 'name': 'Jill Townsend', 'order': 12, 'profile_path': '/fbS5pBVnmBlcaSZgT61EzGKPx6C.jpg'}, {'cast_id': 19, 'character': 'Berger', 'credit_id': '58ac596ec3a3684a0a014882', 'gender': 2, 'id': 172310, 'name': 'John Bird', 'order': 13, 'profile_path': '/Ab3Ez27r6mmIZU5x77OW876yR71.jpg'}, {'cast_id': 20, 'character': 'Mrs. Hudson', 'credit_id': '58ac599792514159000151bb', 'gender': 1, 'id': 31942, 'name': 'Alison Leggatt', 'order': 14, 'profile_path': '/s9ij033zAp4tY3HiBPN4QGcKs8N.jpg'}, {'cast_id': 21, 'character': 'Marker', 'credit_id': '58ac5a2792514158df014184', 'gender': 2, 'id': 184862, 'name': 'Frederick Jaeger', 'order': 15, 'profile_path': '/5SPD1kRTlmLcc4bhWZs0xtKtvzk.jpg'}, {'cast_id': 22, 'character': 'The Butler', 'credit_id': '58ac5c70c3a36849cc013d1d', 'gender': 0, 'id': 14018, 'name': 'Erik Chitty', 'order': 16, 'profile_path': '/1gkXm40CztFaFyU52zL1okLhU9V.jpg'}, {'cast_id': 23, 'character': 'Dr. Schultz', 'credit_id': '58ac5da992514158c80147cd', 'gender': 0, 'id': 14755, 'name': 'Jack May', 'order': 17, 'profile_path': '/jy3EMazp5vKFkNSLVvWDbbGiKSz.jpg'}, {'cast_id': 24, 'character': 'The Pasha', 'credit_id': '58ac5ff392514158f6013722', 'gender': 2, 'id': 95095, 'name': 'Gertan Klauber', 'order': 18, 'profile_path': '/EYEMedOu9hMK4HVG9FFlsguv1f.jpg'}, {'cast_id': 25, 'character': 'Squire Holmes', 'credit_id': '58ac60ffc3a36849f601268d', 'gender': 0, 'id': 113700, 'name': 'Leon Greene', 'order': 19, 'profile_path': '/nKAZHKoc9ZDp8J75WE93Q3Qhzdb.jpg'}, {'cast_id': 26, 'character': 'Nun', 'credit_id': '58ac633892514158c8014af6', 'gender': 0, 'id': 192913, 'name': 'Sheila Shand Gibbs', 'order': 20, 'profile_path': '/6hvdnz3VxmlJzE3pSc0Aj6o98Z2.jpg'}, {'cast_id': 27, 'character': 'Station Master', 'credit_id': '598705719251413cfc018472', 'gender': 2, 'id': 49593, 'name': 'Erich Padalewski', 'order': 21, 'profile_path': '/7LOEuI9eJe3PnoNxNRVpX9ESLHs.jpg'}]\",\n          \"[{'cast_id': 3, 'character': 'Catalina', 'credit_id': '52fe48ddc3a36847f817d919', 'gender': 1, 'id': 15007, 'name': 'Laura Harring', 'order': 0, 'profile_path': '/ng0u5d41FhJDS9mJ74nYnd7XNZP.jpg'}, {'cast_id': 4, 'character': 'Donald', 'credit_id': '52fe48ddc3a36847f817d91d', 'gender': 2, 'id': 159480, 'name': 'Roy Werner', 'order': 1, 'profile_path': '/eakzFQdmQNeDy5rbCl7QVawnJcg.jpg'}, {'cast_id': 5, 'character': 'Miguel Sanchez', 'credit_id': '52fe48ddc3a36847f817d921', 'gender': 2, 'id': 571297, 'name': 'Gerardo Mej\\u00eda', 'order': 2, 'profile_path': '/pz7lR2UEpHjQg7Ntr2IzmLSg40x.jpg'}, {'cast_id': 6, 'character': 'Barbara', 'credit_id': '52fe48ddc3a36847f817d925', 'gender': 1, 'id': 280312, 'name': 'Margaret Scarborough', 'order': 3, 'profile_path': '/kDM6ZXx7vqlEqI416mGRU6AbtfC.jpg'}, {'cast_id': 7, 'character': 'Juanita (como Victoria Ramirez)', 'credit_id': '52fe48ddc3a36847f817d929', 'gender': 0, 'id': 571298, 'name': 'VictoriaRegina', 'order': 4, 'profile_path': None}, {'cast_id': 8, 'character': 'Tobias', 'credit_id': '52fe48ddc3a36847f817d92d', 'gender': 0, 'id': 174454, 'name': 'Frank Gallegos', 'order': 5, 'profile_path': '/AaOZR6NXUHXReqOe8MZ480gdtd.jpg'}, {'cast_id': 9, 'character': 'Jackie', 'credit_id': '52fe48ddc3a36847f817d931', 'gender': 1, 'id': 22090, 'name': 'Barbara Eden', 'order': 6, 'profile_path': '/m3pmDfsFBK97L4ibYupf9FITMJF.jpg'}, {'cast_id': 10, 'character': 'Pedro', 'credit_id': '52fe48ddc3a36847f817d935', 'gender': 0, 'id': 200079, 'name': 'Erick Carrillo', 'order': 7, 'profile_path': None}, {'cast_id': 11, 'character': 'Mr. Hurley', 'credit_id': '52fe48ddc3a36847f817d939', 'gender': 0, 'id': 116234, 'name': 'Paul Keith', 'order': 8, 'profile_path': '/ln0ACkzDK4xRbLuanja3RKUqpYP.jpg'}, {'cast_id': 12, 'character': 'Norm', 'credit_id': '52fe48ddc3a36847f817d93d', 'gender': 0, 'id': 571299, 'name': 'Michael Kuka', 'order': 9, 'profile_path': None}, {'cast_id': 13, 'character': 'Eli', 'credit_id': '52fe48ddc3a36847f817d941', 'gender': 0, 'id': 105079, 'name': 'Rhonda Leigh Hopkins', 'order': 10, 'profile_path': None}, {'cast_id': 14, 'character': 'Hector', 'credit_id': '52fe48ddc3a36847f817d945', 'gender': 0, 'id': 571302, 'name': 'Miguel Mas', 'order': 11, 'profile_path': None}, {'cast_id': 15, 'character': 'Mrs. Hurley', 'credit_id': '52fe48ddc3a36847f817d949', 'gender': 0, 'id': 157627, 'name': 'Debbie McLeod', 'order': 12, 'profile_path': None}, {'cast_id': 16, 'character': \\\"Maitre'D\\\", 'credit_id': '52fe48ddc3a36847f817d94d', 'gender': 0, 'id': 571304, 'name': 'Ken Perkins', 'order': 13, 'profile_path': None}, {'cast_id': 17, 'character': 'Carla the bartender', 'credit_id': '52fe48ddc3a36847f817d951', 'gender': 0, 'id': 88099, 'name': 'Tara Price', 'order': 14, 'profile_path': None}]\"\n        ],\n        \"semantic_type\": \"\",\n        \"description\": \"\"\n      }\n    },\n    {\n      \"column\": \"crew\",\n      \"properties\": {\n        \"dtype\": \"string\",\n        \"num_unique_values\": 39017,\n        \"samples\": [\n          \"[{'credit_id': '53563ceac3a36841fe002243', 'department': 'Directing', 'gender': 2, 'id': 1002601, 'job': 'Director', 'name': 'Lisandro Alonso', 'profile_path': '/dtM6Pj4FTlDy2YV7iQeLqv1S2ud.jpg'}, {'credit_id': '53563cfbc3a36841e500212e', 'department': 'Writing', 'gender': 2, 'id': 1002601, 'job': 'Writer', 'name': 'Lisandro Alonso', 'profile_path': '/dtM6Pj4FTlDy2YV7iQeLqv1S2ud.jpg'}, {'credit_id': '53563d0cc3a36841c80021ff', 'department': 'Writing', 'gender': 0, 'id': 1312063, 'job': 'Writer', 'name': 'Fabian Casas', 'profile_path': None}, {'credit_id': '539042d80e0a26297f00200b', 'department': 'Crew', 'gender': 2, 'id': 16769, 'job': 'Cinematography', 'name': 'Timo Salminen', 'profile_path': None}]\",\n          \"[{'credit_id': '52fe43da9251416c75020a79', 'department': 'Directing', 'gender': 2, 'id': 26134, 'job': 'Director', 'name': 'Roy Ward Baker', 'profile_path': '/mSC8Hb3bm9tEMg1ZtpU9WRV7ll9.jpg'}, {'credit_id': '52fe43da9251416c75020a7f', 'department': 'Writing', 'gender': 2, 'id': 41416, 'job': 'Screenplay', 'name': 'Eric Ambler', 'profile_path': '/iRuas8BMaLeiwYaIxIoFjTGJ8yC.jpg'}, {'credit_id': '52fe43da9251416c75020a85', 'department': 'Writing', 'gender': 0, 'id': 67678, 'job': 'Novel', 'name': 'Walter Lord', 'profile_path': None}, {'credit_id': '52fe43da9251416c75020a8b', 'department': 'Production', 'gender': 2, 'id': 67680, 'job': 'Producer', 'name': 'William MacQuitty', 'profile_path': None}, {'credit_id': '52fe43da9251416c75020a91', 'department': 'Production', 'gender': 0, 'id': 67681, 'job': 'Executive Producer', 'name': 'Earl St. John', 'profile_path': None}, {'credit_id': '52fe43da9251416c75020a97', 'department': 'Sound', 'gender': 2, 'id': 39054, 'job': 'Original Music Composer', 'name': 'William Alwyn', 'profile_path': None}, {'credit_id': '52fe43da9251416c75020a9d', 'department': 'Camera', 'gender': 2, 'id': 243, 'job': 'Director of Photography', 'name': 'Geoffrey Unsworth', 'profile_path': None}, {'credit_id': '52fe43da9251416c75020aa3', 'department': 'Editing', 'gender': 2, 'id': 43792, 'job': 'Editor', 'name': 'Sidney Hayers', 'profile_path': '/vlM7fnlZvVoUPyFSl6yHG7Ox87A.jpg'}, {'credit_id': '56cd8fbb9251415ce3002363', 'department': 'Art', 'gender': 0, 'id': 231090, 'job': 'Art Direction', 'name': 'Alex Vetchinsky', 'profile_path': None}, {'credit_id': '56cd8fd19251415cdc002349', 'department': 'Costume & Make-Up', 'gender': 0, 'id': 21604, 'job': 'Costume Design', 'name': 'Yvonne Caffin', 'profile_path': None}, {'credit_id': '56cd8fec9251415cd1002042', 'department': 'Crew', 'gender': 0, 'id': 1582123, 'job': 'Sound Recordist', 'name': 'Geoffrey Daniels', 'profile_path': None}, {'credit_id': '56cd9002c3a368276e001e3a', 'department': 'Crew', 'gender': 0, 'id': 1100808, 'job': 'Sound Recordist', 'name': 'Gordon K. McCallum', 'profile_path': None}, {'credit_id': '56cd9026c3a368276b002068', 'department': 'Camera', 'gender': 2, 'id': 1569883, 'job': 'Camera Operator', 'name': 'David Harcourt', 'profile_path': None}, {'credit_id': '56cd9039c3a368276b00206d', 'department': 'Crew', 'gender': 0, 'id': 1582124, 'job': 'Special Effects', 'name': 'Bill Warrington', 'profile_path': None}, {'credit_id': '56cd9072c3a36827620021e0', 'department': 'Sound', 'gender': 0, 'id': 7391, 'job': 'Sound Editor', 'name': 'Harry Miller', 'profile_path': None}, {'credit_id': '56cd908dc3a3682759002197', 'department': 'Costume & Make-Up', 'gender': 0, 'id': 1582125, 'job': 'Hairstylist', 'name': 'Pauline Trent', 'profile_path': None}, {'credit_id': '56cd909e9251415cd1002069', 'department': 'Costume & Make-Up', 'gender': 2, 'id': 1207586, 'job': 'Makeup Artist', 'name': 'W.T. Partleton', 'profile_path': None}]\",\n          \"[{'credit_id': '52fe493ec3a36847f8190665', 'department': 'Directing', 'gender': 2, 'id': 939155, 'job': 'Director', 'name': 'Charles de Lauzirika', 'profile_path': '/8I3QJmupUUwzNPk4Aai71ucc3pM.jpg'}, {'credit_id': '52fe493fc3a36847f8190699', 'department': 'Production', 'gender': 0, 'id': 939171, 'job': 'Producer', 'name': 'Paul Prischman', 'profile_path': None}, {'credit_id': '52fe493fc3a36847f819069f', 'department': 'Editing', 'gender': 0, 'id': 82598, 'job': 'Editor', 'name': 'William Hooke', 'profile_path': None}, {'credit_id': '544fb8db0e0a263a18001fc7', 'department': 'Production', 'gender': 2, 'id': 939155, 'job': 'Producer', 'name': 'Charles de Lauzirika', 'profile_path': '/8I3QJmupUUwzNPk4Aai71ucc3pM.jpg'}, {'credit_id': '544fb8e3c3a368532b002001', 'department': 'Writing', 'gender': 2, 'id': 939155, 'job': 'Writer', 'name': 'Charles de Lauzirika', 'profile_path': '/8I3QJmupUUwzNPk4Aai71ucc3pM.jpg'}]\"\n        ],\n        \"semantic_type\": \"\",\n        \"description\": \"\"\n      }\n    },\n    {\n      \"column\": \"genre_avg_popularity\",\n      \"properties\": {\n        \"dtype\": \"number\",\n        \"std\": 0.013871860612803447,\n        \"min\": 0.0,\n        \"max\": 1.0,\n        \"num_unique_values\": 3780,\n        \"samples\": [\n          0.0174139075843222,\n          0.0253627093013545,\n          0.0866228484570856\n        ],\n        \"semantic_type\": \"\",\n        \"description\": \"\"\n      }\n    }\n  ]\n}"
            }
          },
          "metadata": {},
          "execution_count": 5
        }
      ],
      "source": [
        "recomendador_mejorado.head()"
      ]
    },
    {
      "cell_type": "code",
      "execution_count": null,
      "metadata": {
        "id": "UQMRgH8B7UtG"
      },
      "outputs": [],
      "source": [
        "# Guardar DataFrame en un archivo CSV\n",
        "#recomendador_mejorado.to_csv('recomendador_mejorado.csv', index=False)"
      ]
    },
    {
      "cell_type": "code",
      "execution_count": null,
      "metadata": {
        "id": "1OJYoQLZ7dR_"
      },
      "outputs": [],
      "source": [
        "# Descargar el archivo CSV desde Google Colab\n",
        "#from google.colab import files\n",
        "#files.download('recomendador_mejorado.csv')"
      ]
    },
    {
      "cell_type": "markdown",
      "metadata": {
        "id": "Wkv8XtkgaYfF"
      },
      "source": [
        "# **Recomendador mejorado**"
      ]
    },
    {
      "cell_type": "markdown",
      "metadata": {
        "id": "e75px5E_bElI"
      },
      "source": [
        "### **Sin manejo de excepciones**"
      ]
    },
    {
      "cell_type": "code",
      "execution_count": null,
      "metadata": {
        "colab": {
          "base_uri": "https://localhost:8080/"
        },
        "id": "HZJWNN7hIrTn",
        "outputId": "1ad696b9-f2c6-4e7d-be43-48cf6448ba8b"
      },
      "outputs": [
        {
          "output_type": "stream",
          "name": "stdout",
          "text": [
            "Collecting surprise\n",
            "  Downloading surprise-0.1-py2.py3-none-any.whl (1.8 kB)\n",
            "Collecting scikit-surprise (from surprise)\n",
            "  Downloading scikit-surprise-1.1.3.tar.gz (771 kB)\n",
            "\u001b[2K     \u001b[90m━━━━━━━━━━━━━━━━━━━━━━━━━━━━━━━━━━━━━━━━\u001b[0m \u001b[32m772.0/772.0 kB\u001b[0m \u001b[31m11.2 MB/s\u001b[0m eta \u001b[36m0:00:00\u001b[0m\n",
            "\u001b[?25h  Preparing metadata (setup.py) ... \u001b[?25l\u001b[?25hdone\n",
            "Requirement already satisfied: joblib>=1.0.0 in /usr/local/lib/python3.10/dist-packages (from scikit-surprise->surprise) (1.3.2)\n",
            "Requirement already satisfied: numpy>=1.17.3 in /usr/local/lib/python3.10/dist-packages (from scikit-surprise->surprise) (1.25.2)\n",
            "Requirement already satisfied: scipy>=1.3.2 in /usr/local/lib/python3.10/dist-packages (from scikit-surprise->surprise) (1.11.4)\n",
            "Building wheels for collected packages: scikit-surprise\n",
            "  Building wheel for scikit-surprise (setup.py) ... \u001b[?25l\u001b[?25hdone\n",
            "  Created wheel for scikit-surprise: filename=scikit_surprise-1.1.3-cp310-cp310-linux_x86_64.whl size=3163014 sha256=90022e25fa6f9924ff281936879db0b7af91d3fb0ccd2d64d1b9e4f0810db7bb\n",
            "  Stored in directory: /root/.cache/pip/wheels/a5/ca/a8/4e28def53797fdc4363ca4af740db15a9c2f1595ebc51fb445\n",
            "Successfully built scikit-surprise\n",
            "Installing collected packages: scikit-surprise, surprise\n",
            "Successfully installed scikit-surprise-1.1.3 surprise-0.1\n",
            "Película elegida aleatoriamente para el usuario 267999 :\n",
            "Finding Nemo (ID: 1 )\n",
            "\n",
            "Top 10 películas recomendadas para el usuario 267999 :\n"
          ]
        }
      ],
      "source": [
        "import pandas as pd\n",
        "import random\n",
        "! pip install surprise\n",
        "from surprise import Dataset, Reader, SVD\n",
        "from surprise.model_selection import train_test_split\n",
        "\n",
        "# Definir la función para obtener el título de la película dado su ID\n",
        "def get_movie_title_from_id(movie_id, dataframe):\n",
        "    movie_title = dataframe.loc[dataframe['movieId'] == movie_id, 'original_title'].iloc[0]\n",
        "    return movie_title\n",
        "\n",
        "# Filtrar películas por género e idioma\n",
        "def filter_movies_by_genre_and_language(movie_id, dataframe):\n",
        "    movie_genre = dataframe.loc[dataframe['movieId'] == movie_id, 'genres'].iloc[0]\n",
        "    movie_language = dataframe.loc[dataframe['movieId'] == movie_id, 'original_language'].iloc[0]\n",
        "    filtered_movies = dataframe[(dataframe['genres'] == movie_genre) & (dataframe['original_language'] == movie_language)]\n",
        "    return filtered_movies\n",
        "\n",
        "# Obtener lista de userId únicos\n",
        "unique_user_ids = recomendador_mejorado['userId'].unique()\n",
        "\n",
        "# Seleccionar aleatoriamente un userId existente\n",
        "userId = random.choice(unique_user_ids)\n",
        "\n",
        "# Filtrar DataFrame para obtener todos los movieId asociados con userId seleccionado\n",
        "movies_for_user = recomendador_mejorado.loc[recomendador_mejorado['userId'] == userId, 'movieId'].unique()\n",
        "\n",
        "# Seleccionar aleatoriamente un movieId asociado con userId seleccionado\n",
        "random_movie_id = random.choice(movies_for_user)\n",
        "\n",
        "# Filtrar películas por género e idioma\n",
        "filtered_movies = filter_movies_by_genre_and_language(random_movie_id, recomendador_mejorado)\n",
        "\n",
        "# Configurar los datos\n",
        "reader = Reader(rating_scale=(0, 5))\n",
        "data = Dataset.load_from_df(filtered_movies[['userId', 'movieId', 'rating']], reader)\n",
        "\n",
        "# Dividir los datos\n",
        "trainset_user, testset_user = train_test_split(data, test_size=0.2, random_state=42)\n",
        "\n",
        "# Definir los mejores parámetros\n",
        "best_params_user = {'n_factors': 100, 'n_epochs': 20, 'lr_all': 0.005}\n",
        "\n",
        "# Entrenar el modelo\n",
        "model_user = SVD(**best_params_user)\n",
        "trainset_user_full = data.build_full_trainset()\n",
        "model_user.fit(trainset_user_full)\n",
        "\n",
        "# Generar predicciones\n",
        "items_unseen_by_user = trainset_user_full.build_anti_testset(fill=0)\n",
        "predictions = model_user.test(items_unseen_by_user)\n",
        "\n",
        "# Obtener las mejores recomendaciones\n",
        "top_n = 10\n",
        "recommendations = []\n",
        "for uid, iid, true_r, est, _ in predictions:\n",
        "    if uid == userId:\n",
        "        recommendations.append((iid, est))\n",
        "recommendations.sort(key=lambda x: x[1], reverse=True)\n",
        "top_movies = recommendations[:top_n]\n",
        "\n",
        "# Mostrar la película elegida aleatoriamente para el usuario\n",
        "random_movie_title = get_movie_title_from_id(random_movie_id, recomendador_mejorado)\n",
        "print(\"Película elegida aleatoriamente para el usuario\", userId, \":\")\n",
        "print(random_movie_title, \"(ID:\", random_movie_id, \")\")\n",
        "\n",
        "# Mostrar las recomendaciones para el usuario\n",
        "print(\"\\nTop 10 películas recomendadas para el usuario\", userId, \":\")\n",
        "for movie_id, estimated_rating in top_movies:\n",
        "    movie_title = get_movie_title_from_id(movie_id, recomendador_mejorado)\n",
        "    print(movie_title, \"(ID:\", movie_id, \") - Est. Rating:\", estimated_rating)\n"
      ]
    },
    {
      "cell_type": "code",
      "execution_count": null,
      "metadata": {
        "colab": {
          "base_uri": "https://localhost:8080/"
        },
        "id": "xNMAoWSOag6D",
        "outputId": "67b6522e-83c8-496c-e35d-ce4b3900ba12"
      },
      "outputs": [
        {
          "output_type": "stream",
          "name": "stdout",
          "text": [
            "<class 'pandas.core.frame.DataFrame'>\n",
            "Int64Index: 136 entries, 5 to 39458\n",
            "Data columns (total 13 columns):\n",
            " #   Column                Non-Null Count  Dtype  \n",
            "---  ------                --------------  -----  \n",
            " 0   userId                136 non-null    int64  \n",
            " 1   movieId               136 non-null    int64  \n",
            " 2   rating                136 non-null    float64\n",
            " 3   genres                136 non-null    object \n",
            " 4   vote_average          136 non-null    float64\n",
            " 5   vote_count            136 non-null    float64\n",
            " 6   popularity            136 non-null    float64\n",
            " 7   original_language     136 non-null    object \n",
            " 8   original_title        136 non-null    object \n",
            " 9   budget                136 non-null    float64\n",
            " 10  cast                  136 non-null    object \n",
            " 11  crew                  136 non-null    object \n",
            " 12  genre_avg_popularity  136 non-null    float64\n",
            "dtypes: float64(6), int64(2), object(5)\n",
            "memory usage: 14.9+ KB\n"
          ]
        }
      ],
      "source": [
        "filtered_movies.info()"
      ]
    },
    {
      "cell_type": "markdown",
      "metadata": {
        "id": "SDUuAPHrbwho"
      },
      "source": [
        "## **Manejo de excepciones**"
      ]
    },
    {
      "cell_type": "markdown",
      "metadata": {
        "id": "EftH1_VFafrr"
      },
      "source": [
        "### **Recomendador mejorado** (recomendaciones filtradas por género e idioma)"
      ]
    },
    {
      "cell_type": "code",
      "execution_count": null,
      "metadata": {
        "colab": {
          "base_uri": "https://localhost:8080/"
        },
        "id": "G9IEZrvbX9Z_",
        "outputId": "f4c877ce-3a8a-42e3-c64d-8e8aead75d4a"
      },
      "outputs": [
        {
          "output_type": "stream",
          "name": "stdout",
          "text": [
            "No hay suficientes datos para generar 10 recomendaciones.\n"
          ]
        }
      ],
      "source": [
        "import pandas as pd\n",
        "import random\n",
        "from surprise import Dataset, Reader, SVD\n",
        "from surprise.model_selection import train_test_split\n",
        "\n",
        "# Definir la función para obtener el título de la película dado su ID\n",
        "def get_movie_title_from_id(movie_id, dataframe):\n",
        "    movie_title = dataframe.loc[dataframe['movieId'] == movie_id, 'original_title'].iloc[0]\n",
        "    return movie_title\n",
        "\n",
        "# Filtrar películas por género e idioma\n",
        "def filter_movies_by_genre_and_language(movie_id, dataframe):\n",
        "    movie_genre = dataframe.loc[dataframe['movieId'] == movie_id, 'genres'].iloc[0]\n",
        "    movie_language = dataframe.loc[dataframe['movieId'] == movie_id, 'original_language'].iloc[0]\n",
        "    filtered_movies = dataframe[(dataframe['genres'] == movie_genre) & (dataframe['original_language'] == movie_language)]\n",
        "    return filtered_movies\n",
        "\n",
        "# Obtener lista de userId únicos\n",
        "unique_user_ids = recomendador_mejorado['userId'].unique()\n",
        "\n",
        "# Seleccionar aleatoriamente un userId existente\n",
        "userId = random.choice(unique_user_ids)\n",
        "\n",
        "# Filtrar DataFrame para obtener todos los movieId asociados con userId seleccionado\n",
        "movies_for_user = recomendador_mejorado.loc[recomendador_mejorado['userId'] == userId, 'movieId'].unique()\n",
        "\n",
        "# Seleccionar aleatoriamente un movieId asociado con userId seleccionado\n",
        "random_movie_id = random.choice(movies_for_user)\n",
        "\n",
        "# Filtrar películas por género e idioma\n",
        "filtered_movies = filter_movies_by_genre_and_language(random_movie_id, recomendador_mejorado)\n",
        "\n",
        "# Configurar los datos\n",
        "reader = Reader(rating_scale=(0, 5))\n",
        "data = Dataset.load_from_df(filtered_movies[['userId', 'movieId', 'rating']], reader)\n",
        "\n",
        "# Dividir los datos\n",
        "trainset_user, testset_user = train_test_split(data, test_size=0.2, random_state=42)\n",
        "\n",
        "# Definir los mejores parámetros\n",
        "best_params_user = {'n_factors': 100, 'n_epochs': 20, 'lr_all': 0.005}\n",
        "\n",
        "# Entrenar el modelo\n",
        "model_user = SVD(**best_params_user)\n",
        "trainset_user_full = data.build_full_trainset()\n",
        "model_user.fit(trainset_user_full)\n",
        "\n",
        "# Generar predicciones\n",
        "items_unseen_by_user = trainset_user_full.build_anti_testset(fill=0)\n",
        "predictions = model_user.test(items_unseen_by_user)\n",
        "\n",
        "# Obtener las mejores recomendaciones\n",
        "top_n = 10\n",
        "recommendations = []\n",
        "for uid, iid, true_r, est, _ in predictions:\n",
        "    if uid == userId:\n",
        "        recommendations.append((iid, est))\n",
        "recommendations.sort(key=lambda x: x[1], reverse=True)\n",
        "\n",
        "# Si hay menos de 10 recomendaciones, imprimir un mensaje\n",
        "if len(recommendations) < top_n:\n",
        "    print(\"No hay suficientes datos para generar 10 recomendaciones.\")\n",
        "else:\n",
        "    top_movies = recommendations[:top_n]\n",
        "    # Mostrar la película elegida aleatoriamente para el usuario\n",
        "    random_movie_title = get_movie_title_from_id(random_movie_id, recomendador_mejorado)\n",
        "    print(\"Película elegida aleatoriamente para el usuario\", userId, \":\")\n",
        "    print(random_movie_title, \"(ID:\", random_movie_id, \")\")\n",
        "\n",
        "    # Mostrar las recomendaciones para el usuario\n",
        "    print(\"\\nTop 10 películas recomendadas para el usuario\", userId, \":\")\n",
        "    for movie_id, estimated_rating in top_movies:\n",
        "        movie_title = get_movie_title_from_id(movie_id, recomendador_mejorado)\n",
        "        print(movie_title, \"(ID:\", movie_id, \") - Est. Rating:\", estimated_rating)\n"
      ]
    },
    {
      "cell_type": "code",
      "execution_count": null,
      "metadata": {
        "colab": {
          "base_uri": "https://localhost:8080/"
        },
        "id": "zat_7uCEQfsu",
        "outputId": "63ceed9e-9475-44bd-805d-4bc81bfc78f2"
      },
      "outputs": [
        {
          "output_type": "stream",
          "name": "stdout",
          "text": [
            "<class 'pandas.core.frame.DataFrame'>\n",
            "Int64Index: 37 entries, 336 to 37752\n",
            "Data columns (total 13 columns):\n",
            " #   Column                Non-Null Count  Dtype  \n",
            "---  ------                --------------  -----  \n",
            " 0   userId                37 non-null     int64  \n",
            " 1   movieId               37 non-null     int64  \n",
            " 2   rating                37 non-null     float64\n",
            " 3   genres                37 non-null     object \n",
            " 4   vote_average          37 non-null     float64\n",
            " 5   vote_count            37 non-null     float64\n",
            " 6   popularity            37 non-null     float64\n",
            " 7   original_language     37 non-null     object \n",
            " 8   original_title        37 non-null     object \n",
            " 9   budget                37 non-null     float64\n",
            " 10  cast                  37 non-null     object \n",
            " 11  crew                  37 non-null     object \n",
            " 12  genre_avg_popularity  37 non-null     float64\n",
            "dtypes: float64(6), int64(2), object(5)\n",
            "memory usage: 4.0+ KB\n"
          ]
        }
      ],
      "source": [
        "filtered_movies.info()"
      ]
    },
    {
      "cell_type": "markdown",
      "metadata": {
        "id": "HHDxgmNxRZgA"
      },
      "source": [
        "Parece que el **filtro que hemos aplicado a las películas basado en el género e idioma** ha resultado en un conjunto muy pequeño de películas disponibles para el usuario seleccionado por lo que no ofrece recomendaciones."
      ]
    },
    {
      "cell_type": "markdown",
      "metadata": {
        "id": "982QTW97bfRZ"
      },
      "source": [
        "### **Recomendador mejorado** (recomendaciones filtradas solo por género)"
      ]
    },
    {
      "cell_type": "code",
      "execution_count": null,
      "metadata": {
        "colab": {
          "base_uri": "https://localhost:8080/"
        },
        "id": "IinUjc0iYszx",
        "outputId": "87d9c4b5-f30b-49bd-d402-d2c7075fdc42"
      },
      "outputs": [
        {
          "output_type": "stream",
          "name": "stdout",
          "text": [
            "No hay suficientes datos para generar 10 recomendaciones.\n"
          ]
        }
      ],
      "source": [
        "import pandas as pd\n",
        "import random\n",
        "from surprise import Dataset, Reader, SVD\n",
        "from surprise.model_selection import train_test_split\n",
        "\n",
        "# Definir la función para obtener el título de la película dado su ID\n",
        "def get_movie_title_from_id(movie_id, dataframe):\n",
        "    movie_title = dataframe.loc[dataframe['movieId'] == movie_id, 'original_title'].iloc[0]\n",
        "    return movie_title\n",
        "\n",
        "# Filtrar películas solo por género\n",
        "def filter_movies_by_genre(movie_id, dataframe):\n",
        "    movie_genre = dataframe.loc[dataframe['movieId'] == movie_id, 'genres'].iloc[0]\n",
        "    filtered_movies = dataframe[dataframe['genres'] == movie_genre]\n",
        "    return filtered_movies\n",
        "\n",
        "# Obtener lista de userId únicos\n",
        "unique_user_ids = recomendador_mejorado['userId'].unique()\n",
        "\n",
        "# Seleccionar aleatoriamente un userId existente\n",
        "userId = random.choice(unique_user_ids)\n",
        "\n",
        "# Filtrar DataFrame para obtener todos los movieId asociados con userId seleccionado\n",
        "movies_for_user = recomendador_mejorado.loc[recomendador_mejorado['userId'] == userId, 'movieId'].unique()\n",
        "\n",
        "# Seleccionar aleatoriamente un movieId asociado con userId seleccionado\n",
        "random_movie_id = random.choice(movies_for_user)\n",
        "\n",
        "# Filtrar películas solo por género\n",
        "filtered_movies = filter_movies_by_genre(random_movie_id, recomendador_mejorado)\n",
        "\n",
        "# Configurar los datos\n",
        "reader = Reader(rating_scale=(0, 5))\n",
        "data = Dataset.load_from_df(filtered_movies[['userId', 'movieId', 'rating']], reader)\n",
        "\n",
        "# Dividir los datos\n",
        "trainset_user, testset_user = train_test_split(data, test_size=0.2, random_state=42)\n",
        "\n",
        "# Definir los mejores parámetros\n",
        "best_params_user = {'n_factors': 100, 'n_epochs': 20, 'lr_all': 0.005}\n",
        "\n",
        "# Entrenar el modelo\n",
        "model_user = SVD(**best_params_user)\n",
        "trainset_user_full = data.build_full_trainset()\n",
        "model_user.fit(trainset_user_full)\n",
        "\n",
        "# Generar predicciones\n",
        "items_unseen_by_user = trainset_user_full.build_anti_testset(fill=0)\n",
        "predictions = model_user.test(items_unseen_by_user)\n",
        "\n",
        "# Obtener las mejores recomendaciones\n",
        "top_n = 10\n",
        "recommendations = []\n",
        "for uid, iid, true_r, est, _ in predictions:\n",
        "    if uid == userId:\n",
        "        recommendations.append((iid, est))\n",
        "recommendations.sort(key=lambda x: x[1], reverse=True)\n",
        "\n",
        "# Si hay menos de 10 recomendaciones, imprimir un mensaje\n",
        "if len(recommendations) < top_n:\n",
        "    print(\"No hay suficientes datos para generar 10 recomendaciones.\")\n",
        "else:\n",
        "    top_movies = recommendations[:top_n]\n",
        "    # Mostrar la película elegida aleatoriamente para el usuario\n",
        "    random_movie_title = get_movie_title_from_id(random_movie_id, recomendador_mejorado)\n",
        "    print(\"Película elegida aleatoriamente para el usuario\", userId, \":\")\n",
        "    print(random_movie_title, \"(ID:\", random_movie_id, \")\")\n",
        "\n",
        "    # Mostrar las recomendaciones para el usuario\n",
        "    print(\"\\nTop 10 películas recomendadas para el usuario\", userId, \":\")\n",
        "    for movie_id, estimated_rating in top_movies:\n",
        "        movie_title = get_movie_title_from_id(movie_id, recomendador_mejorado)\n",
        "        print(movie_title, \"(ID:\", movie_id, \") - Est. Rating:\", estimated_rating)\n"
      ]
    },
    {
      "cell_type": "code",
      "execution_count": null,
      "metadata": {
        "colab": {
          "base_uri": "https://localhost:8080/"
        },
        "id": "x0dXELfWZDPY",
        "outputId": "87055768-c34e-46a6-bf4d-d68a0ab95aba"
      },
      "outputs": [
        {
          "output_type": "stream",
          "name": "stdout",
          "text": [
            "<class 'pandas.core.frame.DataFrame'>\n",
            "Int64Index: 5 entries, 81 to 14929\n",
            "Data columns (total 13 columns):\n",
            " #   Column                Non-Null Count  Dtype  \n",
            "---  ------                --------------  -----  \n",
            " 0   userId                5 non-null      int64  \n",
            " 1   movieId               5 non-null      int64  \n",
            " 2   rating                5 non-null      float64\n",
            " 3   genres                5 non-null      object \n",
            " 4   vote_average          5 non-null      float64\n",
            " 5   vote_count            5 non-null      float64\n",
            " 6   popularity            5 non-null      float64\n",
            " 7   original_language     5 non-null      object \n",
            " 8   original_title        5 non-null      object \n",
            " 9   budget                5 non-null      float64\n",
            " 10  cast                  5 non-null      object \n",
            " 11  crew                  5 non-null      object \n",
            " 12  genre_avg_popularity  5 non-null      float64\n",
            "dtypes: float64(6), int64(2), object(5)\n",
            "memory usage: 560.0+ bytes\n"
          ]
        }
      ],
      "source": [
        "filtered_movies.info()"
      ]
    },
    {
      "cell_type": "markdown",
      "metadata": {
        "id": "wnm9RhfDZ0yT"
      },
      "source": [
        "### **Recomendador mejorado** (recomendaciones filtradas por los primeros 3 géneros)\n"
      ]
    },
    {
      "cell_type": "code",
      "execution_count": null,
      "metadata": {
        "colab": {
          "base_uri": "https://localhost:8080/"
        },
        "id": "-LZERwmBZzx0",
        "outputId": "6cad5437-c62f-4720-a8e2-8b5388622f04"
      },
      "outputs": [
        {
          "output_type": "stream",
          "name": "stdout",
          "text": [
            "Película elegida aleatoriamente para el usuario 40348 :\n",
            "Paradise Found (ID: 296 )\n",
            "\n",
            "Top 10 películas recomendadas para el usuario 40348 :\n",
            "অপরাজিত (ID: 2858 ) - Est. Rating: 4.598467854337684\n",
            "Letter from an Unknown Woman (ID: 527 ) - Est. Rating: 4.575573565449558\n",
            "Erbsen auf halb 6 (ID: 2028 ) - Est. Rating: 4.522199089153853\n",
            "A Bridge Too Far (ID: 750 ) - Est. Rating: 4.474941488581944\n",
            "All Quiet on the Western Front (ID: 858 ) - Est. Rating: 4.448460257148331\n",
            "Predator (ID: 47 ) - Est. Rating: 4.445529696111147\n",
            "Shortbus (ID: 7153 ) - Est. Rating: 4.441760048979305\n",
            "The Wedding Date (ID: 924 ) - Est. Rating: 4.434970017056522\n",
            "A Mighty Heart (ID: 364 ) - Est. Rating: 4.421677883885178\n",
            "American Beauty (ID: 293 ) - Est. Rating: 4.414720665612346\n"
          ]
        }
      ],
      "source": [
        "import pandas as pd\n",
        "import random\n",
        "from surprise import Dataset, Reader, SVD\n",
        "from surprise.model_selection import train_test_split\n",
        "\n",
        "# Definir la función para obtener el título de la película dado su ID\n",
        "def get_movie_title_from_id(movie_id, dataframe):\n",
        "    movie_title = dataframe.loc[dataframe['movieId'] == movie_id, 'original_title'].iloc[0]\n",
        "    return movie_title\n",
        "\n",
        "# Filtrar películas por género\n",
        "def filter_movies_by_genre(movie_id, dataframe, num_genres=3):\n",
        "    movie_genres = dataframe.loc[dataframe['movieId'] == movie_id, 'genres'].iloc[0]\n",
        "    movie_genres = movie_genres.split('|')  # Separar los géneros por '|'\n",
        "    filtered_movies = dataframe[dataframe['genres'].str.contains('|'.join(movie_genres[:num_genres]))]\n",
        "    return filtered_movies\n",
        "\n",
        "# Obtener lista de userId únicos\n",
        "unique_user_ids = recomendador_mejorado['userId'].unique()\n",
        "\n",
        "# Seleccionar aleatoriamente un userId existente\n",
        "userId = random.choice(unique_user_ids)\n",
        "\n",
        "# Filtrar DataFrame para obtener todos los movieId asociados con userId seleccionado\n",
        "movies_for_user = recomendador_mejorado.loc[recomendador_mejorado['userId'] == userId, 'movieId'].unique()\n",
        "\n",
        "# Seleccionar aleatoriamente un movieId asociado con userId seleccionado\n",
        "random_movie_id = random.choice(movies_for_user)\n",
        "\n",
        "# Filtrar películas por género\n",
        "filtered_movies = filter_movies_by_genre(random_movie_id, recomendador_mejorado, num_genres=3)\n",
        "\n",
        "# Configurar los datos\n",
        "reader = Reader(rating_scale=(0, 5))\n",
        "data = Dataset.load_from_df(filtered_movies[['userId', 'movieId', 'rating']], reader)\n",
        "\n",
        "# Dividir los datos\n",
        "trainset_user, testset_user = train_test_split(data, test_size=0.2, random_state=42)\n",
        "\n",
        "# Definir los mejores parámetros\n",
        "best_params_user = {'n_factors': 100, 'n_epochs': 20, 'lr_all': 0.005}\n",
        "\n",
        "# Entrenar el modelo\n",
        "model_user = SVD(**best_params_user)\n",
        "trainset_user_full = data.build_full_trainset()\n",
        "model_user.fit(trainset_user_full)\n",
        "\n",
        "# Generar predicciones\n",
        "items_unseen_by_user = trainset_user_full.build_anti_testset(fill=0)\n",
        "predictions = model_user.test(items_unseen_by_user)\n",
        "\n",
        "# Obtener las mejores recomendaciones\n",
        "top_n = 10\n",
        "recommendations = []\n",
        "for uid, iid, true_r, est, _ in predictions:\n",
        "    if uid == userId:\n",
        "        recommendations.append((iid, est))\n",
        "recommendations.sort(key=lambda x: x[1], reverse=True)\n",
        "\n",
        "# Si hay menos de 10 recomendaciones, imprimir un mensaje\n",
        "if len(recommendations) < top_n:\n",
        "    print(\"No hay suficientes datos para generar 10 recomendaciones.\")\n",
        "else:\n",
        "    top_movies = recommendations[:top_n]\n",
        "    # Mostrar la película elegida aleatoriamente para el usuario\n",
        "    random_movie_title = get_movie_title_from_id(random_movie_id, recomendador_mejorado)\n",
        "    print(\"Película elegida aleatoriamente para el usuario\", userId, \":\")\n",
        "    print(random_movie_title, \"(ID:\", random_movie_id, \")\")\n",
        "\n",
        "    # Mostrar las recomendaciones para el usuario\n",
        "    print(\"\\nTop 10 películas recomendadas para el usuario\", userId, \":\")\n",
        "    for movie_id, estimated_rating in top_movies:\n",
        "        movie_title = get_movie_title_from_id(movie_id, recomendador_mejorado)\n",
        "        print(movie_title, \"(ID:\", movie_id, \") - Est. Rating:\", estimated_rating)\n"
      ]
    },
    {
      "cell_type": "code",
      "execution_count": null,
      "metadata": {
        "colab": {
          "base_uri": "https://localhost:8080/"
        },
        "id": "uYV4q8XvaHnT",
        "outputId": "ac13247e-fd74-4560-bfb9-1dd57129eb1f"
      },
      "outputs": [
        {
          "output_type": "stream",
          "name": "stdout",
          "text": [
            "<class 'pandas.core.frame.DataFrame'>\n",
            "Int64Index: 37567 entries, 0 to 39546\n",
            "Data columns (total 13 columns):\n",
            " #   Column                Non-Null Count  Dtype  \n",
            "---  ------                --------------  -----  \n",
            " 0   userId                37567 non-null  int64  \n",
            " 1   movieId               37567 non-null  int64  \n",
            " 2   rating                37567 non-null  float64\n",
            " 3   genres                37567 non-null  object \n",
            " 4   vote_average          37567 non-null  float64\n",
            " 5   vote_count            37567 non-null  float64\n",
            " 6   popularity            37567 non-null  float64\n",
            " 7   original_language     37567 non-null  object \n",
            " 8   original_title        37567 non-null  object \n",
            " 9   budget                37567 non-null  float64\n",
            " 10  cast                  37567 non-null  object \n",
            " 11  crew                  37567 non-null  object \n",
            " 12  genre_avg_popularity  37567 non-null  float64\n",
            "dtypes: float64(6), int64(2), object(5)\n",
            "memory usage: 4.0+ MB\n"
          ]
        }
      ],
      "source": [
        "filtered_movies.info()"
      ]
    },
    {
      "cell_type": "markdown",
      "metadata": {
        "id": "qtFjbsyhgKqu"
      },
      "source": [
        "### **Recomendador mejorado** (recomendaciones filtradas por los primeros 3 géneros y por idioma)."
      ]
    },
    {
      "cell_type": "code",
      "execution_count": null,
      "metadata": {
        "id": "rdtp40GOgH23",
        "colab": {
          "base_uri": "https://localhost:8080/"
        },
        "outputId": "f691aa9c-5d7c-48ef-882f-f458b0777021"
      },
      "outputs": [
        {
          "output_type": "stream",
          "name": "stdout",
          "text": [
            "Película elegida aleatoriamente para el usuario 88496 :\n",
            "To Be or Not to Be (ID: 19 )\n",
            "\n",
            "Top 10 películas recomendadas para el usuario 88496 :\n",
            "Donnie Darko (ID: 318 ) - Est. Rating: 4.664932805521764\n",
            "All Quiet on the Western Front (ID: 858 ) - Est. Rating: 4.528454571154251\n",
            "A Bridge Too Far (ID: 750 ) - Est. Rating: 4.483385749553343\n",
            "風の谷のナウシカ (ID: 260 ) - Est. Rating: 4.463208222244964\n",
            "অপরাজিত (ID: 2858 ) - Est. Rating: 4.460560847975445\n",
            "The Wedding Date (ID: 924 ) - Est. Rating: 4.456398218731959\n",
            "Erbsen auf halb 6 (ID: 2028 ) - Est. Rating: 4.43466394920888\n",
            "A Mighty Heart (ID: 364 ) - Est. Rating: 4.417302321621682\n",
            "Paradise Found (ID: 296 ) - Est. Rating: 4.401625480123402\n",
            "Shortbus (ID: 7153 ) - Est. Rating: 4.396995597774113\n"
          ]
        }
      ],
      "source": [
        "import pandas as pd\n",
        "import random\n",
        "from surprise import Dataset, Reader, SVD\n",
        "from surprise.model_selection import train_test_split\n",
        "\n",
        "# Definir la función para obtener el título de la película dado su ID\n",
        "def get_movie_title_from_id(movie_id, dataframe):\n",
        "    movie_title = dataframe.loc[dataframe['movieId'] == movie_id, 'original_title'].iloc[0]\n",
        "    return movie_title\n",
        "\n",
        "# Filtrar películas por género e idioma\n",
        "def filter_movies_by_genre_and_language(movie_id, dataframe):\n",
        "    # Obtener los tres primeros géneros de la película\n",
        "    movie_genres = dataframe.loc[dataframe['movieId'] == movie_id, 'genres'].iloc[0].split('|')[:3]\n",
        "    movie_language = dataframe.loc[dataframe['movieId'] == movie_id, 'original_language'].iloc[0]\n",
        "\n",
        "    # Filtrar películas por género e idioma\n",
        "    filtered_movies = dataframe[dataframe['original_language'] == movie_language]\n",
        "    for genre in movie_genres:\n",
        "        filtered_movies = filtered_movies[filtered_movies['genres'].str.contains(genre)]\n",
        "\n",
        "    return filtered_movies\n",
        "\n",
        "# Obtener lista de userId únicos\n",
        "unique_user_ids = recomendador_mejorado['userId'].unique()\n",
        "\n",
        "# Seleccionar aleatoriamente un userId existente\n",
        "userId = random.choice(unique_user_ids)\n",
        "\n",
        "# Filtrar DataFrame para obtener todos los movieId asociados con userId seleccionado\n",
        "movies_for_user = recomendador_mejorado.loc[recomendador_mejorado['userId'] == userId, 'movieId'].unique()\n",
        "\n",
        "# Seleccionar aleatoriamente un movieId asociado con userId seleccionado\n",
        "random_movie_id = random.choice(movies_for_user)\n",
        "\n",
        "# Filtrar películas por género e idioma\n",
        "filtered_movies = filter_movies_by_genre_and_language(random_movie_id, recomendador_mejorado)\n",
        "\n",
        "# Si no hay suficientes datos, imprimir un mensaje y salir del script\n",
        "if len(filtered_movies) < 10:\n",
        "    print(\"No hay suficientes datos para generar 10 recomendaciones.\")\n",
        "    exit()\n",
        "\n",
        "# Configurar los datos\n",
        "reader = Reader(rating_scale=(0, 5))\n",
        "data = Dataset.load_from_df(filtered_movies[['userId', 'movieId', 'rating']], reader)\n",
        "\n",
        "# Dividir los datos\n",
        "trainset_user, testset_user = train_test_split(data, test_size=0.2, random_state=42)\n",
        "\n",
        "# Definir los mejores parámetros\n",
        "best_params_user = {'n_factors': 100, 'n_epochs': 20, 'lr_all': 0.005}\n",
        "\n",
        "# Entrenar el modelo\n",
        "model_user = SVD(**best_params_user)\n",
        "trainset_user_full = data.build_full_trainset()\n",
        "model_user.fit(trainset_user_full)\n",
        "\n",
        "# Generar predicciones\n",
        "items_unseen_by_user = trainset_user_full.build_anti_testset(fill=0)\n",
        "predictions = model_user.test(items_unseen_by_user)\n",
        "\n",
        "# Obtener las mejores recomendaciones\n",
        "top_n = 10\n",
        "recommendations = []\n",
        "for uid, iid, true_r, est, _ in predictions:\n",
        "    if uid == userId:\n",
        "        recommendations.append((iid, est))\n",
        "recommendations.sort(key=lambda x: x[1], reverse=True)\n",
        "\n",
        "# Si hay menos de 10 recomendaciones, imprimir un mensaje\n",
        "if len(recommendations) < top_n:\n",
        "    print(\"No hay suficientes datos para generar 10 recomendaciones.\")\n",
        "else:\n",
        "    top_movies = recommendations[:top_n]\n",
        "    # Mostrar la película elegida aleatoriamente para el usuario\n",
        "    random_movie_title = get_movie_title_from_id(random_movie_id, recomendador_mejorado)\n",
        "    print(\"Película elegida aleatoriamente para el usuario\", userId, \":\")\n",
        "    print(random_movie_title, \"(ID:\", random_movie_id, \")\")\n",
        "\n",
        "    # Mostrar las recomendaciones para el usuario\n",
        "    print(\"\\nTop 10 películas recomendadas para el usuario\", userId, \":\")\n",
        "    for movie_id, estimated_rating in top_movies:\n",
        "        movie_title = get_movie_title_from_id(movie_id, recomendador_mejorado)\n",
        "        print(movie_title, \"(ID:\", movie_id, \") - Est. Rating:\", estimated_rating)\n"
      ]
    },
    {
      "cell_type": "code",
      "execution_count": null,
      "metadata": {
        "id": "huhVIRYRgW1v",
        "colab": {
          "base_uri": "https://localhost:8080/"
        },
        "outputId": "3eb601dc-9b38-4294-8bad-9a3e35b9fffc"
      },
      "outputs": [
        {
          "output_type": "stream",
          "name": "stdout",
          "text": [
            "<class 'pandas.core.frame.DataFrame'>\n",
            "Int64Index: 26961 entries, 2 to 39545\n",
            "Data columns (total 13 columns):\n",
            " #   Column                Non-Null Count  Dtype  \n",
            "---  ------                --------------  -----  \n",
            " 0   userId                26961 non-null  int64  \n",
            " 1   movieId               26961 non-null  int64  \n",
            " 2   rating                26961 non-null  float64\n",
            " 3   genres                26961 non-null  object \n",
            " 4   vote_average          26961 non-null  float64\n",
            " 5   vote_count            26961 non-null  float64\n",
            " 6   popularity            26961 non-null  float64\n",
            " 7   original_language     26961 non-null  object \n",
            " 8   original_title        26961 non-null  object \n",
            " 9   budget                26961 non-null  float64\n",
            " 10  cast                  26961 non-null  object \n",
            " 11  crew                  26961 non-null  object \n",
            " 12  genre_avg_popularity  26961 non-null  float64\n",
            "dtypes: float64(6), int64(2), object(5)\n",
            "memory usage: 2.9+ MB\n"
          ]
        }
      ],
      "source": [
        "filtered_movies.info()"
      ]
    },
    {
      "cell_type": "markdown",
      "source": [
        "En el siguiente paso mejoraremos el filtrado por idioma."
      ],
      "metadata": {
        "id": "saZus7ls6yQZ"
      }
    },
    {
      "cell_type": "markdown",
      "source": [
        "### **Recomendador mejorado** con la característica **genre_avg_popularity** obtenida por **Feature Engineering**\n",
        "(filtrado por genres, original_language, genre_avg_popularity)"
      ],
      "metadata": {
        "id": "7C5b66n9rYDS"
      }
    },
    {
      "cell_type": "code",
      "source": [
        "import pandas as pd\n",
        "import random\n",
        "from surprise import Dataset, Reader, SVD\n",
        "from surprise.model_selection import train_test_split\n",
        "from sklearn.metrics import mean_squared_error\n",
        "\n",
        "# Definir la función para obtener el título de la película dado su ID\n",
        "def get_movie_title_from_id(movie_id, dataframe):\n",
        "    movie_title = dataframe.loc[dataframe['movieId'] == movie_id, 'original_title'].iloc[0]\n",
        "    return movie_title\n",
        "\n",
        "# Filtrar películas por género e idioma, dando preferencia al género con mayor genre_avg_popularity\n",
        "def filter_movies_by_genre_language_and_popularity(movie_id, dataframe):\n",
        "    # Obtener los géneros de la película seleccionada\n",
        "    movie_genres = dataframe.loc[dataframe['movieId'] == movie_id, 'genres'].iloc[0].split('|')\n",
        "\n",
        "    # Ordenar los géneros según su genre_avg_popularity\n",
        "    movie_genres.sort(key=lambda genre: dataframe[dataframe['genres'].str.contains(genre)]['genre_avg_popularity'].mean(), reverse=True)\n",
        "\n",
        "    # Filtrar películas por género e idioma, dando prioridad al género con mayor genre_avg_popularity\n",
        "    filtered_movies = dataframe[dataframe['genres'].str.contains('|'.join(movie_genres))]\n",
        "    movie_language = dataframe.loc[dataframe['movieId'] == movie_id, 'original_language'].iloc[0]\n",
        "    filtered_movies = filtered_movies[filtered_movies['original_language'] == movie_language]\n",
        "\n",
        "    return filtered_movies\n",
        "\n",
        "# Obtener lista de userId únicos\n",
        "unique_user_ids = recomendador_mejorado['userId'].unique()\n",
        "\n",
        "# Seleccionar aleatoriamente un userId existente\n",
        "userId = random.choice(unique_user_ids)\n",
        "\n",
        "# Filtrar DataFrame para obtener todos los movieId asociados con userId seleccionado\n",
        "movies_for_user = recomendador_mejorado.loc[recomendador_mejorado['userId'] == userId, 'movieId'].unique()\n",
        "\n",
        "# Seleccionar aleatoriamente un movieId asociado con userId seleccionado\n",
        "random_movie_id = random.choice(movies_for_user)\n",
        "\n",
        "# Filtrar películas por género, idioma, dando preferencia al género con mayor genre_avg_popularity\n",
        "filtered_movies = filter_movies_by_genre_language_and_popularity(random_movie_id, recomendador_mejorado)\n",
        "\n",
        "# Si no hay suficientes datos, imprimir un mensaje y salir del script\n",
        "if len(filtered_movies) < 10:\n",
        "    print(\"No hay suficientes datos para generar 10 recomendaciones.\")\n",
        "    exit()\n",
        "\n",
        "# Configurar los datos para el modelo\n",
        "reader = Reader(rating_scale=(0, 5))\n",
        "data = Dataset.load_from_df(filtered_movies[['userId', 'movieId', 'rating']], reader)\n",
        "\n",
        "# Dividir los datos en conjuntos de entrenamiento y prueba\n",
        "trainset_user, testset_user = train_test_split(data, test_size=0.2, random_state=42)\n",
        "\n",
        "# Definir los mejores parámetros para el modelo\n",
        "best_params_user = {'n_factors': 100, 'n_epochs': 20, 'lr_all': 0.005}\n",
        "\n",
        "# Entrenar el modelo\n",
        "model_user = SVD(**best_params_user)\n",
        "model_user.fit(trainset_user)\n",
        "\n",
        "# Generar predicciones solo para el conjunto de prueba\n",
        "predictions = model_user.test(testset_user)\n",
        "\n",
        "# Obtener las verdaderas calificaciones del conjunto de prueba\n",
        "true_ratings = [rating for (_, _, rating) in testset_user]\n",
        "\n",
        "# Filtrar las predicciones para que coincidan con las películas en el conjunto de prueba\n",
        "predicted_ratings = [pred.est for pred in predictions]\n",
        "\n",
        "# Calcular el error cuadrático medio (MSE)\n",
        "mse = mean_squared_error(true_ratings, predicted_ratings)\n",
        "print(\"Mean Squared Error (MSE):\", mse)\n",
        "\n",
        "# Obtener las mejores recomendaciones, evitando duplicados y excluyendo películas con Est. Rating por debajo de 4\n",
        "recommendations = []\n",
        "for pred in sorted(predictions, key=lambda x: x.est, reverse=True):\n",
        "    if pred.est >= 4 and pred.iid not in [r[0] for r in recommendations]:\n",
        "        movie_language = recomendador_mejorado.loc[recomendador_mejorado['movieId'] == pred.iid, 'original_language'].iloc[0]\n",
        "        if movie_language == filtered_movies['original_language'].iloc[0]:  # Verificar que la película esté en el mismo idioma que la película aleatoria\n",
        "            recommendations.append((pred.iid, pred.est))\n",
        "\n",
        "# Mostrar la película elegida aleatoriamente para el usuario\n",
        "random_movie_title = get_movie_title_from_id(random_movie_id, recomendador_mejorado)\n",
        "print(\"Película elegida aleatoriamente para el usuario\", userId, \":\")\n",
        "print(random_movie_title, \"(ID:\", random_movie_id, \")\")\n",
        "\n",
        "# Mostrar las recomendaciones para el usuario\n",
        "print(\"\\nTop 10 películas recomendadas para el usuario\", userId, \":\")\n",
        "\n",
        "# Mostrar recomendaciones si están disponibles, de lo contrario, mostrar un mensaje adecuado\n",
        "if len(recommendations) == 0:\n",
        "    print(\"Por el momento no hay recomendaciones disponibles para la película seleccionada.\")\n",
        "elif len(recommendations) < 10:\n",
        "    for movie_id, estimated_rating in recommendations:\n",
        "        movie_title = get_movie_title_from_id(movie_id, recomendador_mejorado)\n",
        "        print(movie_title, \"(ID:\", movie_id, \") - Est. Rating:\", estimated_rating)\n",
        "    print(\"Por el momento no se dispone de más recomendaciones para la película seleccionada.\")\n",
        "else:\n",
        "    for movie_id, estimated_rating in recommendations[:10]:\n",
        "        movie_title = get_movie_title_from_id(movie_id, recomendador_mejorado)\n",
        "        print(movie_title, \"(ID:\", movie_id, \") - Est. Rating:\", estimated_rating)\n"
      ],
      "metadata": {
        "colab": {
          "base_uri": "https://localhost:8080/"
        },
        "id": "XxJMHbHFm849",
        "outputId": "4e9b01f1-4a55-4804-8d0f-da2a192fe127"
      },
      "execution_count": null,
      "outputs": [
        {
          "output_type": "stream",
          "name": "stdout",
          "text": [
            "Mean Squared Error (MSE): 1.0114534246104812\n",
            "Película elegida aleatoriamente para el usuario 36704 :\n",
            "In Society (ID: 3254 )\n",
            "\n",
            "Top 10 películas recomendadas para el usuario 36704 :\n",
            "Donnie Darko (ID: 318 ) - Est. Rating: 4.409054336713283\n",
            "American Beauty (ID: 293 ) - Est. Rating: 4.288595092763552\n",
            "All Quiet on the Western Front (ID: 858 ) - Est. Rating: 4.286190881418284\n",
            "Apocalypse Now (ID: 50 ) - Est. Rating: 4.252561613642438\n",
            "Faster, Pussycat! Kill! Kill! (ID: 593 ) - Est. Rating: 4.2341502051027415\n",
            "Letter from an Unknown Woman (ID: 527 ) - Est. Rating: 4.214168846711429\n",
            "A Mighty Heart (ID: 364 ) - Est. Rating: 4.201515736739929\n",
            "The Bunker (ID: 1197 ) - Est. Rating: 4.197932244704453\n",
            "Lucky Number Slevin (ID: 215 ) - Est. Rating: 4.1813143417075915\n",
            "Paradise Found (ID: 296 ) - Est. Rating: 4.147652303036306\n"
          ]
        }
      ]
    },
    {
      "cell_type": "code",
      "source": [
        "filtered_movies.info()"
      ],
      "metadata": {
        "colab": {
          "base_uri": "https://localhost:8080/"
        },
        "id": "j_HjAr5wjBfT",
        "outputId": "7c0468bd-eea0-476b-ad2c-96853a1c62fb"
      },
      "execution_count": null,
      "outputs": [
        {
          "output_type": "stream",
          "name": "stdout",
          "text": [
            "<class 'pandas.core.frame.DataFrame'>\n",
            "Int64Index: 26961 entries, 2 to 39545\n",
            "Data columns (total 13 columns):\n",
            " #   Column                Non-Null Count  Dtype  \n",
            "---  ------                --------------  -----  \n",
            " 0   userId                26961 non-null  int64  \n",
            " 1   movieId               26961 non-null  int64  \n",
            " 2   rating                26961 non-null  float64\n",
            " 3   genres                26961 non-null  object \n",
            " 4   vote_average          26961 non-null  float64\n",
            " 5   vote_count            26961 non-null  float64\n",
            " 6   popularity            26961 non-null  float64\n",
            " 7   original_language     26961 non-null  object \n",
            " 8   original_title        26961 non-null  object \n",
            " 9   budget                26961 non-null  float64\n",
            " 10  cast                  26961 non-null  object \n",
            " 11  crew                  26961 non-null  object \n",
            " 12  genre_avg_popularity  26961 non-null  float64\n",
            "dtypes: float64(6), int64(2), object(5)\n",
            "memory usage: 2.9+ MB\n"
          ]
        }
      ]
    },
    {
      "cell_type": "markdown",
      "source": [
        "En este caso, seleccionamos una película aleatoria que el usuario haya visto y luego filtramos las películas del conjunto de datos basadas en género, idioma y popularidad promedio del género, dando prioridad al género con mayor popularidad promedio (**`genre_avg_popularity`**).\n",
        "\n",
        "Esto ayuda a personalizar las recomendaciones y a mejorar la probabilidad de que al usuario le gusten las películas sugeridas."
      ],
      "metadata": {
        "id": "r1weCWnJ1GYW"
      }
    },
    {
      "cell_type": "markdown",
      "source": [
        "### **Recomendador mejorado** (budget y vote_average)\n",
        "(filtrado por genres, original_language, genre_avg_popularity, budget y vote_average)"
      ],
      "metadata": {
        "id": "cLrhaEejrj4u"
      }
    },
    {
      "cell_type": "code",
      "source": [
        "import pandas as pd\n",
        "import random\n",
        "from surprise import Dataset, Reader, SVD\n",
        "from surprise.model_selection import train_test_split\n",
        "from sklearn.metrics import mean_squared_error\n",
        "\n",
        "# Definir la función para obtener el título de la película dado su ID\n",
        "def get_movie_title_from_id(movie_id, dataframe):\n",
        "    movie_title = dataframe.loc[dataframe['movieId'] == movie_id, 'original_title'].iloc[0]\n",
        "    return movie_title\n",
        "\n",
        "# Filtrar películas por género e idioma, dando preferencia al género con mayor genre_avg_popularity\n",
        "def filter_movies_by_genre_language_and_popularity(movie_id, dataframe):\n",
        "    # Obtener los géneros de la película seleccionada\n",
        "    movie_genres = dataframe.loc[dataframe['movieId'] == movie_id, 'genres'].iloc[0].split('|')\n",
        "\n",
        "    # Ordenar los géneros según su genre_avg_popularity\n",
        "    movie_genres.sort(key=lambda genre: dataframe[dataframe['genres'].str.contains(genre)]['genre_avg_popularity'].mean(), reverse=True)\n",
        "\n",
        "    # Filtrar películas por género e idioma, dando prioridad al género con mayor genre_avg_popularity\n",
        "    filtered_movies = dataframe[dataframe['genres'].str.contains('|'.join(movie_genres))]\n",
        "    movie_language = dataframe.loc[dataframe['movieId'] == movie_id, 'original_language'].iloc[0]\n",
        "    filtered_movies = filtered_movies[filtered_movies['original_language'] == movie_language]\n",
        "\n",
        "    return filtered_movies\n",
        "\n",
        "# Obtener lista de userId únicos\n",
        "unique_user_ids = recomendador_mejorado['userId'].unique()\n",
        "\n",
        "# Seleccionar aleatoriamente un userId existente\n",
        "userId = random.choice(unique_user_ids)\n",
        "\n",
        "# Filtrar DataFrame para obtener todos los movieId asociados con userId seleccionado\n",
        "movies_for_user = recomendador_mejorado.loc[recomendador_mejorado['userId'] == userId, 'movieId'].unique()\n",
        "\n",
        "# Seleccionar aleatoriamente un movieId asociado con userId seleccionado\n",
        "random_movie_id = random.choice(movies_for_user)\n",
        "\n",
        "# Obtener el idioma original de la película seleccionada aleatoriamente\n",
        "original_language = recomendador_mejorado.loc[recomendador_mejorado['movieId'] == random_movie_id, 'original_language'].iloc[0]\n",
        "\n",
        "# Filtrar películas por género, idioma, dando preferencia al género con mayor genre_avg_popularity\n",
        "filtered_movies = filter_movies_by_genre_language_and_popularity(random_movie_id, recomendador_mejorado)\n",
        "\n",
        "# Si no hay suficientes datos, imprimir un mensaje y mostrar las recomendaciones disponibles\n",
        "if len(filtered_movies) < 10:\n",
        "    print(\"Por el momento no hay suficientes películas disponibles en el mismo idioma para generar 10 recomendaciones.\")\n",
        "    print(\"Recomendaciones disponibles:\")\n",
        "    for movie_id in filtered_movies['movieId']:\n",
        "        movie_title = get_movie_title_from_id(movie_id, recomendador_mejorado)\n",
        "        print(movie_title)\n",
        "    exit()\n",
        "\n",
        "# Configurar los datos para el modelo\n",
        "reader = Reader(rating_scale=(0, 5))\n",
        "data = Dataset.load_from_df(filtered_movies[['userId', 'movieId', 'rating']], reader)\n",
        "\n",
        "# Dividir los datos en conjuntos de entrenamiento y prueba\n",
        "trainset_user, testset_user = train_test_split(data, test_size=0.2, random_state=42)\n",
        "\n",
        "# Definir los mejores parámetros para el modelo\n",
        "best_params_user = {'n_factors': 100, 'n_epochs': 20, 'lr_all': 0.005}\n",
        "\n",
        "# Entrenar el modelo\n",
        "model_user = SVD(**best_params_user)\n",
        "model_user.fit(trainset_user)\n",
        "\n",
        "# Generar predicciones para todo el conjunto de datos\n",
        "predictions = model_user.test(data.build_full_trainset().build_testset())\n",
        "\n",
        "# Obtener las verdaderas calificaciones\n",
        "true_ratings = [rating for (_, _, rating) in data.build_full_trainset().build_testset()]\n",
        "\n",
        "# Calcular el error cuadrático medio (MSE)\n",
        "mse = mean_squared_error(true_ratings, [pred.est for pred in predictions])\n",
        "print(\"Mean Squared Error (MSE):\", mse)\n",
        "\n",
        "# Obtener las mejores recomendaciones, evitando duplicados y la película elegida aleatoriamente\n",
        "recommendations = []\n",
        "for pred in sorted(predictions, key=lambda x: x.est, reverse=True):\n",
        "    if pred.iid != random_movie_id and pred.iid not in [r[0] for r in recommendations] and pred.est >= 4:\n",
        "        movie_language = recomendador_mejorado.loc[recomendador_mejorado['movieId'] == pred.iid, 'original_language'].iloc[0]\n",
        "        if movie_language == original_language:\n",
        "            recommendations.append((pred.iid, pred.est))\n",
        "\n",
        "# Ordenar las recomendaciones por budget y vote_average\n",
        "recommendations.sort(key=lambda x: (filtered_movies.loc[filtered_movies['movieId'] == x[0], 'budget'].iloc[0],\n",
        "                                    filtered_movies.loc[filtered_movies['movieId'] == x[0], 'vote_average'].iloc[0]),\n",
        "                     reverse=True)\n",
        "\n",
        "# Mostrar la película elegida aleatoriamente para el usuario\n",
        "random_movie_title = get_movie_title_from_id(random_movie_id, recomendador_mejorado)\n",
        "print(\"Película elegida aleatoriamente para el usuario\", userId, \":\")\n",
        "print(random_movie_title, \"(ID:\", random_movie_id, \")\")\n",
        "\n",
        "# Mostrar las recomendaciones para el usuario\n",
        "print(\"\\nTop 10 películas recomendadas para el usuario\", userId, \":\")\n",
        "\n",
        "# Mostrar recomendaciones si están disponibles, de lo contrario, mostrar un mensaje adecuado\n",
        "if len(recommendations) == 0:\n",
        "    print(\"Por el momento no hay recomendaciones disponibles para la película seleccionada.\")\n",
        "elif len(recommendations) < 10:\n",
        "    for movie_id, estimated_rating in recommendations:\n",
        "        movie_title = get_movie_title_from_id(movie_id, recomendador_mejorado)\n",
        "        print(movie_title, \"(ID:\", movie_id, \") - Est. Rating:\", estimated_rating)\n",
        "    print(\"Por el momento no se dispone de más recomendaciones para la película seleccionada.\")\n",
        "else:\n",
        "    for movie_id, estimated_rating in recommendations[:10]:\n",
        "        movie_title = get_movie_title_from_id(movie_id, recomendador_mejorado)\n",
        "        print(movie_title, \"(ID:\", movie_id, \") - Est. Rating:\", estimated_rating)\n"
      ],
      "metadata": {
        "colab": {
          "base_uri": "https://localhost:8080/"
        },
        "outputId": "af1d3997-fafc-47a7-8190-0c38cc205792",
        "id": "OAfXstLkMWGY"
      },
      "execution_count": null,
      "outputs": [
        {
          "output_type": "stream",
          "name": "stdout",
          "text": [
            "Mean Squared Error (MSE): 0.6447992327520169\n",
            "Película elegida aleatoriamente para el usuario 34513 :\n",
            "Le fabuleux destin d'Amélie Poulain (ID: 150 )\n",
            "\n",
            "Top 10 películas recomendadas para el usuario 34513 :\n",
            "Banlieue 13 - Ultimatum (ID: 3020 ) - Est. Rating: 4.027474988555575\n",
            "Paris, je t'aime (ID: 1189 ) - Est. Rating: 4.037204588249442\n",
            "La science des rêves (ID: 1193 ) - Est. Rating: 4.176952889021026\n",
            "Vivre sa vie: film en douze tableaux (ID: 524 ) - Est. Rating: 4.150330018871714\n",
            "La Grande Illusion (ID: 94 ) - Est. Rating: 4.157851123776297\n",
            "Seul contre tous (ID: 162 ) - Est. Rating: 4.120010454925813\n",
            "La Salamandre (ID: 5992 ) - Est. Rating: 4.151084268225381\n",
            "Le château de ma mère (ID: 1200 ) - Est. Rating: 4.113884696045402\n",
            "Belle de jour (ID: 1617 ) - Est. Rating: 4.0903601561924186\n",
            "Domicile Conjugal (ID: 2114 ) - Est. Rating: 4.108831805831694\n"
          ]
        }
      ]
    },
    {
      "cell_type": "code",
      "source": [
        "filtered_movies.info()\n"
      ],
      "metadata": {
        "colab": {
          "base_uri": "https://localhost:8080/"
        },
        "id": "8QIYOLIHD8Nx",
        "outputId": "855a24c2-970f-4e96-9eb2-93a8bb1c1ced"
      },
      "execution_count": null,
      "outputs": [
        {
          "output_type": "stream",
          "name": "stdout",
          "text": [
            "<class 'pandas.core.frame.DataFrame'>\n",
            "Int64Index: 2069 entries, 64 to 39546\n",
            "Data columns (total 13 columns):\n",
            " #   Column                Non-Null Count  Dtype  \n",
            "---  ------                --------------  -----  \n",
            " 0   userId                2069 non-null   int64  \n",
            " 1   movieId               2069 non-null   int64  \n",
            " 2   rating                2069 non-null   float64\n",
            " 3   genres                2069 non-null   object \n",
            " 4   vote_average          2069 non-null   float64\n",
            " 5   vote_count            2069 non-null   float64\n",
            " 6   popularity            2069 non-null   float64\n",
            " 7   original_language     2069 non-null   object \n",
            " 8   original_title        2069 non-null   object \n",
            " 9   budget                2069 non-null   float64\n",
            " 10  cast                  2069 non-null   object \n",
            " 11  crew                  2069 non-null   object \n",
            " 12  genre_avg_popularity  2069 non-null   float64\n",
            "dtypes: float64(6), int64(2), object(5)\n",
            "memory usage: 226.3+ KB\n"
          ]
        }
      ]
    },
    {
      "cell_type": "markdown",
      "source": [
        "### **Recomendador mejorado** (filtrado adicional con cast y crew)"
      ],
      "metadata": {
        "id": "XDEnUCbUzoAL"
      }
    },
    {
      "cell_type": "code",
      "source": [
        "import pandas as pd\n",
        "import random\n",
        "from surprise import Dataset, Reader, SVD\n",
        "from surprise.model_selection import train_test_split\n",
        "from sklearn.metrics import mean_squared_error\n",
        "\n",
        "# Definir la función para obtener el título de la película dado su ID\n",
        "def get_movie_title_from_id(movie_id, dataframe):\n",
        "    movie_title = dataframe.loc[dataframe['movieId'] == movie_id, 'original_title'].iloc[0]\n",
        "    return movie_title\n",
        "\n",
        "# Filtrar películas por género e idioma, dando preferencia al género con mayor genre_avg_popularity\n",
        "def filter_movies_by_genre_language_and_popularity(movie_id, dataframe):\n",
        "    # Obtener los géneros de la película seleccionada\n",
        "    movie_genres = dataframe.loc[dataframe['movieId'] == movie_id, 'genres'].iloc[0].split('|')\n",
        "\n",
        "    # Ordenar los géneros según su genre_avg_popularity\n",
        "    movie_genres.sort(key=lambda genre: dataframe[dataframe['genres'].str.contains(genre)]['genre_avg_popularity'].mean(), reverse=True)\n",
        "\n",
        "    # Filtrar películas por género e idioma, dando prioridad al género con mayor genre_avg_popularity\n",
        "    filtered_movies = dataframe[dataframe['genres'].str.contains('|'.join(movie_genres))]\n",
        "    movie_language = dataframe.loc[dataframe['movieId'] == movie_id, 'original_language'].iloc[0]\n",
        "    filtered_movies = filtered_movies[filtered_movies['original_language'] == movie_language]\n",
        "\n",
        "    return filtered_movies\n",
        "\n",
        "# Obtener lista de userId únicos\n",
        "unique_user_ids = recomendador_mejorado['userId'].unique()\n",
        "\n",
        "# Seleccionar aleatoriamente un userId existente\n",
        "userId = random.choice(unique_user_ids)\n",
        "\n",
        "# Filtrar DataFrame para obtener todos los movieId asociados con userId seleccionado\n",
        "movies_for_user = recomendador_mejorado.loc[recomendador_mejorado['userId'] == userId, 'movieId'].unique()\n",
        "\n",
        "# Seleccionar aleatoriamente un movieId asociado con userId seleccionado\n",
        "random_movie_id = random.choice(movies_for_user)\n",
        "\n",
        "# Obtener el idioma original de la película seleccionada aleatoriamente\n",
        "original_language = recomendador_mejorado.loc[recomendador_mejorado['movieId'] == random_movie_id, 'original_language'].iloc[0]\n",
        "\n",
        "# Filtrar películas por género, idioma, dando preferencia al género con mayor genre_avg_popularity\n",
        "filtered_movies = filter_movies_by_genre_language_and_popularity(random_movie_id, recomendador_mejorado)\n",
        "\n",
        "# Si no hay suficientes datos, imprimir un mensaje y mostrar las recomendaciones disponibles\n",
        "if len(filtered_movies) < 10:\n",
        "    print(\"Por el momento no hay suficientes películas disponibles en el mismo idioma para generar 10 recomendaciones.\")\n",
        "    print(\"Recomendaciones disponibles:\")\n",
        "    for movie_id in filtered_movies['movieId']:\n",
        "        movie_title = get_movie_title_from_id(movie_id, recomendador_mejorado)\n",
        "        print(movie_title)\n",
        "    exit()\n",
        "\n",
        "# Configurar los datos para el modelo\n",
        "reader = Reader(rating_scale=(0, 5))\n",
        "data = Dataset.load_from_df(filtered_movies[['userId', 'movieId', 'rating']], reader)\n",
        "\n",
        "# Dividir los datos en conjuntos de entrenamiento y prueba\n",
        "trainset_user, testset_user = train_test_split(data, test_size=0.2, random_state=42)\n",
        "\n",
        "# Definir los mejores parámetros para el modelo\n",
        "best_params_user = {'n_factors': 100, 'n_epochs': 20, 'lr_all': 0.005}\n",
        "\n",
        "# Entrenar el modelo\n",
        "model_user = SVD(**best_params_user)\n",
        "model_user.fit(trainset_user)\n",
        "\n",
        "# Generar predicciones para todo el conjunto de datos\n",
        "predictions = model_user.test(data.build_full_trainset().build_testset())\n",
        "\n",
        "# Obtener las verdaderas calificaciones\n",
        "true_ratings = [rating for (_, _, rating) in data.build_full_trainset().build_testset()]\n",
        "\n",
        "# Calcular el error cuadrático medio (MSE)\n",
        "mse = mean_squared_error(true_ratings, [pred.est for pred in predictions])\n",
        "print(\"Mean Squared Error (MSE):\", mse)\n",
        "\n",
        "# Obtener las mejores recomendaciones, evitando duplicados y la película elegida aleatoriamente\n",
        "recommendations = []\n",
        "for pred in sorted(predictions, key=lambda x: x.est, reverse=True):\n",
        "    if pred.iid != random_movie_id and pred.iid not in [r[0] for r in recommendations] and pred.est >= 4:\n",
        "        movie_language = recomendador_mejorado.loc[recomendador_mejorado['movieId'] == pred.iid, 'original_language'].iloc[0]\n",
        "        if movie_language == original_language:\n",
        "            recommendations.append((pred.iid, pred.est))\n",
        "\n",
        "# Obtener el cast y el crew de la película elegida aleatoriamente\n",
        "random_movie_cast_crew = recomendador_mejorado.loc[recomendador_mejorado['movieId'] == random_movie_id, ['cast', 'crew']].iloc[0]\n",
        "\n",
        "# Filtrar las recomendaciones para incluir aquellas que tienen el mismo cast o crew\n",
        "final_recommendations = []\n",
        "for movie_id, estimated_rating in recommendations:\n",
        "    movie_cast_crew = recomendador_mejorado.loc[recomendador_mejorado['movieId'] == movie_id, ['cast', 'crew']].iloc[0]\n",
        "    if any(actor in random_movie_cast_crew['cast'] for actor in movie_cast_crew['cast']) or any(crew_member in random_movie_cast_crew['crew'] for crew_member in movie_cast_crew['crew']):\n",
        "        final_recommendations.append((movie_id, estimated_rating))\n",
        "\n",
        "# Ordenar las recomendaciones por budget y vote_average\n",
        "final_recommendations.sort(key=lambda x: (filtered_movies.loc[filtered_movies['movieId'] == x[0], 'budget'].iloc[0],\n",
        "                                           filtered_movies.loc[filtered_movies['movieId'] == x[0], 'vote_average'].iloc[0]),\n",
        "                            reverse=True)\n",
        "\n",
        "# Mostrar la película elegida aleatoriamente para el usuario\n",
        "random_movie_title = get_movie_title_from_id(random_movie_id, recomendador_mejorado)\n",
        "print(\"Película elegida aleatoriamente para el usuario\", userId, \":\")\n",
        "print(random_movie_title, \"(ID:\", random_movie_id, \")\")\n",
        "\n",
        "# Mostrar las recomendaciones para el usuario\n",
        "print(\"\\nTop 10 películas recomendadas para el usuario\", userId, \":\")\n",
        "if len(final_recommendations) == 0:\n",
        "    print(\"Por el momento no hay recomendaciones disponibles.\")\n",
        "elif len(final_recommendations) < 10:\n",
        "    for movie_id, estimated_rating in final_recommendations:\n",
        "        movie_title = get_movie_title_from_id(movie_id, recomendador_mejorado)\n",
        "        print(movie_title, \"(ID:\", movie_id, \") - Est. Rating:\", estimated_rating)\n",
        "    print(\"Por el momento no se dispone de más recomendaciones.\")\n",
        "else:\n",
        "    for movie_id, estimated_rating in final_recommendations[:10]:\n",
        "        movie_title = get_movie_title_from_id(movie_id, recomendador_mejorado)\n",
        "        print(movie_title, \"(ID:\", movie_id, \") - Est. Rating:\", estimated_rating)\n"
      ],
      "metadata": {
        "colab": {
          "base_uri": "https://localhost:8080/"
        },
        "outputId": "2c04bc2d-aab8-489d-e005-4881acf57ba9",
        "id": "tJpJDst7NLy4"
      },
      "execution_count": null,
      "outputs": [
        {
          "output_type": "stream",
          "name": "stdout",
          "text": [
            "Mean Squared Error (MSE): 0.5958616430104314\n",
            "Película elegida aleatoriamente para el usuario 64678 :\n",
            "Finding Nemo (ID: 1 )\n",
            "\n",
            "Top 10 películas recomendadas para el usuario 64678 :\n",
            "Pirates of the Caribbean: At World's End (ID: 908 ) - Est. Rating: 4.449658269687035\n",
            "The Chronicles of Narnia: Prince Caspian (ID: 910 ) - Est. Rating: 4.04412185119774\n",
            "Ocean's Twelve (ID: 262 ) - Est. Rating: 4.097314304324622\n",
            "Ali (ID: 1225 ) - Est. Rating: 4.033893509910836\n",
            "The Lord of the Rings: The Return of the King (ID: 333 ) - Est. Rating: 4.067821186555257\n",
            "Spy Game (ID: 1580 ) - Est. Rating: 4.2594196571534635\n",
            "The Stepford Wives (ID: 199 ) - Est. Rating: 4.184505954254023\n",
            "Awake (ID: 916 ) - Est. Rating: 4.22184101815447\n",
            "Ice Age: The Meltdown (ID: 319 ) - Est. Rating: 4.009197995981066\n",
            "Meet the Fockers (ID: 223 ) - Est. Rating: 4.331763120472268\n"
          ]
        }
      ]
    },
    {
      "cell_type": "code",
      "source": [
        "filtered_movies.info()"
      ],
      "metadata": {
        "colab": {
          "base_uri": "https://localhost:8080/"
        },
        "id": "swt8D3e4zop4",
        "outputId": "ec69cc44-b1c2-422a-f9f1-56b02d1e68c4"
      },
      "execution_count": null,
      "outputs": [
        {
          "output_type": "stream",
          "name": "stdout",
          "text": [
            "<class 'pandas.core.frame.DataFrame'>\n",
            "Int64Index: 26961 entries, 2 to 39545\n",
            "Data columns (total 13 columns):\n",
            " #   Column                Non-Null Count  Dtype  \n",
            "---  ------                --------------  -----  \n",
            " 0   userId                26961 non-null  int64  \n",
            " 1   movieId               26961 non-null  int64  \n",
            " 2   rating                26961 non-null  float64\n",
            " 3   genres                26961 non-null  object \n",
            " 4   vote_average          26961 non-null  float64\n",
            " 5   vote_count            26961 non-null  float64\n",
            " 6   popularity            26961 non-null  float64\n",
            " 7   original_language     26961 non-null  object \n",
            " 8   original_title        26961 non-null  object \n",
            " 9   budget                26961 non-null  float64\n",
            " 10  cast                  26961 non-null  object \n",
            " 11  crew                  26961 non-null  object \n",
            " 12  genre_avg_popularity  26961 non-null  float64\n",
            "dtypes: float64(6), int64(2), object(5)\n",
            "memory usage: 2.9+ MB\n"
          ]
        }
      ]
    },
    {
      "cell_type": "markdown",
      "source": [
        "En esta versión, las recomendaciones se filtran antes de ordenarlas por budget y vote_average, **lo que garantiza que se tengan en cuenta las preferencias basadas en el cast o crew de la película seleccionada aleatoriamente.**\n",
        "\n",
        "**Esto ayuda mucho más a personalizar las recomendaciones y a mejorar la probabilidad de que al usuario le gusten muchísimo más las películas sugeridas.**"
      ],
      "metadata": {
        "id": "w5dJfgmVzpBl"
      }
    },
    {
      "cell_type": "markdown",
      "source": [
        "### **Aplicación Web Interactiva** (Recomendador híbrido)\n",
        "\n",
        "Crearemos la aplicación web interactiva donde los usuarios podrán recibir **recomendaciones de 10 películas con solo hacer click en el botón \"Mostrar recomendaciones\"** de la aplicación.\n",
        "\n",
        "El código utilizará Dash para crear la aplicación web interactiva que además actualizará dinámicamente el contenido de la página web en función de la interacción del usuario."
      ],
      "metadata": {
        "id": "DqD5dRt6E-31"
      }
    },
    {
      "cell_type": "code",
      "source": [
        "! pip install dash\n"
      ],
      "metadata": {
        "colab": {
          "base_uri": "https://localhost:8080/"
        },
        "id": "5_40Ncl-E-RC",
        "outputId": "442ece90-035b-463d-94ba-ca0e22acca78"
      },
      "execution_count": null,
      "outputs": [
        {
          "output_type": "stream",
          "name": "stdout",
          "text": [
            "Collecting dash\n",
            "  Downloading dash-2.15.0-py3-none-any.whl (10.2 MB)\n",
            "\u001b[2K     \u001b[90m━━━━━━━━━━━━━━━━━━━━━━━━━━━━━━━━━━━━━━━━\u001b[0m \u001b[32m10.2/10.2 MB\u001b[0m \u001b[31m16.2 MB/s\u001b[0m eta \u001b[36m0:00:00\u001b[0m\n",
            "\u001b[?25hRequirement already satisfied: Flask<3.1,>=1.0.4 in /usr/local/lib/python3.10/dist-packages (from dash) (2.2.5)\n",
            "Requirement already satisfied: Werkzeug<3.1 in /usr/local/lib/python3.10/dist-packages (from dash) (3.0.1)\n",
            "Requirement already satisfied: plotly>=5.0.0 in /usr/local/lib/python3.10/dist-packages (from dash) (5.15.0)\n",
            "Collecting dash-html-components==2.0.0 (from dash)\n",
            "  Downloading dash_html_components-2.0.0-py3-none-any.whl (4.1 kB)\n",
            "Collecting dash-core-components==2.0.0 (from dash)\n",
            "  Downloading dash_core_components-2.0.0-py3-none-any.whl (3.8 kB)\n",
            "Collecting dash-table==5.0.0 (from dash)\n",
            "  Downloading dash_table-5.0.0-py3-none-any.whl (3.9 kB)\n",
            "Requirement already satisfied: typing-extensions>=4.1.1 in /usr/local/lib/python3.10/dist-packages (from dash) (4.9.0)\n",
            "Requirement already satisfied: requests in /usr/local/lib/python3.10/dist-packages (from dash) (2.31.0)\n",
            "Collecting retrying (from dash)\n",
            "  Downloading retrying-1.3.4-py3-none-any.whl (11 kB)\n",
            "Requirement already satisfied: nest-asyncio in /usr/local/lib/python3.10/dist-packages (from dash) (1.6.0)\n",
            "Requirement already satisfied: setuptools in /usr/local/lib/python3.10/dist-packages (from dash) (67.7.2)\n",
            "Requirement already satisfied: importlib-metadata in /usr/local/lib/python3.10/dist-packages (from dash) (7.0.1)\n",
            "Requirement already satisfied: Jinja2>=3.0 in /usr/local/lib/python3.10/dist-packages (from Flask<3.1,>=1.0.4->dash) (3.1.3)\n",
            "Requirement already satisfied: itsdangerous>=2.0 in /usr/local/lib/python3.10/dist-packages (from Flask<3.1,>=1.0.4->dash) (2.1.2)\n",
            "Requirement already satisfied: click>=8.0 in /usr/local/lib/python3.10/dist-packages (from Flask<3.1,>=1.0.4->dash) (8.1.7)\n",
            "Requirement already satisfied: tenacity>=6.2.0 in /usr/local/lib/python3.10/dist-packages (from plotly>=5.0.0->dash) (8.2.3)\n",
            "Requirement already satisfied: packaging in /usr/local/lib/python3.10/dist-packages (from plotly>=5.0.0->dash) (23.2)\n",
            "Requirement already satisfied: MarkupSafe>=2.1.1 in /usr/local/lib/python3.10/dist-packages (from Werkzeug<3.1->dash) (2.1.5)\n",
            "Requirement already satisfied: zipp>=0.5 in /usr/local/lib/python3.10/dist-packages (from importlib-metadata->dash) (3.17.0)\n",
            "Requirement already satisfied: charset-normalizer<4,>=2 in /usr/local/lib/python3.10/dist-packages (from requests->dash) (3.3.2)\n",
            "Requirement already satisfied: idna<4,>=2.5 in /usr/local/lib/python3.10/dist-packages (from requests->dash) (3.6)\n",
            "Requirement already satisfied: urllib3<3,>=1.21.1 in /usr/local/lib/python3.10/dist-packages (from requests->dash) (2.0.7)\n",
            "Requirement already satisfied: certifi>=2017.4.17 in /usr/local/lib/python3.10/dist-packages (from requests->dash) (2024.2.2)\n",
            "Requirement already satisfied: six>=1.7.0 in /usr/local/lib/python3.10/dist-packages (from retrying->dash) (1.16.0)\n",
            "Installing collected packages: dash-table, dash-html-components, dash-core-components, retrying, dash\n",
            "Successfully installed dash-2.15.0 dash-core-components-2.0.0 dash-html-components-2.0.0 dash-table-5.0.0 retrying-1.3.4\n"
          ]
        }
      ]
    },
    {
      "cell_type": "code",
      "source": [
        "import pandas as pd\n",
        "import random\n",
        "from surprise import Dataset, Reader, SVD\n",
        "from surprise.model_selection import train_test_split\n",
        "from sklearn.metrics import mean_squared_error\n",
        "import dash\n",
        "from dash import dcc, html, Input, Output\n",
        "\n",
        "# Cargar los datos de las películas (recomendador_mejorado)\n",
        "#recomendador_mejorado = pd.read_csv('recomendador_mejorado.csv')\n",
        "\n",
        "# Definir la función para obtener el título de la película dado su ID\n",
        "def get_movie_title_from_id(movie_id, dataframe):\n",
        "    movie_title = dataframe.loc[dataframe['movieId'] == movie_id, 'original_title'].iloc[0]\n",
        "    return movie_title\n",
        "\n",
        "# Filtrar películas por género e idioma, dando preferencia al género con mayor genre_avg_popularity\n",
        "def filter_movies_by_genre_language_and_popularity(movie_id, dataframe):\n",
        "    # Obtener los géneros de la película seleccionada\n",
        "    movie_genres = dataframe.loc[dataframe['movieId'] == movie_id, 'genres'].iloc[0].split('|')\n",
        "\n",
        "    # Ordenar los géneros según su genre_avg_popularity\n",
        "    movie_genres.sort(key=lambda genre: dataframe[dataframe['genres'].str.contains(genre)]['genre_avg_popularity'].mean(), reverse=True)\n",
        "\n",
        "    # Filtrar películas por género e idioma, dando prioridad al género con mayor genre_avg_popularity\n",
        "    filtered_movies = dataframe[dataframe['genres'].str.contains('|'.join(movie_genres))]\n",
        "    movie_language = dataframe.loc[dataframe['movieId'] == movie_id, 'original_language'].iloc[0]\n",
        "    filtered_movies = filtered_movies[filtered_movies['original_language'] == movie_language]\n",
        "\n",
        "    return filtered_movies\n",
        "\n",
        "\n",
        "# Obtener lista de userId únicos\n",
        "unique_user_ids = recomendador_mejorado['userId'].unique()\n",
        "\n",
        "# Seleccionar aleatoriamente un userId existente\n",
        "userId = random.choice(unique_user_ids)\n",
        "\n",
        "# Filtrar DataFrame para obtener todos los movieId asociados con userId seleccionado\n",
        "movies_for_user = recomendador_mejorado.loc[recomendador_mejorado['userId'] == userId, 'movieId'].unique()\n",
        "\n",
        "# Seleccionar aleatoriamente un movieId asociado con userId seleccionado\n",
        "random_movie_id = random.choice(movies_for_user)\n",
        "\n",
        "# Obtener el idioma original de la película seleccionada aleatoriamente\n",
        "original_language = recomendador_mejorado.loc[recomendador_mejorado['movieId'] == random_movie_id, 'original_language'].iloc[0]\n",
        "\n",
        "# Filtrar películas por género, idioma, dando preferencia al género con mayor genre_avg_popularity\n",
        "filtered_movies = filter_movies_by_genre_language_and_popularity(random_movie_id, recomendador_mejorado)\n",
        "\n",
        "# Si no hay suficientes datos, imprimir un mensaje y mostrar las recomendaciones disponibles\n",
        "if len(filtered_movies) < 10:\n",
        "    print(\"Por el momento no hay suficientes películas disponibles en el mismo idioma para generar 10 recomendaciones.\")\n",
        "    print(\"Recomendaciones disponibles:\")\n",
        "    for movie_id in filtered_movies['movieId']:\n",
        "        movie_title = get_movie_title_from_id(movie_id, recomendador_mejorado)\n",
        "        print(movie_title)\n",
        "    exit()\n",
        "\n",
        "# Configurar los datos para el modelo\n",
        "reader = Reader(rating_scale=(0, 5))\n",
        "data = Dataset.load_from_df(filtered_movies[['userId', 'movieId', 'rating']], reader)\n",
        "\n",
        "# Dividir los datos en conjuntos de entrenamiento y prueba\n",
        "trainset_user, testset_user = train_test_split(data, test_size=0.2, random_state=42)\n",
        "\n",
        "# Definir los mejores parámetros para el modelo\n",
        "best_params_user = {'n_factors': 100, 'n_epochs': 20, 'lr_all': 0.005}\n",
        "\n",
        "# Entrenar el modelo\n",
        "model_user = SVD(**best_params_user)\n",
        "model_user.fit(trainset_user)\n",
        "\n",
        "# Generar predicciones para todo el conjunto de datos\n",
        "predictions = model_user.test(data.build_full_trainset().build_testset())\n",
        "\n",
        "# Obtener las verdaderas calificaciones\n",
        "true_ratings = [rating for (_, _, rating) in data.build_full_trainset().build_testset()]\n",
        "\n",
        "# Calcular el error cuadrático medio (MSE)\n",
        "#mse = mean_squared_error(true_ratings, [pred.est for pred in predictions])\n",
        "#print(\"Mean Squared Error (MSE):\", mse)\n",
        "\n",
        "# Obtener las mejores recomendaciones, evitando duplicados y la película elegida aleatoriamente\n",
        "recommendations = []\n",
        "for pred in sorted(predictions, key=lambda x: x.est, reverse=True):\n",
        "    if pred.iid != random_movie_id and pred.iid not in [r[0] for r in recommendations] and pred.est >= 4:\n",
        "        movie_language = recomendador_mejorado.loc[recomendador_mejorado['movieId'] == pred.iid, 'original_language'].iloc[0]\n",
        "        if movie_language == original_language:\n",
        "            recommendations.append((pred.iid, pred.est))\n",
        "\n",
        "# Obtener el cast y el crew de la película elegida aleatoriamente\n",
        "random_movie_cast_crew = recomendador_mejorado.loc[recomendador_mejorado['movieId'] == random_movie_id, ['cast', 'crew']].iloc[0]\n",
        "\n",
        "# Filtrar las recomendaciones para incluir aquellas que tienen el mismo cast o crew\n",
        "final_recommendations = []\n",
        "for movie_id, estimated_rating in recommendations:\n",
        "    movie_cast_crew = recomendador_mejorado.loc[recomendador_mejorado['movieId'] == movie_id, ['cast', 'crew']].iloc[0]\n",
        "    if any(actor in random_movie_cast_crew['cast'] for actor in movie_cast_crew['cast']) or any(crew_member in random_movie_cast_crew['crew'] for crew_member in movie_cast_crew['crew']):\n",
        "        final_recommendations.append((movie_id, estimated_rating))\n",
        "\n",
        "# Ordenar las recomendaciones por budget y vote_average\n",
        "final_recommendations.sort(key=lambda x: (filtered_movies.loc[filtered_movies['movieId'] == x[0], 'budget'].iloc[0],\n",
        "                                           filtered_movies.loc[filtered_movies['movieId'] == x[0], 'vote_average'].iloc[0]),\n",
        "                            reverse=True)\n",
        "\n",
        "# Iniciar la aplicación Dash\n",
        "app = dash.Dash(__name__)\n",
        "\n",
        "# Definir el diseño de la aplicación\n",
        "app.layout = html.Div([\n",
        "    html.H1(\"Recomendaciones de Películas\"),\n",
        "    html.Button(\"Mostrar recomendaciones\", id=\"show-recommendations-btn\"),\n",
        "    html.Div(id=\"recommendations-output\")\n",
        "])\n",
        "\n",
        "# Definir la función de callback para mostrar las recomendaciones al hacer clic en el botón\n",
        "@app.callback(\n",
        "    Output(\"recommendations-output\", \"children\"),\n",
        "    [Input(\"show-recommendations-btn\", \"n_clicks\")]\n",
        ")\n",
        "def show_recommendations(n_clicks):\n",
        "    if n_clicks:\n",
        "        output_text = []\n",
        "\n",
        "        # Mostrar la película elegida aleatoriamente para el usuario\n",
        "        output_text.append(html.H3(\"Película elegida aleatoriamente para el usuario {}: {} (ID: {})\".format(userId, random_movie_title, random_movie_id)))\n",
        "\n",
        "        # Mostrar las recomendaciones para el usuario\n",
        "        if len(final_recommendations) == 0:\n",
        "            output_text.append(html.P(\"Por el momento no hay recomendaciones disponibles.\"))\n",
        "        elif len(final_recommendations) < 10:\n",
        "            for movie_id, estimated_rating in final_recommendations:\n",
        "                movie_title = get_movie_title_from_id(movie_id, recomendador_mejorado)\n",
        "                output_text.append(html.P(\"{} (ID: {}) - Est. Rating: {}\".format(movie_title, movie_id, estimated_rating)))\n",
        "            output_text.append(html.P(\"Por el momento no se dispone de más recomendaciones.\"))\n",
        "        else:\n",
        "            for movie_id, estimated_rating in final_recommendations[:10]:\n",
        "                movie_title = get_movie_title_from_id(movie_id, recomendador_mejorado)\n",
        "                output_text.append(html.P(\"{} (ID: {}) - Est. Rating: {}\".format(movie_title, movie_id, estimated_rating)))\n",
        "\n",
        "        return output_text\n",
        "\n",
        "    return \"\"\n",
        "\n",
        "# Ejecutar la aplicación en este script\n",
        "if __name__ == '__main__':\n",
        "    app.run_server(debug=True)\n"
      ],
      "metadata": {
        "colab": {
          "base_uri": "https://localhost:8080/",
          "height": 671
        },
        "outputId": "71dab7cc-acca-46cf-9458-bfb0d9672bda",
        "id": "mZlJ8ViSQpDO"
      },
      "execution_count": null,
      "outputs": [
        {
          "output_type": "display_data",
          "data": {
            "text/plain": [
              "<IPython.core.display.Javascript object>"
            ],
            "application/javascript": [
              "(async (port, path, width, height, cache, element) => {\n",
              "    if (!google.colab.kernel.accessAllowed && !cache) {\n",
              "      return;\n",
              "    }\n",
              "    element.appendChild(document.createTextNode(''));\n",
              "    const url = await google.colab.kernel.proxyPort(port, {cache});\n",
              "    const iframe = document.createElement('iframe');\n",
              "    iframe.src = new URL(path, url).toString();\n",
              "    iframe.height = height;\n",
              "    iframe.width = width;\n",
              "    iframe.style.border = 0;\n",
              "    iframe.allow = [\n",
              "        'accelerometer',\n",
              "        'autoplay',\n",
              "        'camera',\n",
              "        'clipboard-read',\n",
              "        'clipboard-write',\n",
              "        'gyroscope',\n",
              "        'magnetometer',\n",
              "        'microphone',\n",
              "        'serial',\n",
              "        'usb',\n",
              "        'xr-spatial-tracking',\n",
              "    ].join('; ');\n",
              "    element.appendChild(iframe);\n",
              "  })(8050, \"/\", \"100%\", 650, false, window.element)"
            ]
          },
          "metadata": {}
        }
      ]
    },
    {
      "cell_type": "markdown",
      "source": [
        "# **Ejecución de la App desde la terminal**\n",
        "\n",
        "Para poder ver la aplicación en una pestaña del navegador en local, ejecutar el archivo app.py desde la terminal del ordenador.\n",
        "\n",
        "Para ello hay que seguir los siguientes pasos:\n",
        "- ambos archivos, **app.py** y **recomendador_mejorado.csv**, deberán encontrarse en la misma carpeta local.\n",
        "- desde la terminal ``cd /Users/estefaniajimenezsaavedra/TFM_recomendador_peliculas/``\n",
        "\n",
        "    (**sustituir /Users/estefaniajimenezsaavedra/TFM_recomendador_peliculas/ por la ruta local**).\n",
        "- una vez en el directorio donde se encuentra el archivo app.py, ejecutar el comando **python3 app.py**.\n",
        "\n",
        "\n",
        "Cuando la terminal termine de leer el script del archivo app.py, ésta ofrecerá el link de la url (Dash is running on http://127.0.0.1:8050/) sobre el que hacer click para abrir en una pestaña del navegador la aplicación en local.\n",
        "\n",
        "\n",
        "**Para cerrar la aplicación desde la terminal:**\n",
        "Press CTRL+C"
      ],
      "metadata": {
        "id": "5MdiJnb4OBDW"
      }
    },
    {
      "cell_type": "markdown",
      "source": [
        "## **CONCLUSIÓN**\n",
        "\n",
        "El nuevo modelo de recomendación de películas mejorado sigue siendo de filtrado colaborativo basado en el usuario porque todavía se utiliza la información de las interacciones del usuario para hacer recomendaciones. Sin embargo, ahora hemos mejorado este enfoque al incorporar información adicional sobre las películas, como sus géneros, idioma original, la popularidad promedio de sus géneros, el budget y la calificación promedia.\n",
        "\n",
        "Al incluir estas características adicionales, el modelo ha podido proporcionar recomendaciones más precisas y personalizadas al tener en cuenta más información sobre las preferencias del usuario y las características de las películas lo que puede conducir a una mejor experiencia de recomendación para los usuarios al presentarles películas que son más relevantes para sus gustos y preferencias."
      ],
      "metadata": {
        "id": "mQtOrtFtM69t"
      }
    },
    {
      "cell_type": "markdown",
      "source": [
        "## **Parquet (recomendador_mejorado)**"
      ],
      "metadata": {
        "id": "_ZhjRel-ASih"
      }
    },
    {
      "cell_type": "code",
      "source": [
        "#recomendador_mejorado.to_parquet('recomendador_mejorado.parquet')"
      ],
      "metadata": {
        "id": "Up52no-g6crp"
      },
      "execution_count": null,
      "outputs": []
    },
    {
      "cell_type": "code",
      "source": [
        "#import os\n",
        "\n",
        "# Obtener el directorio actual\n",
        "#current_directory = os.getcwd()\n",
        "#print(\"Directorio actual:\", current_directory)\n"
      ],
      "metadata": {
        "colab": {
          "base_uri": "https://localhost:8080/"
        },
        "id": "h7dwjhw09LSG",
        "outputId": "048675bc-1993-4a76-ccbc-72914710ec75"
      },
      "execution_count": null,
      "outputs": [
        {
          "output_type": "stream",
          "name": "stdout",
          "text": [
            "Directorio actual: /content\n"
          ]
        }
      ]
    },
    {
      "cell_type": "code",
      "source": [
        "#recomendador_mejorado = pd.read_parquet('recomendador_mejorado.parquet')"
      ],
      "metadata": {
        "id": "Za6_QPQb6ekw"
      },
      "execution_count": null,
      "outputs": []
    },
    {
      "cell_type": "code",
      "source": [
        "#from google.colab import files\n",
        "\n",
        "# Especifica la ruta del archivo que deseas descargar\n",
        "#ruta_archivo = \"recomendador_mejorado.parquet\"\n",
        "\n",
        "# Descarga el archivo\n",
        "#files.download(ruta_archivo)\n"
      ],
      "metadata": {
        "colab": {
          "base_uri": "https://localhost:8080/",
          "height": 17
        },
        "id": "Jt8t_QyR_j5r",
        "outputId": "e2f037b4-afd4-40da-a48f-fc5579cd6899"
      },
      "execution_count": null,
      "outputs": [
        {
          "output_type": "display_data",
          "data": {
            "text/plain": [
              "<IPython.core.display.Javascript object>"
            ],
            "application/javascript": [
              "\n",
              "    async function download(id, filename, size) {\n",
              "      if (!google.colab.kernel.accessAllowed) {\n",
              "        return;\n",
              "      }\n",
              "      const div = document.createElement('div');\n",
              "      const label = document.createElement('label');\n",
              "      label.textContent = `Downloading \"${filename}\": `;\n",
              "      div.appendChild(label);\n",
              "      const progress = document.createElement('progress');\n",
              "      progress.max = size;\n",
              "      div.appendChild(progress);\n",
              "      document.body.appendChild(div);\n",
              "\n",
              "      const buffers = [];\n",
              "      let downloaded = 0;\n",
              "\n",
              "      const channel = await google.colab.kernel.comms.open(id);\n",
              "      // Send a message to notify the kernel that we're ready.\n",
              "      channel.send({})\n",
              "\n",
              "      for await (const message of channel.messages) {\n",
              "        // Send a message to notify the kernel that we're ready.\n",
              "        channel.send({})\n",
              "        if (message.buffers) {\n",
              "          for (const buffer of message.buffers) {\n",
              "            buffers.push(buffer);\n",
              "            downloaded += buffer.byteLength;\n",
              "            progress.value = downloaded;\n",
              "          }\n",
              "        }\n",
              "      }\n",
              "      const blob = new Blob(buffers, {type: 'application/binary'});\n",
              "      const a = document.createElement('a');\n",
              "      a.href = window.URL.createObjectURL(blob);\n",
              "      a.download = filename;\n",
              "      div.appendChild(a);\n",
              "      a.click();\n",
              "      div.remove();\n",
              "    }\n",
              "  "
            ]
          },
          "metadata": {}
        },
        {
          "output_type": "display_data",
          "data": {
            "text/plain": [
              "<IPython.core.display.Javascript object>"
            ],
            "application/javascript": [
              "download(\"download_fc3a7cc2-6717-4992-a02f-4b2c487ca71f\", \"recomendador_mejorado.parquet\", 60953232)"
            ]
          },
          "metadata": {}
        }
      ]
    },
    {
      "cell_type": "markdown",
      "source": [
        "## **Pickle (SVD enfoque usuario)**"
      ],
      "metadata": {
        "id": "q3LPTGjzBMyg"
      }
    },
    {
      "cell_type": "code",
      "source": [
        "#import pickle\n",
        "\n",
        "# Guardar el modelo entrenado SVD\n",
        "#with open('modelo_svd.pickle', 'wb') as f:\n",
        "    #pickle.dump(model_user, f)\n"
      ],
      "metadata": {
        "id": "RMTONNvpCF9W"
      },
      "execution_count": null,
      "outputs": []
    },
    {
      "cell_type": "code",
      "source": [
        "#import os\n",
        "\n",
        "# Obtener el directorio actual\n",
        "#current_directory = os.getcwd()\n",
        "\n",
        "# Imprimir la ruta del directorio actual\n",
        "#print(\"Directorio actual:\", current_directory)\n"
      ],
      "metadata": {
        "colab": {
          "base_uri": "https://localhost:8080/"
        },
        "id": "pdgDNZ-LCJns",
        "outputId": "662516f3-4479-47f5-863f-000ef7716d25"
      },
      "execution_count": null,
      "outputs": [
        {
          "output_type": "stream",
          "name": "stdout",
          "text": [
            "Directorio actual: /content\n"
          ]
        }
      ]
    },
    {
      "cell_type": "code",
      "source": [
        "#from google.colab import files\n",
        "\n",
        "# Define el nombre del archivo pickle\n",
        "#nombre_archivo = \"modelo_svd.pickle\"\n",
        "\n",
        "# Descarga el archivo en tu sistema local\n",
        "#files.download(nombre_archivo)\n"
      ],
      "metadata": {
        "colab": {
          "base_uri": "https://localhost:8080/",
          "height": 17
        },
        "id": "S_Yv8tdTDFYA",
        "outputId": "f3a6034f-56f0-4686-c55a-411fa4c9c34f"
      },
      "execution_count": null,
      "outputs": [
        {
          "output_type": "display_data",
          "data": {
            "text/plain": [
              "<IPython.core.display.Javascript object>"
            ],
            "application/javascript": [
              "\n",
              "    async function download(id, filename, size) {\n",
              "      if (!google.colab.kernel.accessAllowed) {\n",
              "        return;\n",
              "      }\n",
              "      const div = document.createElement('div');\n",
              "      const label = document.createElement('label');\n",
              "      label.textContent = `Downloading \"${filename}\": `;\n",
              "      div.appendChild(label);\n",
              "      const progress = document.createElement('progress');\n",
              "      progress.max = size;\n",
              "      div.appendChild(progress);\n",
              "      document.body.appendChild(div);\n",
              "\n",
              "      const buffers = [];\n",
              "      let downloaded = 0;\n",
              "\n",
              "      const channel = await google.colab.kernel.comms.open(id);\n",
              "      // Send a message to notify the kernel that we're ready.\n",
              "      channel.send({})\n",
              "\n",
              "      for await (const message of channel.messages) {\n",
              "        // Send a message to notify the kernel that we're ready.\n",
              "        channel.send({})\n",
              "        if (message.buffers) {\n",
              "          for (const buffer of message.buffers) {\n",
              "            buffers.push(buffer);\n",
              "            downloaded += buffer.byteLength;\n",
              "            progress.value = downloaded;\n",
              "          }\n",
              "        }\n",
              "      }\n",
              "      const blob = new Blob(buffers, {type: 'application/binary'});\n",
              "      const a = document.createElement('a');\n",
              "      a.href = window.URL.createObjectURL(blob);\n",
              "      a.download = filename;\n",
              "      div.appendChild(a);\n",
              "      a.click();\n",
              "      div.remove();\n",
              "    }\n",
              "  "
            ]
          },
          "metadata": {}
        },
        {
          "output_type": "display_data",
          "data": {
            "text/plain": [
              "<IPython.core.display.Javascript object>"
            ],
            "application/javascript": [
              "download(\"download_5e59d560-5d47-4dc4-b348-c3d44e9b5671\", \"modelo_svd.pickle\", 19327398)"
            ]
          },
          "metadata": {}
        }
      ]
    }
  ],
  "metadata": {
    "colab": {
      "machine_shape": "hm",
      "provenance": []
    },
    "kernelspec": {
      "display_name": "Python 3",
      "name": "python3"
    },
    "language_info": {
      "name": "python"
    }
  },
  "nbformat": 4,
  "nbformat_minor": 0
}